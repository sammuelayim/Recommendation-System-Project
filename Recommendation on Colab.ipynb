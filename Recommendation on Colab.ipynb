{
 "cells": [
  {
   "cell_type": "markdown",
   "metadata": {
    "id": "JpdCVNnJbCGJ"
   },
   "source": [
    "# E-Commerce Recommendation System"
   ]
  },
  {
   "cell_type": "code",
   "execution_count": null,
   "metadata": {
    "colab": {
     "base_uri": "https://localhost:8080/"
    },
    "id": "7MoptZOMHZ9p",
    "outputId": "cff16e84-c380-415d-daad-99fc4de47ad9"
   },
   "outputs": [],
   "source": [
    "#from google.colab import drive\n",
    "#drive.mount('/content/drive')"
   ]
  },
  {
   "cell_type": "markdown",
   "metadata": {
    "id": "TfZ7gh9WbUsk"
   },
   "source": [
    "## Importation of Packages"
   ]
  },
  {
   "cell_type": "code",
   "execution_count": 1,
   "metadata": {
    "id": "TIxjSaglb6iB"
   },
   "outputs": [],
   "source": [
    "import dask.dataframe as dd\n",
    "import pandas as pd\n",
    "import numpy as np\n",
    "import matplotlib.pyplot as plt\n",
    "import seaborn as sns\n",
    "\n",
    "import warnings\n",
    "warnings.filterwarnings('ignore')"
   ]
  },
  {
   "cell_type": "markdown",
   "metadata": {
    "id": "tF-B8e4IcDOW"
   },
   "source": [
    "## Data Importation"
   ]
  },
  {
   "cell_type": "code",
   "execution_count": 3,
   "metadata": {
    "colab": {
     "base_uri": "https://localhost:8080/"
    },
    "id": "u6im3kwrP72M",
    "outputId": "79f35042-a266-4dcc-9ee9-0c190a70f479"
   },
   "outputs": [
    {
     "name": "stdout",
     "output_type": "stream",
     "text": [
      "✅ Data loading complete! Converted to Pandas for easy analysis.\n"
     ]
    }
   ],
   "source": [
    "import os\n",
    "\n",
    "# ✅ Define correct base directory\n",
    "base_dir = r\"C:\\Users\\sammu\\Downloads\\Recommendation System Project\"  # Ensure this is correct\n",
    "\n",
    "# ✅ Define file paths correctly\n",
    "events_file = os.path.join(base_dir, \"events.csv\")\n",
    "items_part1_file = os.path.join(base_dir, \"item_properties_part1.1.csv\")\n",
    "items_part2_file = os.path.join(base_dir, \"item_properties_part2.csv\")\n",
    "category_tree_file = os.path.join(base_dir, \"category_tree.csv\")\n",
    "\n",
    "# ✅ Ensure all files exist before loading\n",
    "for file in [events_file, items_part1_file, items_part2_file, category_tree_file]:\n",
    "    if not os.path.exists(file):\n",
    "        print(f\"❌ Error: File not found -> {file}\")\n",
    "        exit()\n",
    "\n",
    "# ✅ Define correct data types explicitly\n",
    "dtypes = {\n",
    "    \"property\": \"object\",\n",
    "    \"timestamp\": \"int64\",\n",
    "}\n",
    "\n",
    "# ✅ Function to optimize memory usage\n",
    "def reduce_memory(df):\n",
    "    for col in df.columns:\n",
    "        if df[col].dtype == \"int64\":\n",
    "            df[col] = df[col].astype(\"int32\")\n",
    "        elif df[col].dtype == \"float64\":\n",
    "            df[col] = df[col].astype(\"float32\")\n",
    "    return df\n",
    "\n",
    "# ✅ Load large CSV files using Dask\n",
    "def load_csv_dask(file_path):\n",
    "    return dd.read_csv(file_path, dtype=dtypes, blocksize=\"64MB\")\n",
    "\n",
    "# ✅ Load & Process Events Data\n",
    "events_ddf = load_csv_dask(events_file)\n",
    "events_ddf[\"timestamp\"] = dd.to_datetime(events_ddf[\"timestamp\"], unit=\"ms\")\n",
    "\n",
    "# ✅ Load & Process Item Properties Data\n",
    "items_part1_ddf = load_csv_dask(items_part1_file)\n",
    "items_part2_ddf = load_csv_dask(items_part2_file)\n",
    "\n",
    "# ✅ Convert timestamp column in item properties datasets\n",
    "items_part1_ddf[\"timestamp\"] = dd.to_datetime(items_part1_ddf[\"timestamp\"], unit=\"ms\")\n",
    "items_part2_ddf[\"timestamp\"] = dd.to_datetime(items_part2_ddf[\"timestamp\"], unit=\"ms\")\n",
    "\n",
    "# ✅ Merge both item properties datasets\n",
    "item_properties_ddf = dd.concat([items_part1_ddf, items_part2_ddf])\n",
    "\n",
    "# ✅ Load & Process Category Tree Data\n",
    "category_tree_ddf = load_csv_dask(category_tree_file)\n",
    "\n",
    "# ✅ Convert Dask DataFrames to Pandas for easy analysis\n",
    "events_df = reduce_memory(events_ddf.compute())\n",
    "item_properties_df = reduce_memory(item_properties_ddf.compute())\n",
    "category_tree_df = category_tree_ddf.compute()\n",
    "\n",
    "print(\"✅ Data loading complete! Converted to Pandas for easy analysis.\")\n"
   ]
  },
  {
   "cell_type": "markdown",
   "metadata": {
    "id": "EMOEU8YjcMJf"
   },
   "source": [
    "## Exploratory Data Analysis"
   ]
  },
  {
   "cell_type": "markdown",
   "metadata": {
    "id": "d1shMfTIcWU3"
   },
   "source": [
    "### 1. Data Validation and Sanity Checks"
   ]
  },
  {
   "cell_type": "markdown",
   "metadata": {
    "id": "o6V9D-LzMa8L"
   },
   "source": [
    "### Events Data"
   ]
  },
  {
   "cell_type": "code",
   "execution_count": 7,
   "metadata": {
    "colab": {
     "base_uri": "https://localhost:8080/",
     "height": 206
    },
    "id": "oE01_U0LM_Z_",
    "outputId": "60846abe-45bd-418f-b272-46a939e5880b"
   },
   "outputs": [
    {
     "data": {
      "text/html": [
       "<div>\n",
       "<style scoped>\n",
       "    .dataframe tbody tr th:only-of-type {\n",
       "        vertical-align: middle;\n",
       "    }\n",
       "\n",
       "    .dataframe tbody tr th {\n",
       "        vertical-align: top;\n",
       "    }\n",
       "\n",
       "    .dataframe thead th {\n",
       "        text-align: right;\n",
       "    }\n",
       "</style>\n",
       "<table border=\"1\" class=\"dataframe\">\n",
       "  <thead>\n",
       "    <tr style=\"text-align: right;\">\n",
       "      <th></th>\n",
       "      <th>timestamp</th>\n",
       "      <th>visitorid</th>\n",
       "      <th>event</th>\n",
       "      <th>itemid</th>\n",
       "      <th>transactionid</th>\n",
       "    </tr>\n",
       "  </thead>\n",
       "  <tbody>\n",
       "    <tr>\n",
       "      <th>0</th>\n",
       "      <td>2015-06-02 05:02:12.117</td>\n",
       "      <td>257597</td>\n",
       "      <td>view</td>\n",
       "      <td>355908</td>\n",
       "      <td>NaN</td>\n",
       "    </tr>\n",
       "    <tr>\n",
       "      <th>1</th>\n",
       "      <td>2015-06-02 05:50:14.164</td>\n",
       "      <td>992329</td>\n",
       "      <td>view</td>\n",
       "      <td>248676</td>\n",
       "      <td>NaN</td>\n",
       "    </tr>\n",
       "    <tr>\n",
       "      <th>2</th>\n",
       "      <td>2015-06-02 05:13:19.827</td>\n",
       "      <td>111016</td>\n",
       "      <td>view</td>\n",
       "      <td>318965</td>\n",
       "      <td>NaN</td>\n",
       "    </tr>\n",
       "    <tr>\n",
       "      <th>3</th>\n",
       "      <td>2015-06-02 05:12:35.914</td>\n",
       "      <td>483717</td>\n",
       "      <td>view</td>\n",
       "      <td>253185</td>\n",
       "      <td>NaN</td>\n",
       "    </tr>\n",
       "    <tr>\n",
       "      <th>4</th>\n",
       "      <td>2015-06-02 05:02:17.106</td>\n",
       "      <td>951259</td>\n",
       "      <td>view</td>\n",
       "      <td>367447</td>\n",
       "      <td>NaN</td>\n",
       "    </tr>\n",
       "  </tbody>\n",
       "</table>\n",
       "</div>"
      ],
      "text/plain": [
       "                timestamp  visitorid event  itemid  transactionid\n",
       "0 2015-06-02 05:02:12.117     257597  view  355908            NaN\n",
       "1 2015-06-02 05:50:14.164     992329  view  248676            NaN\n",
       "2 2015-06-02 05:13:19.827     111016  view  318965            NaN\n",
       "3 2015-06-02 05:12:35.914     483717  view  253185            NaN\n",
       "4 2015-06-02 05:02:17.106     951259  view  367447            NaN"
      ]
     },
     "execution_count": 7,
     "metadata": {},
     "output_type": "execute_result"
    }
   ],
   "source": [
    "events_df.head()"
   ]
  },
  {
   "cell_type": "code",
   "execution_count": 8,
   "metadata": {
    "colab": {
     "base_uri": "https://localhost:8080/",
     "height": 206
    },
    "id": "30QWyyGpQT0K",
    "outputId": "54205ef6-0144-43ff-e699-6e664571eda0"
   },
   "outputs": [
    {
     "data": {
      "text/html": [
       "<div>\n",
       "<style scoped>\n",
       "    .dataframe tbody tr th:only-of-type {\n",
       "        vertical-align: middle;\n",
       "    }\n",
       "\n",
       "    .dataframe tbody tr th {\n",
       "        vertical-align: top;\n",
       "    }\n",
       "\n",
       "    .dataframe thead th {\n",
       "        text-align: right;\n",
       "    }\n",
       "</style>\n",
       "<table border=\"1\" class=\"dataframe\">\n",
       "  <thead>\n",
       "    <tr style=\"text-align: right;\">\n",
       "      <th></th>\n",
       "      <th>timestamp</th>\n",
       "      <th>visitorid</th>\n",
       "      <th>event</th>\n",
       "      <th>itemid</th>\n",
       "      <th>transactionid</th>\n",
       "    </tr>\n",
       "  </thead>\n",
       "  <tbody>\n",
       "    <tr>\n",
       "      <th>2756096</th>\n",
       "      <td>2015-08-01 03:13:05.939</td>\n",
       "      <td>591435</td>\n",
       "      <td>view</td>\n",
       "      <td>261427</td>\n",
       "      <td>NaN</td>\n",
       "    </tr>\n",
       "    <tr>\n",
       "      <th>2756097</th>\n",
       "      <td>2015-08-01 03:30:13.142</td>\n",
       "      <td>762376</td>\n",
       "      <td>view</td>\n",
       "      <td>115946</td>\n",
       "      <td>NaN</td>\n",
       "    </tr>\n",
       "    <tr>\n",
       "      <th>2756098</th>\n",
       "      <td>2015-08-01 02:57:00.527</td>\n",
       "      <td>1251746</td>\n",
       "      <td>view</td>\n",
       "      <td>78144</td>\n",
       "      <td>NaN</td>\n",
       "    </tr>\n",
       "    <tr>\n",
       "      <th>2756099</th>\n",
       "      <td>2015-08-01 03:08:50.703</td>\n",
       "      <td>1184451</td>\n",
       "      <td>view</td>\n",
       "      <td>283392</td>\n",
       "      <td>NaN</td>\n",
       "    </tr>\n",
       "    <tr>\n",
       "      <th>2756100</th>\n",
       "      <td>2015-08-01 03:36:03.914</td>\n",
       "      <td>199536</td>\n",
       "      <td>view</td>\n",
       "      <td>152913</td>\n",
       "      <td>NaN</td>\n",
       "    </tr>\n",
       "  </tbody>\n",
       "</table>\n",
       "</div>"
      ],
      "text/plain": [
       "                      timestamp  visitorid event  itemid  transactionid\n",
       "2756096 2015-08-01 03:13:05.939     591435  view  261427            NaN\n",
       "2756097 2015-08-01 03:30:13.142     762376  view  115946            NaN\n",
       "2756098 2015-08-01 02:57:00.527    1251746  view   78144            NaN\n",
       "2756099 2015-08-01 03:08:50.703    1184451  view  283392            NaN\n",
       "2756100 2015-08-01 03:36:03.914     199536  view  152913            NaN"
      ]
     },
     "execution_count": 8,
     "metadata": {},
     "output_type": "execute_result"
    }
   ],
   "source": [
    "events_df.tail()"
   ]
  },
  {
   "cell_type": "code",
   "execution_count": 9,
   "metadata": {
    "colab": {
     "base_uri": "https://localhost:8080/"
    },
    "id": "bsUju9saRk62",
    "outputId": "510c0e70-5fbb-4ac1-bd73-4a72a851787a"
   },
   "outputs": [
    {
     "data": {
      "text/plain": [
       "(2756101, 5)"
      ]
     },
     "execution_count": 9,
     "metadata": {},
     "output_type": "execute_result"
    }
   ],
   "source": [
    "events_df.shape"
   ]
  },
  {
   "cell_type": "code",
   "execution_count": 10,
   "metadata": {
    "colab": {
     "base_uri": "https://localhost:8080/",
     "height": 240
    },
    "id": "qHraW609NFtA",
    "outputId": "54a47b52-d2ad-4d98-d8e6-3fff41fb4e18"
   },
   "outputs": [
    {
     "data": {
      "text/plain": [
       "timestamp              0\n",
       "visitorid              0\n",
       "event                  0\n",
       "itemid                 0\n",
       "transactionid    2733644\n",
       "dtype: int64"
      ]
     },
     "execution_count": 10,
     "metadata": {},
     "output_type": "execute_result"
    }
   ],
   "source": [
    "events_df.isna().sum()"
   ]
  },
  {
   "cell_type": "code",
   "execution_count": 11,
   "metadata": {
    "colab": {
     "base_uri": "https://localhost:8080/"
    },
    "id": "vSiAclF7SnyZ",
    "outputId": "19013862-abf7-4bab-e8b2-f036fb51f737"
   },
   "outputs": [
    {
     "name": "stdout",
     "output_type": "stream",
     "text": [
      "\n",
      "3. Percentage of Null Values per Column:\n",
      "timestamp         0.00000\n",
      "visitorid         0.00000\n",
      "event             0.00000\n",
      "itemid            0.00000\n",
      "transactionid    99.18519\n",
      "dtype: float64\n"
     ]
    }
   ],
   "source": [
    "# Percentage of null values in events data\n",
    "print(\"\\n3. Percentage of Null Values per Column:\")\n",
    "print((events_df.isnull().sum() / events_df.shape[0]) * 100)"
   ]
  },
  {
   "cell_type": "markdown",
   "metadata": {
    "id": "xgMIDKFXdFrl"
   },
   "source": [
    "There are no missing values in the timestamp, visitorid, event and itemid except transactionid, which has 2,733,644 missing values. This is because, once an individual just views or adds to cart without making a transaction, he or she will not get a transaction id."
   ]
  },
  {
   "cell_type": "code",
   "execution_count": 13,
   "metadata": {
    "id": "ik10XMflV3hz"
   },
   "outputs": [],
   "source": [
    "# handling missing values in the transactionid column.\n",
    "# Fill missing transaction IDs with 0 (assuming NaN means no purchase)\n",
    "#events_df[\"transactionid\"] = events_df[\"transactionid\"].fillna(0)"
   ]
  },
  {
   "cell_type": "code",
   "execution_count": 14,
   "metadata": {
    "id": "mjcFgXcJWG2W"
   },
   "outputs": [],
   "source": [
    "# checking for missing values in event data after handling missing values in the transactionid column.\n",
    "#events_df.isna().sum()"
   ]
  },
  {
   "cell_type": "markdown",
   "metadata": {
    "id": "bFj7pCOFcxKf"
   },
   "source": [
    "There is no missing values in the events data."
   ]
  },
  {
   "cell_type": "code",
   "execution_count": 16,
   "metadata": {
    "colab": {
     "base_uri": "https://localhost:8080/"
    },
    "id": "in3ta3XVTuSz",
    "outputId": "c72e460a-e4a8-4cbe-d6e4-4f93e232f009"
   },
   "outputs": [
    {
     "name": "stdout",
     "output_type": "stream",
     "text": [
      "<class 'pandas.core.frame.DataFrame'>\n",
      "RangeIndex: 2756101 entries, 0 to 2756100\n",
      "Data columns (total 5 columns):\n",
      " #   Column         Dtype         \n",
      "---  ------         -----         \n",
      " 0   timestamp      datetime64[ns]\n",
      " 1   visitorid      int32         \n",
      " 2   event          object        \n",
      " 3   itemid         int32         \n",
      " 4   transactionid  float32       \n",
      "dtypes: datetime64[ns](1), float32(1), int32(2), object(1)\n",
      "memory usage: 73.6+ MB\n"
     ]
    }
   ],
   "source": [
    "events_df.info()"
   ]
  },
  {
   "cell_type": "code",
   "execution_count": 17,
   "metadata": {
    "colab": {
     "base_uri": "https://localhost:8080/",
     "height": 300
    },
    "id": "e_PmkGwdT86l",
    "outputId": "8d0dc99f-1414-411d-8b1b-40c73a6f48ab"
   },
   "outputs": [
    {
     "data": {
      "text/html": [
       "<div>\n",
       "<style scoped>\n",
       "    .dataframe tbody tr th:only-of-type {\n",
       "        vertical-align: middle;\n",
       "    }\n",
       "\n",
       "    .dataframe tbody tr th {\n",
       "        vertical-align: top;\n",
       "    }\n",
       "\n",
       "    .dataframe thead th {\n",
       "        text-align: right;\n",
       "    }\n",
       "</style>\n",
       "<table border=\"1\" class=\"dataframe\">\n",
       "  <thead>\n",
       "    <tr style=\"text-align: right;\">\n",
       "      <th></th>\n",
       "      <th>timestamp</th>\n",
       "      <th>visitorid</th>\n",
       "      <th>itemid</th>\n",
       "      <th>transactionid</th>\n",
       "    </tr>\n",
       "  </thead>\n",
       "  <tbody>\n",
       "    <tr>\n",
       "      <th>count</th>\n",
       "      <td>2756101</td>\n",
       "      <td>2.756101e+06</td>\n",
       "      <td>2.756101e+06</td>\n",
       "      <td>22457.000000</td>\n",
       "    </tr>\n",
       "    <tr>\n",
       "      <th>mean</th>\n",
       "      <td>2015-07-09 06:48:08.348103680</td>\n",
       "      <td>7.019229e+05</td>\n",
       "      <td>2.349225e+05</td>\n",
       "      <td>8826.499023</td>\n",
       "    </tr>\n",
       "    <tr>\n",
       "      <th>min</th>\n",
       "      <td>2015-05-03 03:00:04.384000</td>\n",
       "      <td>0.000000e+00</td>\n",
       "      <td>3.000000e+00</td>\n",
       "      <td>0.000000</td>\n",
       "    </tr>\n",
       "    <tr>\n",
       "      <th>25%</th>\n",
       "      <td>2015-06-05 04:23:14.792000</td>\n",
       "      <td>3.505660e+05</td>\n",
       "      <td>1.181200e+05</td>\n",
       "      <td>4411.000000</td>\n",
       "    </tr>\n",
       "    <tr>\n",
       "      <th>50%</th>\n",
       "      <td>2015-07-09 14:43:33.599000064</td>\n",
       "      <td>7.020600e+05</td>\n",
       "      <td>2.360670e+05</td>\n",
       "      <td>8813.000000</td>\n",
       "    </tr>\n",
       "    <tr>\n",
       "      <th>75%</th>\n",
       "      <td>2015-08-10 16:45:05.168000</td>\n",
       "      <td>1.053437e+06</td>\n",
       "      <td>3.507150e+05</td>\n",
       "      <td>13224.000000</td>\n",
       "    </tr>\n",
       "    <tr>\n",
       "      <th>max</th>\n",
       "      <td>2015-09-18 02:59:47.788000</td>\n",
       "      <td>1.407579e+06</td>\n",
       "      <td>4.668670e+05</td>\n",
       "      <td>17671.000000</td>\n",
       "    </tr>\n",
       "    <tr>\n",
       "      <th>std</th>\n",
       "      <td>NaN</td>\n",
       "      <td>4.056875e+05</td>\n",
       "      <td>1.341954e+05</td>\n",
       "      <td>5098.998047</td>\n",
       "    </tr>\n",
       "  </tbody>\n",
       "</table>\n",
       "</div>"
      ],
      "text/plain": [
       "                           timestamp     visitorid        itemid  \\\n",
       "count                        2756101  2.756101e+06  2.756101e+06   \n",
       "mean   2015-07-09 06:48:08.348103680  7.019229e+05  2.349225e+05   \n",
       "min       2015-05-03 03:00:04.384000  0.000000e+00  3.000000e+00   \n",
       "25%       2015-06-05 04:23:14.792000  3.505660e+05  1.181200e+05   \n",
       "50%    2015-07-09 14:43:33.599000064  7.020600e+05  2.360670e+05   \n",
       "75%       2015-08-10 16:45:05.168000  1.053437e+06  3.507150e+05   \n",
       "max       2015-09-18 02:59:47.788000  1.407579e+06  4.668670e+05   \n",
       "std                              NaN  4.056875e+05  1.341954e+05   \n",
       "\n",
       "       transactionid  \n",
       "count   22457.000000  \n",
       "mean     8826.499023  \n",
       "min         0.000000  \n",
       "25%      4411.000000  \n",
       "50%      8813.000000  \n",
       "75%     13224.000000  \n",
       "max     17671.000000  \n",
       "std      5098.998047  "
      ]
     },
     "execution_count": 17,
     "metadata": {},
     "output_type": "execute_result"
    }
   ],
   "source": [
    "events_df.describe()"
   ]
  },
  {
   "cell_type": "code",
   "execution_count": 18,
   "metadata": {
    "colab": {
     "base_uri": "https://localhost:8080/"
    },
    "id": "h04wAEU9QXwc",
    "outputId": "a0fcf906-15db-4e4b-f419-f6c90ba7addb"
   },
   "outputs": [
    {
     "name": "stdout",
     "output_type": "stream",
     "text": [
      "\n",
      " Unique Value Counts per Column:\n",
      "  timestamp: 2750455\n",
      "  visitorid: 1407580\n",
      "  event: 3\n",
      "  itemid: 235061\n",
      "  transactionid: 17672\n"
     ]
    }
   ],
   "source": [
    "# Unique values in each column\n",
    "print(\"\\n Unique Value Counts per Column:\")\n",
    "for col_name in events_df.columns:\n",
    "    unique_vals = events_df[col_name].nunique()\n",
    "    print(f\"  {col_name}: {unique_vals}\")"
   ]
  },
  {
   "cell_type": "code",
   "execution_count": 19,
   "metadata": {
    "colab": {
     "base_uri": "https://localhost:8080/"
    },
    "id": "MxEbxAihUKN-",
    "outputId": "1149e2ae-4e04-4aed-97f8-57a38c1d9525"
   },
   "outputs": [
    {
     "data": {
      "text/plain": [
       "460"
      ]
     },
     "execution_count": 19,
     "metadata": {},
     "output_type": "execute_result"
    }
   ],
   "source": [
    "# checking for duplicates in events data\n",
    "events_df.duplicated().sum()"
   ]
  },
  {
   "cell_type": "code",
   "execution_count": 20,
   "metadata": {
    "id": "S5DM6WVvVOyo"
   },
   "outputs": [],
   "source": [
    "# dropping duplicate values\n",
    "events_df.drop_duplicates(inplace=True)"
   ]
  },
  {
   "cell_type": "code",
   "execution_count": 21,
   "metadata": {
    "colab": {
     "base_uri": "https://localhost:8080/"
    },
    "id": "2p6fEG4MVS_4",
    "outputId": "aee066b0-4347-4f0a-a6e1-3c2883798e3d"
   },
   "outputs": [
    {
     "data": {
      "text/plain": [
       "0"
      ]
     },
     "execution_count": 21,
     "metadata": {},
     "output_type": "execute_result"
    }
   ],
   "source": [
    "events_df.duplicated().sum()"
   ]
  },
  {
   "cell_type": "code",
   "execution_count": 22,
   "metadata": {
    "colab": {
     "base_uri": "https://localhost:8080/",
     "height": 489
    },
    "id": "oFv8Udjoi4Dj",
    "outputId": "2bc09e5d-299b-4e09-e51c-1b4c37b2bba2"
   },
   "outputs": [
    {
     "data": {
      "text/plain": [
       "visitorid\n",
       "1150086    7757\n",
       "530559     4328\n",
       "152963     3024\n",
       "895999     2474\n",
       "163561     2410\n",
       "           ... \n",
       "578031        1\n",
       "643534        1\n",
       "698825        1\n",
       "843029        1\n",
       "1184451       1\n",
       "Name: count, Length: 1407580, dtype: int64"
      ]
     },
     "execution_count": 22,
     "metadata": {},
     "output_type": "execute_result"
    }
   ],
   "source": [
    "events_df['visitorid'].value_counts()"
   ]
  },
  {
   "cell_type": "code",
   "execution_count": 23,
   "metadata": {
    "colab": {
     "base_uri": "https://localhost:8080/"
    },
    "id": "HP9etrFeb8KT",
    "outputId": "6edfd2fe-ca40-429c-a8f9-f68fc0730192"
   },
   "outputs": [
    {
     "name": "stdout",
     "output_type": "stream",
     "text": [
      "visitorid\n",
      "1150086    7757\n",
      "530559     4328\n",
      "152963     3024\n",
      "895999     2474\n",
      "163561     2410\n",
      "371606     2345\n",
      "286616     2252\n",
      "684514     2246\n",
      "892013     2024\n",
      "861299     1991\n",
      "Name: count, dtype: int64\n"
     ]
    },
    {
     "data": {
      "text/plain": [
       "Text(0, 0.5, 'number of event')"
      ]
     },
     "execution_count": 23,
     "metadata": {},
     "output_type": "execute_result"
    },
    {
     "data": {
      "image/png": "[encoded data removed]",
      "text/plain": [
       "<Figure size 1000x600 with 1 Axes>"
      ]
     },
     "metadata": {},
     "output_type": "display_data"
    }
   ],
   "source": [
    "#most Active users\n",
    "top_most_active_user=events_df['visitorid'].value_counts().head(10)\n",
    "print(top_most_active_user)\n",
    "plt.figure(figsize=(10,6))\n",
    "\n",
    "top_most_active_user_sort = top_most_active_user.sort_values(ascending=False)\n",
    "\n",
    "sns.barplot(x=top_most_active_user_sort.index,y=top_most_active_user_sort.values)\n",
    "plt.title('Top 10 most active user')\n",
    "plt.xlabel('visitorid')\n",
    "plt.ylabel('number of event')"
   ]
  },
  {
   "cell_type": "code",
   "execution_count": 24,
   "metadata": {
    "colab": {
     "base_uri": "https://localhost:8080/"
    },
    "id": "-P0PGzmemWoJ",
    "outputId": "d16ad34b-92a6-4872-e997-62e86385f3c6"
   },
   "outputs": [
    {
     "data": {
      "text/plain": [
       "event\n",
       "view           2664218\n",
       "addtocart        68966\n",
       "transaction      22457\n",
       "Name: count, dtype: int64"
      ]
     },
     "execution_count": 24,
     "metadata": {},
     "output_type": "execute_result"
    }
   ],
   "source": [
    "events_counts = events_df['event'].value_counts()\n",
    "events_counts"
   ]
  },
  {
   "cell_type": "code",
   "execution_count": 25,
   "metadata": {
    "colab": {
     "base_uri": "https://localhost:8080/"
    },
    "id": "9FQlOPygN0OK",
    "outputId": "915fc5b9-6542-46bb-d544-2210af3296b2"
   },
   "outputs": [
    {
     "data": {
      "image/png": "[encoded data removed]",
      "text/plain": [
       "<Figure size 600x400 with 1 Axes>"
      ]
     },
     "metadata": {},
     "output_type": "display_data"
    }
   ],
   "source": [
    "# visualizing events column using countplot\n",
    "plt.figure(figsize=(6, 4))\n",
    "ax = sns.countplot(x=\"event\", data=events_df, order=events_counts.index)\n",
    "\n",
    "# Add count labels\n",
    "for p in ax.patches:\n",
    "    ax.text(p.get_x() + p.get_width() / 2, p.get_height(), int(p.get_height()),\n",
    "            ha='center', va='bottom', fontsize=10)\n",
    "\n",
    "plt.title(\"Event Type Distribution\")\n",
    "plt.xlabel(\"Event Type\")\n",
    "plt.ylabel(\"Count\")\n",
    "plt.show()"
   ]
  },
  {
   "cell_type": "code",
   "execution_count": 26,
   "metadata": {
    "colab": {
     "base_uri": "https://localhost:8080/"
    },
    "id": "rX9K1_oCO7rO",
    "outputId": "84383979-01a5-4c27-c67b-b09f8625de25"
   },
   "outputs": [
    {
     "data": {
      "text/plain": [
       "visitorid\n",
       "0    3\n",
       "1    1\n",
       "2    8\n",
       "3    1\n",
       "4    1\n",
       "5    1\n",
       "6    6\n",
       "7    3\n",
       "8    1\n",
       "9    1\n",
       "Name: event, dtype: int64"
      ]
     },
     "execution_count": 26,
     "metadata": {},
     "output_type": "execute_result"
    }
   ],
   "source": [
    "# Group by visitorid to see how many events each user performed\n",
    "user_events_counts = events_df.groupby('visitorid')['event'].count()\n",
    "user_events_counts.head(10)"
   ]
  },
  {
   "cell_type": "code",
   "execution_count": 27,
   "metadata": {
    "colab": {
     "base_uri": "https://localhost:8080/",
     "height": 489
    },
    "id": "APguKI90mpqZ",
    "outputId": "6c1a6809-f6de-46be-b5c8-9b7fabee9c98"
   },
   "outputs": [
    {
     "data": {
      "text/plain": [
       "itemid\n",
       "187946    3412\n",
       "461686    2975\n",
       "5411      2334\n",
       "370653    1854\n",
       "219512    1800\n",
       "          ... \n",
       "145333       1\n",
       "113185       1\n",
       "109819       1\n",
       "302190       1\n",
       "177353       1\n",
       "Name: count, Length: 235061, dtype: int64"
      ]
     },
     "execution_count": 27,
     "metadata": {},
     "output_type": "execute_result"
    }
   ],
   "source": [
    "events_df['itemid'].value_counts()"
   ]
  },
  {
   "cell_type": "markdown",
   "metadata": {
    "id": "7S9n0zrkTSRa"
   },
   "source": [
    "### Sanity checks for the item_properties data"
   ]
  },
  {
   "cell_type": "code",
   "execution_count": 29,
   "metadata": {
    "colab": {
     "base_uri": "https://localhost:8080/",
     "height": 206
    },
    "id": "pQwdVmfeNLZR",
    "outputId": "e065e391-893f-4aa4-b7ec-57d52f0b9f24"
   },
   "outputs": [
    {
     "data": {
      "text/html": [
       "<div>\n",
       "<style scoped>\n",
       "    .dataframe tbody tr th:only-of-type {\n",
       "        vertical-align: middle;\n",
       "    }\n",
       "\n",
       "    .dataframe tbody tr th {\n",
       "        vertical-align: top;\n",
       "    }\n",
       "\n",
       "    .dataframe thead th {\n",
       "        text-align: right;\n",
       "    }\n",
       "</style>\n",
       "<table border=\"1\" class=\"dataframe\">\n",
       "  <thead>\n",
       "    <tr style=\"text-align: right;\">\n",
       "      <th></th>\n",
       "      <th>timestamp</th>\n",
       "      <th>itemid</th>\n",
       "      <th>property</th>\n",
       "      <th>value</th>\n",
       "    </tr>\n",
       "  </thead>\n",
       "  <tbody>\n",
       "    <tr>\n",
       "      <th>0</th>\n",
       "      <td>2015-06-28 03:00:00</td>\n",
       "      <td>460429</td>\n",
       "      <td>categoryid</td>\n",
       "      <td>1338</td>\n",
       "    </tr>\n",
       "    <tr>\n",
       "      <th>1</th>\n",
       "      <td>2015-09-06 03:00:00</td>\n",
       "      <td>206783</td>\n",
       "      <td>888</td>\n",
       "      <td>1116713 960601 n277.200</td>\n",
       "    </tr>\n",
       "    <tr>\n",
       "      <th>2</th>\n",
       "      <td>2015-08-09 03:00:00</td>\n",
       "      <td>395014</td>\n",
       "      <td>400</td>\n",
       "      <td>n552.000 639502 n720.000 424566</td>\n",
       "    </tr>\n",
       "    <tr>\n",
       "      <th>3</th>\n",
       "      <td>2015-05-10 03:00:00</td>\n",
       "      <td>59481</td>\n",
       "      <td>790</td>\n",
       "      <td>n15360.000</td>\n",
       "    </tr>\n",
       "    <tr>\n",
       "      <th>4</th>\n",
       "      <td>2015-05-17 03:00:00</td>\n",
       "      <td>156781</td>\n",
       "      <td>917</td>\n",
       "      <td>828513</td>\n",
       "    </tr>\n",
       "  </tbody>\n",
       "</table>\n",
       "</div>"
      ],
      "text/plain": [
       "            timestamp  itemid    property                            value\n",
       "0 2015-06-28 03:00:00  460429  categoryid                             1338\n",
       "1 2015-09-06 03:00:00  206783         888          1116713 960601 n277.200\n",
       "2 2015-08-09 03:00:00  395014         400  n552.000 639502 n720.000 424566\n",
       "3 2015-05-10 03:00:00   59481         790                       n15360.000\n",
       "4 2015-05-17 03:00:00  156781         917                           828513"
      ]
     },
     "execution_count": 29,
     "metadata": {},
     "output_type": "execute_result"
    }
   ],
   "source": [
    "# Sanity checks for the item_properties data\n",
    "item_properties_df.head()"
   ]
  },
  {
   "cell_type": "code",
   "execution_count": 30,
   "metadata": {
    "colab": {
     "base_uri": "https://localhost:8080/",
     "height": 206
    },
    "id": "lk8xtf_pQsUP",
    "outputId": "60acc2aa-43c8-4a6d-b075-212f8a807edf"
   },
   "outputs": [
    {
     "data": {
      "text/html": [
       "<div>\n",
       "<style scoped>\n",
       "    .dataframe tbody tr th:only-of-type {\n",
       "        vertical-align: middle;\n",
       "    }\n",
       "\n",
       "    .dataframe tbody tr th {\n",
       "        vertical-align: top;\n",
       "    }\n",
       "\n",
       "    .dataframe thead th {\n",
       "        text-align: right;\n",
       "    }\n",
       "</style>\n",
       "<table border=\"1\" class=\"dataframe\">\n",
       "  <thead>\n",
       "    <tr style=\"text-align: right;\">\n",
       "      <th></th>\n",
       "      <th>timestamp</th>\n",
       "      <th>itemid</th>\n",
       "      <th>property</th>\n",
       "      <th>value</th>\n",
       "    </tr>\n",
       "  </thead>\n",
       "  <tbody>\n",
       "    <tr>\n",
       "      <th>1545977</th>\n",
       "      <td>2015-06-07 03:00:00</td>\n",
       "      <td>236931</td>\n",
       "      <td>929</td>\n",
       "      <td>n12.000</td>\n",
       "    </tr>\n",
       "    <tr>\n",
       "      <th>1545978</th>\n",
       "      <td>2015-08-30 03:00:00</td>\n",
       "      <td>455746</td>\n",
       "      <td>6</td>\n",
       "      <td>150169 639134</td>\n",
       "    </tr>\n",
       "    <tr>\n",
       "      <th>1545979</th>\n",
       "      <td>2015-08-16 03:00:00</td>\n",
       "      <td>347565</td>\n",
       "      <td>686</td>\n",
       "      <td>610834</td>\n",
       "    </tr>\n",
       "    <tr>\n",
       "      <th>1545980</th>\n",
       "      <td>2015-06-07 03:00:00</td>\n",
       "      <td>287231</td>\n",
       "      <td>867</td>\n",
       "      <td>769062</td>\n",
       "    </tr>\n",
       "    <tr>\n",
       "      <th>1545981</th>\n",
       "      <td>2015-09-13 03:00:00</td>\n",
       "      <td>275768</td>\n",
       "      <td>888</td>\n",
       "      <td>888666 n10800.000 746840 1318567</td>\n",
       "    </tr>\n",
       "  </tbody>\n",
       "</table>\n",
       "</div>"
      ],
      "text/plain": [
       "                  timestamp  itemid property                             value\n",
       "1545977 2015-06-07 03:00:00  236931      929                           n12.000\n",
       "1545978 2015-08-30 03:00:00  455746        6                     150169 639134\n",
       "1545979 2015-08-16 03:00:00  347565      686                            610834\n",
       "1545980 2015-06-07 03:00:00  287231      867                            769062\n",
       "1545981 2015-09-13 03:00:00  275768      888  888666 n10800.000 746840 1318567"
      ]
     },
     "execution_count": 30,
     "metadata": {},
     "output_type": "execute_result"
    }
   ],
   "source": [
    "item_properties_df.tail()"
   ]
  },
  {
   "cell_type": "code",
   "execution_count": 31,
   "metadata": {
    "colab": {
     "base_uri": "https://localhost:8080/"
    },
    "id": "G5B6Rpw4Qv9L",
    "outputId": "67d0da47-bd48-4ffd-a5a2-f0a6fa727832"
   },
   "outputs": [
    {
     "data": {
      "text/plain": [
       "(20275902, 4)"
      ]
     },
     "execution_count": 31,
     "metadata": {},
     "output_type": "execute_result"
    }
   ],
   "source": [
    "item_properties_df.shape"
   ]
  },
  {
   "cell_type": "code",
   "execution_count": 32,
   "metadata": {
    "colab": {
     "base_uri": "https://localhost:8080/"
    },
    "id": "IG-1PpIYfz7B",
    "outputId": "ab4a434f-331c-402a-b7c6-08ade87554c7"
   },
   "outputs": [
    {
     "data": {
      "text/plain": [
       "0"
      ]
     },
     "execution_count": 32,
     "metadata": {},
     "output_type": "execute_result"
    }
   ],
   "source": [
    "# checking for duplicated values\n",
    "item_properties_df.duplicated().sum()"
   ]
  },
  {
   "cell_type": "code",
   "execution_count": 33,
   "metadata": {
    "colab": {
     "base_uri": "https://localhost:8080/"
    },
    "id": "8SbZypzFROdP",
    "outputId": "5f949b2e-1eaa-4337-d99b-b53619bf49e0"
   },
   "outputs": [
    {
     "data": {
      "text/plain": [
       "timestamp    0\n",
       "itemid       0\n",
       "property     0\n",
       "value        0\n",
       "dtype: int64"
      ]
     },
     "execution_count": 33,
     "metadata": {},
     "output_type": "execute_result"
    }
   ],
   "source": [
    "# checking for missing values\n",
    "item_properties_df.isna().sum()"
   ]
  },
  {
   "cell_type": "code",
   "execution_count": 34,
   "metadata": {
    "colab": {
     "base_uri": "https://localhost:8080/"
    },
    "id": "5OtXRq97TbTD",
    "outputId": "77ffaece-3a3e-42d7-f4e1-557590968eec"
   },
   "outputs": [
    {
     "name": "stdout",
     "output_type": "stream",
     "text": [
      "\n",
      "3. Percentage of Null Values per Column:\n",
      "timestamp    0.0\n",
      "itemid       0.0\n",
      "property     0.0\n",
      "value        0.0\n",
      "dtype: float64\n"
     ]
    }
   ],
   "source": [
    "# Percentage of null Item_properties\n",
    "print(\"\\n3. Percentage of Null Values per Column:\")\n",
    "print((item_properties_df.isnull().sum() / item_properties_df.shape[0]) * 100)"
   ]
  },
  {
   "cell_type": "markdown",
   "metadata": {
    "id": "8kSoWFGGgB3l"
   },
   "source": [
    "There are no missing values in the item_properties"
   ]
  },
  {
   "cell_type": "code",
   "execution_count": 36,
   "metadata": {
    "colab": {
     "base_uri": "https://localhost:8080/",
     "height": 300
    },
    "id": "B2PCRFIMUUpd",
    "outputId": "0c68353c-6b2f-4d44-bb94-5735d8d1f9de"
   },
   "outputs": [
    {
     "data": {
      "text/html": [
       "<div>\n",
       "<style scoped>\n",
       "    .dataframe tbody tr th:only-of-type {\n",
       "        vertical-align: middle;\n",
       "    }\n",
       "\n",
       "    .dataframe tbody tr th {\n",
       "        vertical-align: top;\n",
       "    }\n",
       "\n",
       "    .dataframe thead th {\n",
       "        text-align: right;\n",
       "    }\n",
       "</style>\n",
       "<table border=\"1\" class=\"dataframe\">\n",
       "  <thead>\n",
       "    <tr style=\"text-align: right;\">\n",
       "      <th></th>\n",
       "      <th>timestamp</th>\n",
       "      <th>itemid</th>\n",
       "    </tr>\n",
       "  </thead>\n",
       "  <tbody>\n",
       "    <tr>\n",
       "      <th>count</th>\n",
       "      <td>20275902</td>\n",
       "      <td>2.027590e+07</td>\n",
       "    </tr>\n",
       "    <tr>\n",
       "      <th>mean</th>\n",
       "      <td>2015-06-24 14:42:23.682880256</td>\n",
       "      <td>2.333904e+05</td>\n",
       "    </tr>\n",
       "    <tr>\n",
       "      <th>min</th>\n",
       "      <td>2015-05-10 03:00:00</td>\n",
       "      <td>0.000000e+00</td>\n",
       "    </tr>\n",
       "    <tr>\n",
       "      <th>25%</th>\n",
       "      <td>2015-05-24 03:00:00</td>\n",
       "      <td>1.165160e+05</td>\n",
       "    </tr>\n",
       "    <tr>\n",
       "      <th>50%</th>\n",
       "      <td>2015-06-07 03:00:00</td>\n",
       "      <td>2.334830e+05</td>\n",
       "    </tr>\n",
       "    <tr>\n",
       "      <th>75%</th>\n",
       "      <td>2015-07-26 03:00:00</td>\n",
       "      <td>3.503040e+05</td>\n",
       "    </tr>\n",
       "    <tr>\n",
       "      <th>max</th>\n",
       "      <td>2015-09-13 03:00:00</td>\n",
       "      <td>4.668660e+05</td>\n",
       "    </tr>\n",
       "    <tr>\n",
       "      <th>std</th>\n",
       "      <td>NaN</td>\n",
       "      <td>1.348452e+05</td>\n",
       "    </tr>\n",
       "  </tbody>\n",
       "</table>\n",
       "</div>"
      ],
      "text/plain": [
       "                           timestamp        itemid\n",
       "count                       20275902  2.027590e+07\n",
       "mean   2015-06-24 14:42:23.682880256  2.333904e+05\n",
       "min              2015-05-10 03:00:00  0.000000e+00\n",
       "25%              2015-05-24 03:00:00  1.165160e+05\n",
       "50%              2015-06-07 03:00:00  2.334830e+05\n",
       "75%              2015-07-26 03:00:00  3.503040e+05\n",
       "max              2015-09-13 03:00:00  4.668660e+05\n",
       "std                              NaN  1.348452e+05"
      ]
     },
     "execution_count": 36,
     "metadata": {},
     "output_type": "execute_result"
    }
   ],
   "source": [
    "item_properties_df.describe()"
   ]
  },
  {
   "cell_type": "code",
   "execution_count": 37,
   "metadata": {
    "colab": {
     "base_uri": "https://localhost:8080/"
    },
    "id": "IzCJERicUchG",
    "outputId": "27166eb0-97d4-45b7-d47d-372454ea8b73"
   },
   "outputs": [
    {
     "name": "stdout",
     "output_type": "stream",
     "text": [
      "<class 'pandas.core.frame.DataFrame'>\n",
      "Index: 20275902 entries, 0 to 1545981\n",
      "Data columns (total 4 columns):\n",
      " #   Column     Dtype         \n",
      "---  ------     -----         \n",
      " 0   timestamp  datetime64[ns]\n",
      " 1   itemid     int32         \n",
      " 2   property   object        \n",
      " 3   value      object        \n",
      "dtypes: datetime64[ns](1), int32(1), object(2)\n",
      "memory usage: 696.1+ MB\n"
     ]
    }
   ],
   "source": [
    "item_properties_df.info()"
   ]
  },
  {
   "cell_type": "code",
   "execution_count": 38,
   "metadata": {
    "colab": {
     "base_uri": "https://localhost:8080/",
     "height": 489
    },
    "id": "jNtmDKyLniPl",
    "outputId": "98fd2f4d-0914-44dd-b5d0-85421fc0b985"
   },
   "outputs": [
    {
     "data": {
      "text/plain": [
       "itemid\n",
       "158903    468\n",
       "254069    462\n",
       "91855     461\n",
       "150800    459\n",
       "120386    444\n",
       "         ... \n",
       "251894     15\n",
       "342400     14\n",
       "73456      13\n",
       "207227     12\n",
       "243157     12\n",
       "Name: count, Length: 417053, dtype: int64"
      ]
     },
     "execution_count": 38,
     "metadata": {},
     "output_type": "execute_result"
    }
   ],
   "source": [
    "item_properties_df['itemid'].value_counts()"
   ]
  },
  {
   "cell_type": "code",
   "execution_count": 39,
   "metadata": {
    "colab": {
     "base_uri": "https://localhost:8080/"
    },
    "id": "7q2HGbCooB7m",
    "outputId": "d0a86b9e-156f-4cf0-8db4-b44a29a856bb"
   },
   "outputs": [
    {
     "name": "stdout",
     "output_type": "stream",
     "text": [
      "*** Top 10 Most Frequent Properties***\n"
     ]
    },
    {
     "data": {
      "text/plain": [
       "property\n",
       "888           3000398\n",
       "790           1790516\n",
       "available     1503639\n",
       "categoryid     788214\n",
       "6              631471\n",
       "283            597419\n",
       "776            574220\n",
       "678            481966\n",
       "364            476486\n",
       "202            448938\n",
       "Name: count, dtype: int64"
      ]
     },
     "execution_count": 39,
     "metadata": {},
     "output_type": "execute_result"
    }
   ],
   "source": [
    "print(\"*** Top 10 Most Frequent Properties***\")\n",
    "item_properties_df['property'].value_counts().sort_values(ascending=False).head(10)"
   ]
  },
  {
   "cell_type": "code",
   "execution_count": 40,
   "metadata": {
    "colab": {
     "base_uri": "https://localhost:8080/"
    },
    "id": "O7cM9jlMT-0q",
    "outputId": "a86e8ead-710c-4953-e21d-59232885a515"
   },
   "outputs": [
    {
     "name": "stdout",
     "output_type": "stream",
     "text": [
      "\n",
      " Unique Value Counts per Column:\n",
      "  timestamp: 18\n",
      "  itemid: 417053\n",
      "  property: 1104\n",
      "  value: 1966868\n"
     ]
    }
   ],
   "source": [
    "# Unique values in each Item_properties column\n",
    "print(\"\\n Unique Value Counts per Column:\")\n",
    "for col_name in item_properties_df.columns:\n",
    "    unique_vals = item_properties_df[col_name].nunique()\n",
    "    print(f\"  {col_name}: {unique_vals}\")"
   ]
  },
  {
   "cell_type": "code",
   "execution_count": 41,
   "metadata": {
    "colab": {
     "base_uri": "https://localhost:8080/"
    },
    "id": "S3OvoGkZVwYj",
    "outputId": "847ec492-34d1-48f7-8a29-d620965d3ca8"
   },
   "outputs": [
    {
     "name": "stdout",
     "output_type": "stream",
     "text": [
      "itemid\n",
      "0    45\n",
      "1    86\n",
      "2    24\n",
      "3    46\n",
      "4    42\n",
      "Name: property, dtype: int64\n",
      "\n",
      "\n",
      "*** Distribution of 'property' count per item ***\n",
      "count    417053.000000\n",
      "mean         48.617087\n",
      "std          27.385722\n",
      "min          12.000000\n",
      "25%          28.000000\n",
      "50%          42.000000\n",
      "75%          60.000000\n",
      "max         468.000000\n",
      "Name: property, dtype: float64\n"
     ]
    }
   ],
   "source": [
    "# Count how many properties each item has\n",
    "item_properties_counts = item_properties_df.groupby('itemid')['property'].count()\n",
    "print(item_properties_counts.head())\n",
    "print(\"\\n\")\n",
    "print(\"*** Distribution of 'property' count per item ***\")\n",
    "print(item_properties_counts.describe())"
   ]
  },
  {
   "cell_type": "code",
   "execution_count": 42,
   "metadata": {
    "colab": {
     "base_uri": "https://localhost:8080/",
     "height": 465
    },
    "id": "Ln5EZToAomb1",
    "outputId": "0171cf93-e53c-43ea-e4e3-441b5fe17d40"
   },
   "outputs": [
    {
     "name": "stdout",
     "output_type": "stream",
     "text": [
      "\n",
      "Top 10 value:\n"
     ]
    },
    {
     "data": {
      "text/plain": [
       "value\n",
       "769062                                 1537247\n",
       "0                                       863246\n",
       "1                                       641420\n",
       "679677                                  417054\n",
       "1285872                                 417053\n",
       "519769                                  417053\n",
       "1116693                                 157243\n",
       "1297729 n156.000 606827                 120136\n",
       "664227                                  118653\n",
       "664227 1305534 664227 463202 664227      96245\n",
       "Name: count, dtype: int64"
      ]
     },
     "execution_count": 42,
     "metadata": {},
     "output_type": "execute_result"
    }
   ],
   "source": [
    "print(\"\\nTop 10 value:\")\n",
    "item_properties_df['value'].value_counts().sort_values(ascending=False).head(10)"
   ]
  },
  {
   "cell_type": "code",
   "execution_count": 43,
   "metadata": {
    "colab": {
     "base_uri": "https://localhost:8080/",
     "height": 462
    },
    "id": "8ITe-FLW951t",
    "outputId": "f51f7433-48fc-41d8-9285-57d573cee851"
   },
   "outputs": [
    {
     "data": {
      "text/plain": [
       "<Axes: xlabel='timestamp'>"
      ]
     },
     "execution_count": 43,
     "metadata": {},
     "output_type": "execute_result"
    },
    {
     "data": {
      "image/png": "[encoded data removed]",
      "text/plain": [
       "<Figure size 640x480 with 1 Axes>"
      ]
     },
     "metadata": {},
     "output_type": "display_data"
    }
   ],
   "source": [
    "item_properties_df.groupby(\"timestamp\")[\"itemid\"].nunique().plot(kind=\"line\")"
   ]
  },
  {
   "cell_type": "code",
   "execution_count": 44,
   "metadata": {
    "colab": {
     "base_uri": "https://localhost:8080/",
     "height": 742
    },
    "id": "GI1oiw6W_e57",
    "outputId": "82ca79d0-4b45-4fca-d21c-03a3645ebaad"
   },
   "outputs": [
    {
     "data": {
      "text/plain": [
       "itemid\n",
       "158903    468\n",
       "254069    462\n",
       "91855     461\n",
       "150800    459\n",
       "120386    444\n",
       "339536    444\n",
       "270097    443\n",
       "373096    428\n",
       "162893    428\n",
       "431708    428\n",
       "89590     427\n",
       "113473    427\n",
       "300084    427\n",
       "137508    427\n",
       "358373    426\n",
       "177032    418\n",
       "83002     418\n",
       "145680    418\n",
       "288797    410\n",
       "147197    410\n",
       "Name: count, dtype: int64"
      ]
     },
     "execution_count": 44,
     "metadata": {},
     "output_type": "execute_result"
    }
   ],
   "source": [
    "item_properties_df[\"itemid\"].value_counts().head(20)"
   ]
  },
  {
   "cell_type": "code",
   "execution_count": 45,
   "metadata": {
    "colab": {
     "base_uri": "https://localhost:8080/"
    },
    "id": "Mtl6tyFT_3TS",
    "outputId": "3b4573df-a228-43ba-c550-8fe8b9a8c92c"
   },
   "outputs": [
    {
     "data": {
      "text/plain": [
       "<Axes: xlabel='timestamp'>"
      ]
     },
     "execution_count": 45,
     "metadata": {},
     "output_type": "execute_result"
    },
    {
     "data": {
      "image/png": "[encoded data removed]",
      "text/plain": [
       "<Figure size 640x480 with 1 Axes>"
      ]
     },
     "metadata": {},
     "output_type": "display_data"
    }
   ],
   "source": [
    "item_properties_df[\"timestamp\"].value_counts().sort_index().plot(kind=\"bar\")"
   ]
  },
  {
   "cell_type": "code",
   "execution_count": 46,
   "metadata": {
    "colab": {
     "base_uri": "https://localhost:8080/",
     "height": 679
    },
    "id": "bwRAkqz8BwNQ",
    "outputId": "8600c49b-7cee-4728-91ac-100ef469d5f9"
   },
   "outputs": [
    {
     "data": {
      "text/plain": [
       "timestamp\n",
       "2015-05-10 03:00:00    3012756\n",
       "2015-05-17 03:00:00    1027889\n",
       "2015-05-24 03:00:00    1815598\n",
       "2015-05-31 03:00:00    2620101\n",
       "2015-06-07 03:00:00    1686681\n",
       "2015-06-14 03:00:00     755965\n",
       "2015-06-28 03:00:00    2368972\n",
       "2015-07-05 03:00:00     497785\n",
       "2015-07-12 03:00:00     593657\n",
       "2015-07-19 03:00:00     563575\n",
       "2015-07-26 03:00:00     519460\n",
       "2015-08-02 03:00:00     529315\n",
       "2015-08-09 03:00:00     542778\n",
       "2015-08-16 03:00:00    1488244\n",
       "2015-08-23 03:00:00     571339\n",
       "2015-08-30 03:00:00     532586\n",
       "2015-09-06 03:00:00     566183\n",
       "2015-09-13 03:00:00     583018\n",
       "Name: count, dtype: int64"
      ]
     },
     "execution_count": 46,
     "metadata": {},
     "output_type": "execute_result"
    }
   ],
   "source": [
    "item_properties_df[\"timestamp\"].value_counts().sort_index()"
   ]
  },
  {
   "cell_type": "code",
   "execution_count": 47,
   "metadata": {
    "colab": {
     "base_uri": "https://localhost:8080/"
    },
    "id": "QzfdVjBBIrTD",
    "outputId": "a386f4c9-848c-4dcc-801c-5e2a363573da"
   },
   "outputs": [
    {
     "data": {
      "image/png": "[encoded data removed]",
      "text/plain": [
       "<Figure size 1000x500 with 1 Axes>"
      ]
     },
     "metadata": {},
     "output_type": "display_data"
    }
   ],
   "source": [
    "category_trend = item_properties_df[item_properties_df['property'] == 'categoryid']\n",
    "category_trend.groupby('timestamp')['value'].nunique().plot(kind='line', figsize=(10, 5))\n",
    "plt.title(\"Unique Category Updates Over Time\")\n",
    "plt.show()"
   ]
  },
  {
   "cell_type": "code",
   "execution_count": 48,
   "metadata": {
    "id": "UUVHkkftLu_O"
   },
   "outputs": [],
   "source": [
    "item_properties_df_copy = item_properties_df.copy()"
   ]
  },
  {
   "cell_type": "code",
   "execution_count": 49,
   "metadata": {
    "id": "fAcVZuWZL3Ae"
   },
   "outputs": [],
   "source": [
    "# Keep only the latest property update per item\n",
    "#item_properties_df_copy = item_properties_df_copy.drop_duplicates(subset=['itemid', 'property'], keep='last')\n"
   ]
  },
  {
   "cell_type": "code",
   "execution_count": 50,
   "metadata": {
    "colab": {
     "base_uri": "https://localhost:8080/"
    },
    "id": "HwPomnYcMG20",
    "outputId": "d7c34928-e1ad-438c-e7d4-1a1c285e15a8"
   },
   "outputs": [
    {
     "data": {
      "text/html": [
       "<div>\n",
       "<style scoped>\n",
       "    .dataframe tbody tr th:only-of-type {\n",
       "        vertical-align: middle;\n",
       "    }\n",
       "\n",
       "    .dataframe tbody tr th {\n",
       "        vertical-align: top;\n",
       "    }\n",
       "\n",
       "    .dataframe thead th {\n",
       "        text-align: right;\n",
       "    }\n",
       "</style>\n",
       "<table border=\"1\" class=\"dataframe\">\n",
       "  <thead>\n",
       "    <tr style=\"text-align: right;\">\n",
       "      <th></th>\n",
       "      <th>timestamp</th>\n",
       "      <th>itemid</th>\n",
       "      <th>property</th>\n",
       "      <th>value</th>\n",
       "    </tr>\n",
       "  </thead>\n",
       "  <tbody>\n",
       "    <tr>\n",
       "      <th>0</th>\n",
       "      <td>2015-06-28 03:00:00</td>\n",
       "      <td>460429</td>\n",
       "      <td>categoryid</td>\n",
       "      <td>1338</td>\n",
       "    </tr>\n",
       "    <tr>\n",
       "      <th>1</th>\n",
       "      <td>2015-09-06 03:00:00</td>\n",
       "      <td>206783</td>\n",
       "      <td>888</td>\n",
       "      <td>1116713 960601 n277.200</td>\n",
       "    </tr>\n",
       "    <tr>\n",
       "      <th>2</th>\n",
       "      <td>2015-08-09 03:00:00</td>\n",
       "      <td>395014</td>\n",
       "      <td>400</td>\n",
       "      <td>n552.000 639502 n720.000 424566</td>\n",
       "    </tr>\n",
       "    <tr>\n",
       "      <th>3</th>\n",
       "      <td>2015-05-10 03:00:00</td>\n",
       "      <td>59481</td>\n",
       "      <td>790</td>\n",
       "      <td>n15360.000</td>\n",
       "    </tr>\n",
       "    <tr>\n",
       "      <th>4</th>\n",
       "      <td>2015-05-17 03:00:00</td>\n",
       "      <td>156781</td>\n",
       "      <td>917</td>\n",
       "      <td>828513</td>\n",
       "    </tr>\n",
       "  </tbody>\n",
       "</table>\n",
       "</div>"
      ],
      "text/plain": [
       "            timestamp  itemid    property                            value\n",
       "0 2015-06-28 03:00:00  460429  categoryid                             1338\n",
       "1 2015-09-06 03:00:00  206783         888          1116713 960601 n277.200\n",
       "2 2015-08-09 03:00:00  395014         400  n552.000 639502 n720.000 424566\n",
       "3 2015-05-10 03:00:00   59481         790                       n15360.000\n",
       "4 2015-05-17 03:00:00  156781         917                           828513"
      ]
     },
     "execution_count": 50,
     "metadata": {},
     "output_type": "execute_result"
    }
   ],
   "source": [
    "item_properties_df_copy.head()"
   ]
  },
  {
   "cell_type": "code",
   "execution_count": 51,
   "metadata": {
    "colab": {
     "base_uri": "https://localhost:8080/",
     "height": 206
    },
    "id": "XTerU_jpMNoC",
    "outputId": "056a44f6-2e04-4214-a8be-c75c958c8f2e"
   },
   "outputs": [
    {
     "data": {
      "text/html": [
       "<div>\n",
       "<style scoped>\n",
       "    .dataframe tbody tr th:only-of-type {\n",
       "        vertical-align: middle;\n",
       "    }\n",
       "\n",
       "    .dataframe tbody tr th {\n",
       "        vertical-align: top;\n",
       "    }\n",
       "\n",
       "    .dataframe thead th {\n",
       "        text-align: right;\n",
       "    }\n",
       "</style>\n",
       "<table border=\"1\" class=\"dataframe\">\n",
       "  <thead>\n",
       "    <tr style=\"text-align: right;\">\n",
       "      <th></th>\n",
       "      <th>timestamp</th>\n",
       "      <th>itemid</th>\n",
       "      <th>property</th>\n",
       "      <th>value</th>\n",
       "    </tr>\n",
       "  </thead>\n",
       "  <tbody>\n",
       "    <tr>\n",
       "      <th>1545977</th>\n",
       "      <td>2015-06-07 03:00:00</td>\n",
       "      <td>236931</td>\n",
       "      <td>929</td>\n",
       "      <td>n12.000</td>\n",
       "    </tr>\n",
       "    <tr>\n",
       "      <th>1545978</th>\n",
       "      <td>2015-08-30 03:00:00</td>\n",
       "      <td>455746</td>\n",
       "      <td>6</td>\n",
       "      <td>150169 639134</td>\n",
       "    </tr>\n",
       "    <tr>\n",
       "      <th>1545979</th>\n",
       "      <td>2015-08-16 03:00:00</td>\n",
       "      <td>347565</td>\n",
       "      <td>686</td>\n",
       "      <td>610834</td>\n",
       "    </tr>\n",
       "    <tr>\n",
       "      <th>1545980</th>\n",
       "      <td>2015-06-07 03:00:00</td>\n",
       "      <td>287231</td>\n",
       "      <td>867</td>\n",
       "      <td>769062</td>\n",
       "    </tr>\n",
       "    <tr>\n",
       "      <th>1545981</th>\n",
       "      <td>2015-09-13 03:00:00</td>\n",
       "      <td>275768</td>\n",
       "      <td>888</td>\n",
       "      <td>888666 n10800.000 746840 1318567</td>\n",
       "    </tr>\n",
       "  </tbody>\n",
       "</table>\n",
       "</div>"
      ],
      "text/plain": [
       "                  timestamp  itemid property                             value\n",
       "1545977 2015-06-07 03:00:00  236931      929                           n12.000\n",
       "1545978 2015-08-30 03:00:00  455746        6                     150169 639134\n",
       "1545979 2015-08-16 03:00:00  347565      686                            610834\n",
       "1545980 2015-06-07 03:00:00  287231      867                            769062\n",
       "1545981 2015-09-13 03:00:00  275768      888  888666 n10800.000 746840 1318567"
      ]
     },
     "execution_count": 51,
     "metadata": {},
     "output_type": "execute_result"
    }
   ],
   "source": [
    "item_properties_df_copy.tail()"
   ]
  },
  {
   "cell_type": "code",
   "execution_count": null,
   "metadata": {
    "id": "ViZcRVLGOe5w"
   },
   "outputs": [],
   "source": []
  },
  {
   "cell_type": "code",
   "execution_count": 52,
   "metadata": {
    "colab": {
     "base_uri": "https://localhost:8080/"
    },
    "id": "qqAfp8EYMaTw",
    "outputId": "e705dc80-01ad-444f-e4ac-c22e97549b88"
   },
   "outputs": [
    {
     "data": {
      "text/plain": [
       "(20275902, 4)"
      ]
     },
     "execution_count": 52,
     "metadata": {},
     "output_type": "execute_result"
    }
   ],
   "source": [
    "item_properties_df_copy.shape"
   ]
  },
  {
   "cell_type": "code",
   "execution_count": 53,
   "metadata": {
    "colab": {
     "base_uri": "https://localhost:8080/"
    },
    "id": "RmlLl6KLMsRt",
    "outputId": "c0a9c61c-8b8f-4803-8848-03123c09af62"
   },
   "outputs": [
    {
     "name": "stdout",
     "output_type": "stream",
     "text": [
      "\n",
      " Unique Value Counts per Column:\n",
      "  timestamp: 18\n",
      "  itemid: 417053\n",
      "  property: 1104\n",
      "  value: 1966868\n"
     ]
    }
   ],
   "source": [
    "# Unique values in each Item_properties column\n",
    "print(\"\\n Unique Value Counts per Column:\")\n",
    "for col_name in item_properties_df_copy.columns:\n",
    "    unique_vals = item_properties_df_copy[col_name].nunique()\n",
    "    print(f\"  {col_name}: {unique_vals}\")"
   ]
  },
  {
   "cell_type": "code",
   "execution_count": 54,
   "metadata": {
    "id": "nIHIgtkbOBtW"
   },
   "outputs": [],
   "source": [
    "# Sort data by timestamp and item_id\n",
    "item_properties_df_copy = item_properties_df_copy.sort_values(by=['itemid', 'timestamp'])"
   ]
  },
  {
   "cell_type": "code",
   "execution_count": 55,
   "metadata": {
    "colab": {
     "base_uri": "https://localhost:8080/",
     "height": 676
    },
    "id": "iA8JQXBIOLTv",
    "outputId": "8a1c1be4-484f-4f5e-be57-2ad52460832c"
   },
   "outputs": [
    {
     "data": {
      "text/html": [
       "<div>\n",
       "<style scoped>\n",
       "    .dataframe tbody tr th:only-of-type {\n",
       "        vertical-align: middle;\n",
       "    }\n",
       "\n",
       "    .dataframe tbody tr th {\n",
       "        vertical-align: top;\n",
       "    }\n",
       "\n",
       "    .dataframe thead th {\n",
       "        text-align: right;\n",
       "    }\n",
       "</style>\n",
       "<table border=\"1\" class=\"dataframe\">\n",
       "  <thead>\n",
       "    <tr style=\"text-align: right;\">\n",
       "      <th></th>\n",
       "      <th>timestamp</th>\n",
       "      <th>itemid</th>\n",
       "      <th>property</th>\n",
       "      <th>value</th>\n",
       "    </tr>\n",
       "  </thead>\n",
       "  <tbody>\n",
       "    <tr>\n",
       "      <th>484093</th>\n",
       "      <td>2015-05-10 03:00:00</td>\n",
       "      <td>0</td>\n",
       "      <td>283</td>\n",
       "      <td>66094 372274 478989</td>\n",
       "    </tr>\n",
       "    <tr>\n",
       "      <th>1031883</th>\n",
       "      <td>2015-05-10 03:00:00</td>\n",
       "      <td>0</td>\n",
       "      <td>6</td>\n",
       "      <td>1152934 1238769</td>\n",
       "    </tr>\n",
       "    <tr>\n",
       "      <th>1162784</th>\n",
       "      <td>2015-05-10 03:00:00</td>\n",
       "      <td>0</td>\n",
       "      <td>159</td>\n",
       "      <td>519769</td>\n",
       "    </tr>\n",
       "    <tr>\n",
       "      <th>1528507</th>\n",
       "      <td>2015-05-10 03:00:00</td>\n",
       "      <td>0</td>\n",
       "      <td>678</td>\n",
       "      <td>372274</td>\n",
       "    </tr>\n",
       "    <tr>\n",
       "      <th>431791</th>\n",
       "      <td>2015-05-10 03:00:00</td>\n",
       "      <td>0</td>\n",
       "      <td>790</td>\n",
       "      <td>n91200.000</td>\n",
       "    </tr>\n",
       "    <tr>\n",
       "      <th>491064</th>\n",
       "      <td>2015-05-10 03:00:00</td>\n",
       "      <td>0</td>\n",
       "      <td>categoryid</td>\n",
       "      <td>209</td>\n",
       "    </tr>\n",
       "    <tr>\n",
       "      <th>47207</th>\n",
       "      <td>2015-05-17 03:00:00</td>\n",
       "      <td>0</td>\n",
       "      <td>225</td>\n",
       "      <td>1301326</td>\n",
       "    </tr>\n",
       "    <tr>\n",
       "      <th>669106</th>\n",
       "      <td>2015-05-17 03:00:00</td>\n",
       "      <td>0</td>\n",
       "      <td>6</td>\n",
       "      <td>1152934 1238769</td>\n",
       "    </tr>\n",
       "    <tr>\n",
       "      <th>1205788</th>\n",
       "      <td>2015-05-17 03:00:00</td>\n",
       "      <td>0</td>\n",
       "      <td>available</td>\n",
       "      <td>0</td>\n",
       "    </tr>\n",
       "    <tr>\n",
       "      <th>427470</th>\n",
       "      <td>2015-05-17 03:00:00</td>\n",
       "      <td>0</td>\n",
       "      <td>698</td>\n",
       "      <td>1152934 1238769</td>\n",
       "    </tr>\n",
       "    <tr>\n",
       "      <th>651782</th>\n",
       "      <td>2015-05-24 03:00:00</td>\n",
       "      <td>0</td>\n",
       "      <td>6</td>\n",
       "      <td>1152934 1238769</td>\n",
       "    </tr>\n",
       "    <tr>\n",
       "      <th>1474491</th>\n",
       "      <td>2015-05-24 03:00:00</td>\n",
       "      <td>0</td>\n",
       "      <td>776</td>\n",
       "      <td>318611</td>\n",
       "    </tr>\n",
       "    <tr>\n",
       "      <th>986503</th>\n",
       "      <td>2015-05-24 03:00:00</td>\n",
       "      <td>0</td>\n",
       "      <td>202</td>\n",
       "      <td>478989</td>\n",
       "    </tr>\n",
       "    <tr>\n",
       "      <th>1429905</th>\n",
       "      <td>2015-05-24 03:00:00</td>\n",
       "      <td>0</td>\n",
       "      <td>839</td>\n",
       "      <td>372274</td>\n",
       "    </tr>\n",
       "    <tr>\n",
       "      <th>147374</th>\n",
       "      <td>2015-05-24 03:00:00</td>\n",
       "      <td>0</td>\n",
       "      <td>139</td>\n",
       "      <td>n4800.000 270060 924073</td>\n",
       "    </tr>\n",
       "    <tr>\n",
       "      <th>833100</th>\n",
       "      <td>2015-05-31 03:00:00</td>\n",
       "      <td>0</td>\n",
       "      <td>6</td>\n",
       "      <td>1152934 1238769</td>\n",
       "    </tr>\n",
       "    <tr>\n",
       "      <th>847021</th>\n",
       "      <td>2015-05-31 03:00:00</td>\n",
       "      <td>0</td>\n",
       "      <td>1056</td>\n",
       "      <td>n3.168 1144008</td>\n",
       "    </tr>\n",
       "    <tr>\n",
       "      <th>838677</th>\n",
       "      <td>2015-05-31 03:00:00</td>\n",
       "      <td>0</td>\n",
       "      <td>888</td>\n",
       "      <td>478989</td>\n",
       "    </tr>\n",
       "    <tr>\n",
       "      <th>373813</th>\n",
       "      <td>2015-05-31 03:00:00</td>\n",
       "      <td>0</td>\n",
       "      <td>127</td>\n",
       "      <td>1168476</td>\n",
       "    </tr>\n",
       "    <tr>\n",
       "      <th>709388</th>\n",
       "      <td>2015-05-31 03:00:00</td>\n",
       "      <td>0</td>\n",
       "      <td>869</td>\n",
       "      <td>769062</td>\n",
       "    </tr>\n",
       "  </tbody>\n",
       "</table>\n",
       "</div>"
      ],
      "text/plain": [
       "                  timestamp  itemid    property                    value\n",
       "484093  2015-05-10 03:00:00       0         283      66094 372274 478989\n",
       "1031883 2015-05-10 03:00:00       0           6          1152934 1238769\n",
       "1162784 2015-05-10 03:00:00       0         159                   519769\n",
       "1528507 2015-05-10 03:00:00       0         678                   372274\n",
       "431791  2015-05-10 03:00:00       0         790               n91200.000\n",
       "491064  2015-05-10 03:00:00       0  categoryid                      209\n",
       "47207   2015-05-17 03:00:00       0         225                  1301326\n",
       "669106  2015-05-17 03:00:00       0           6          1152934 1238769\n",
       "1205788 2015-05-17 03:00:00       0   available                        0\n",
       "427470  2015-05-17 03:00:00       0         698          1152934 1238769\n",
       "651782  2015-05-24 03:00:00       0           6          1152934 1238769\n",
       "1474491 2015-05-24 03:00:00       0         776                   318611\n",
       "986503  2015-05-24 03:00:00       0         202                   478989\n",
       "1429905 2015-05-24 03:00:00       0         839                   372274\n",
       "147374  2015-05-24 03:00:00       0         139  n4800.000 270060 924073\n",
       "833100  2015-05-31 03:00:00       0           6          1152934 1238769\n",
       "847021  2015-05-31 03:00:00       0        1056           n3.168 1144008\n",
       "838677  2015-05-31 03:00:00       0         888                   478989\n",
       "373813  2015-05-31 03:00:00       0         127                  1168476\n",
       "709388  2015-05-31 03:00:00       0         869                   769062"
      ]
     },
     "execution_count": 55,
     "metadata": {},
     "output_type": "execute_result"
    }
   ],
   "source": [
    "item_properties_df_copy.head(20)"
   ]
  },
  {
   "cell_type": "code",
   "execution_count": 56,
   "metadata": {
    "colab": {
     "base_uri": "https://localhost:8080/"
    },
    "id": "EuwSdrymRUdT",
    "outputId": "89c4793e-a14e-43de-9f95-3b99cc77a624"
   },
   "outputs": [
    {
     "name": "stdout",
     "output_type": "stream",
     "text": [
      "Items with categoryid: 417053\n",
      "Items with available: 417053\n"
     ]
    }
   ],
   "source": [
    "# Check if any item is missing categoryid or available properties\n",
    "missing_category = item_properties_df[item_properties_df['property'] == 'categoryid']['itemid'].nunique()\n",
    "missing_available = item_properties_df[item_properties_df['property'] == 'available']['itemid'].nunique()\n",
    "\n",
    "print(f\"Items with categoryid: {missing_category}\")\n",
    "print(f\"Items with available: {missing_available}\")"
   ]
  },
  {
   "cell_type": "code",
   "execution_count": 57,
   "metadata": {
    "colab": {
     "base_uri": "https://localhost:8080/"
    },
    "id": "_r79w0geQrnq",
    "outputId": "4376ab4f-2893-4f84-e00a-5df612caf881"
   },
   "outputs": [
    {
     "name": "stdout",
     "output_type": "stream",
     "text": [
      "Items with categoryid: 417053\n",
      "Items with available: 417053\n"
     ]
    }
   ],
   "source": [
    "# Check if any item is missing categoryid or available properties\n",
    "missing_category = item_properties_df_copy[item_properties_df_copy['property'] == 'categoryid']['itemid'].nunique()\n",
    "missing_available = item_properties_df_copy[item_properties_df_copy['property'] == 'available']['itemid'].nunique()\n",
    "\n",
    "print(f\"Items with categoryid: {missing_category}\")\n",
    "print(f\"Items with available: {missing_available}\")"
   ]
  },
  {
   "cell_type": "code",
   "execution_count": 58,
   "metadata": {
    "colab": {
     "base_uri": "https://localhost:8080/",
     "height": 1000
    },
    "id": "wPdx8ZpQm9vp",
    "outputId": "d63ece8c-9600-44a9-cfe8-1f80295d0bf5"
   },
   "outputs": [
    {
     "name": "stdout",
     "output_type": "stream",
     "text": [
      "Top 10 properties that change the most:\n",
      "property\n",
      "888           3000398\n",
      "790           1790516\n",
      "available     1503639\n",
      "categoryid     788214\n",
      "6              631471\n",
      "283            597419\n",
      "776            574220\n",
      "678            481966\n",
      "364            476486\n",
      "202            448938\n",
      "Name: itemid, dtype: int64\n"
     ]
    },
    {
     "data": {
      "image/png": "[encoded data removed]",
      "text/plain": [
       "<Figure size 1000x500 with 1 Axes>"
      ]
     },
     "metadata": {},
     "output_type": "display_data"
    },
    {
     "name": "stdout",
     "output_type": "stream",
     "text": [
      "Number of static properties: dd.Scalar<series-..., dtype=int64>\n",
      "Percentage of properties that remain constant: dd.Scalar<mul-e80..., dtype=float64>%\n",
      "Number of items with changing category IDs: 23352\n",
      "Number of items that changed availability: 67001\n"
     ]
    },
    {
     "data": {
      "image/png": "[encoded data removed]",
      "text/plain": [
       "<Figure size 800x400 with 1 Axes>"
      ]
     },
     "metadata": {},
     "output_type": "display_data"
    }
   ],
   "source": [
    "import dask.dataframe as dd\n",
    "import matplotlib.pyplot as plt\n",
    "\n",
    "# Load your Dask DataFrame (assuming 'ddf' is already loaded)\n",
    "# ddf = dd.read_csv(\"item_properties.csv\")  # Uncomment if needed\n",
    "\n",
    "### Count How Many Times Each Property Changes\n",
    "property_change_counts = item_properties_ddf.groupby(\"property\")[\"itemid\"].count().compute()\n",
    "\n",
    "# Sort and display top 10 changing properties\n",
    "print(\"Top 10 properties that change the most:\")\n",
    "print(property_change_counts.sort_values(ascending=False).head(10))\n",
    "\n",
    "# Plot distribution\n",
    "plt.figure(figsize=(10, 5))\n",
    "property_change_counts.hist(bins=50, log=True)  # Log scale due to high variance\n",
    "plt.xlabel(\"Number of Changes\")\n",
    "plt.ylabel(\"Count of Properties\")\n",
    "plt.title(\"Distribution of Property Changes\")\n",
    "plt.show()\n",
    "\n",
    "\n",
    "###  Identify Properties That Rarely Change ###\n",
    "# Count unique (itemid, property) pairs\n",
    "unique_properties = item_properties_ddf.groupby([\"property\", \"itemid\"]).size().reset_index()\n",
    "# Rename the '0' column to 'count'\n",
    "unique_properties = unique_properties.rename(columns={0: 'count'})\n",
    "\n",
    "# Properties that have only one entry per item\n",
    "static_properties = unique_properties[unique_properties[\"count\"] == 1][\"property\"].nunique()\n",
    "print(f\"Number of static properties: {static_properties}\")\n",
    "\n",
    "# Percentage of static properties\n",
    "total_properties = unique_properties[\"property\"].nunique()\n",
    "percentage_static = (static_properties / total_properties) * 100\n",
    "print(f\"Percentage of properties that remain constant: {percentage_static:}%\")\n",
    "\n",
    "\n",
    "###  Check How Many Items Have Changing Category IDs ###\n",
    "# Filter categoryid changes\n",
    "category_changes = item_properties_ddf[item_properties_ddf[\"property\"] == \"categoryid\"].groupby(\"itemid\")[\"value\"].nunique().compute()\n",
    "\n",
    "# Get number of items with changing categoryid\n",
    "changing_category_items = (category_changes > 1).sum()\n",
    "print(f\"Number of items with changing category IDs: {changing_category_items}\")\n",
    "\n",
    "\n",
    "### Check How Many Items Have Changing Availability (Stock Status) ###\n",
    "availability_changes = item_properties_ddf[item_properties_ddf[\"property\"] == \"available\"].groupby(\"itemid\")[\"value\"].nunique().compute()\n",
    "\n",
    "# Count how many items changed availability at least once\n",
    "changing_availability_items = (availability_changes > 1).sum()\n",
    "print(f\"Number of items that changed availability: {changing_availability_items}\")\n",
    "\n",
    "# Plot category ID and availability changes\n",
    "plt.figure(figsize=(8, 4))\n",
    "plt.bar([\"Category ID Changes\", \"Availability Changes\"], [changing_category_items, changing_availability_items])\n",
    "plt.ylabel(\"Number of Items\")\n",
    "plt.title(\"Number of Items with Changing Properties\")\n",
    "plt.show()"
   ]
  },
  {
   "cell_type": "code",
   "execution_count": null,
   "metadata": {
    "id": "bDdNGWkvrym1"
   },
   "outputs": [],
   "source": []
  },
  {
   "cell_type": "markdown",
   "metadata": {
    "id": "OvKS3ZJgrtYh"
   },
   "source": [
    "1. 23,352 items changed category IDs\n",
    "\n",
    "This is unexpected because an item should not frequently switch categories.\n",
    "Possible reasons:\n",
    "Data errors: Mistakes in recording or merging category information.\n",
    "\n",
    "Reclassification: The system restructured its category taxonomy over time.\n",
    "\n",
    "Genuine shifts: Some items (e.g., multipurpose products) may be reassigned to different categories.\n",
    "\n",
    "\n",
    "2. 67,001 items changed availability\n",
    "\n",
    "This is expected since stock fluctuates over time.\n",
    "Frequent availability changes mean:\n",
    "The inventory system updates data regularly.\n",
    "Many items go out of stock and come back, which affects recommendations."
   ]
  },
  {
   "cell_type": "code",
   "execution_count": 60,
   "metadata": {
    "colab": {
     "base_uri": "https://localhost:8080/"
    },
    "id": "zaDfHiRltY0-",
    "outputId": "d68464e3-8464-45b3-97d0-5aeca88a773a"
   },
   "outputs": [
    {
     "data": {
      "image/png": "[encoded data removed]",
      "text/plain": [
       "<Figure size 1200x600 with 1 Axes>"
      ]
     },
     "metadata": {},
     "output_type": "display_data"
    }
   ],
   "source": [
    "import matplotlib.pyplot as plt\n",
    "import pandas as pd\n",
    "\n",
    "# Assuming `ddf` is your item properties dataframe\n",
    "# Convert timestamp column to datetime\n",
    "ddf = item_properties_ddf\n",
    "\n",
    "# Filter for category ID changes\n",
    "category_changes = ddf[ddf['property'] == 'categoryid']\n",
    "\n",
    "# Count number of unique items that changed category per timestamp\n",
    "category_changes_count = category_changes.groupby('timestamp')['itemid'].nunique().compute() # Compute the result immediately\n",
    "\n",
    "# Plot\n",
    "plt.figure(figsize=(12, 6))\n",
    "plt.plot(category_changes_count.index, category_changes_count.values, marker='o', linestyle='-')\n",
    "plt.xlabel(\"Timestamp\")\n",
    "plt.ylabel(\"Number of Items with Category Changes\")\n",
    "plt.title(\"Number of Items with Changing Category IDs Over Time\")\n",
    "plt.xticks(rotation=45)\n",
    "plt.grid(True)\n",
    "plt.show()"
   ]
  },
  {
   "cell_type": "markdown",
   "metadata": {
    "id": "77Z7K9s4xNKt"
   },
   "source": [
    "This plot shows the number of items whose category IDs changed over time. The sharp decline suggests that category changes were frequent in the early timestamps but stabilized over time.\n",
    "\n",
    "Interpretation:\n",
    "\n",
    "Early spikes: Many items had their categories adjusted initially, possibly due to reclassification or data corrections.\n",
    "\n",
    "Gradual stabilization: Over time, fewer items experienced category changes, indicating a more stable categorization system."
   ]
  },
  {
   "cell_type": "code",
   "execution_count": 62,
   "metadata": {
    "colab": {
     "base_uri": "https://localhost:8080/"
    },
    "id": "Di4DH014wxEB",
    "outputId": "b0145c00-077a-43e5-dbf5-cfebc9ad275b"
   },
   "outputs": [
    {
     "data": {
      "image/png": "[encoded data removed]",
      "text/plain": [
       "<Figure size 1200x600 with 1 Axes>"
      ]
     },
     "metadata": {},
     "output_type": "display_data"
    }
   ],
   "source": [
    "import matplotlib.pyplot as plt\n",
    "import pandas as pd\n",
    "\n",
    "# Assuming `ddf` is your item properties dataframe\n",
    "# Convert timestamp column to datetime\n",
    "ddf = item_properties_ddf\n",
    "\n",
    "# Filter for availability changes\n",
    "availability_changes = ddf[ddf['property'] == 'available']  # Changed 'property' to 'available'\n",
    "\n",
    "# Count number of unique items that changed availability per timestamp\n",
    "availability_changes_count = availability_changes.groupby('timestamp')['itemid'].nunique().compute() # Compute the result immediately\n",
    "\n",
    "# Plot\n",
    "plt.figure(figsize=(12, 6))\n",
    "plt.plot(availability_changes_count.index, availability_changes_count.values, marker='o', linestyle='-')\n",
    "plt.xlabel(\"Timestamp\")\n",
    "plt.ylabel(\"Number of Items with Availability Changes\")  # Changed y-axis label\n",
    "plt.title(\"Number of Items with Changing Availability Over Time\")  # Changed title\n",
    "plt.xticks(rotation=45)\n",
    "plt.grid(True)\n",
    "plt.show()"
   ]
  },
  {
   "cell_type": "markdown",
   "metadata": {
    "id": "RmYndkNNyslS"
   },
   "source": [
    "This plot shows the number of items with availability changes over time. Similar to the category ID changes, availability fluctuations were much higher in the early periods and then stabilized.\n",
    "\n",
    "Interpretation:\n",
    "\n",
    "Early fluctuations: Many items were frequently changing availability at the start. This could be due to:\n",
    "\n",
    "Inventory updates\n",
    "\n",
    "Data corrections\n",
    "\n",
    "System changes affecting availability tracking\n",
    "\n",
    "Gradual stabilization: As time progressed, fewer items experienced availability changes, suggesting:\n",
    "\n",
    "The inventory became more stable\n",
    "\n",
    "The system tracked availability more consistently"
   ]
  },
  {
   "cell_type": "code",
   "execution_count": 64,
   "metadata": {
    "colab": {
     "base_uri": "https://localhost:8080/"
    },
    "id": "vjzBgtzYy891",
    "outputId": "b540e6a9-375c-410a-f747-595f719f9de9"
   },
   "outputs": [
    {
     "data": {
      "image/png": "[encoded data removed]",
      "text/plain": [
       "<Figure size 1000x500 with 1 Axes>"
      ]
     },
     "metadata": {},
     "output_type": "display_data"
    }
   ],
   "source": [
    "import matplotlib.pyplot as plt\n",
    "\n",
    "# Find items that changed both category and availability\n",
    "items_both_changes = set(category_changes) & set(availability_changes)\n",
    "\n",
    "# Filter data for these items\n",
    "df_both_changes = ddf[ddf['itemid'].isin(items_both_changes)]\n",
    "\n",
    "# Count number of affected items per timestamp\n",
    "items_both_over_time = df_both_changes.groupby('timestamp')['itemid'].nunique().compute() #Added compute()\n",
    "\n",
    "# Plot\n",
    "plt.figure(figsize=(10, 5))\n",
    "plt.plot(items_both_over_time.index, items_both_over_time.values, marker='o')\n",
    "plt.xlabel('Timestamp')\n",
    "plt.ylabel('Number of Items with Both Changes')\n",
    "plt.title('Number of Items with Changing Category and Availability Over Time')\n",
    "plt.xticks(rotation=45)\n",
    "plt.grid(True)\n",
    "plt.show()"
   ]
  },
  {
   "cell_type": "code",
   "execution_count": 65,
   "metadata": {
    "colab": {
     "base_uri": "https://localhost:8080/"
    },
    "id": "8aTxX_bU-wN8",
    "outputId": "7a82e428-79ef-4395-ee5d-973ec4a81440"
   },
   "outputs": [
    {
     "name": "stdout",
     "output_type": "stream",
     "text": [
      "            timestamp  itemid property                            value  \\\n",
      "0 2015-09-06 03:00:00  206783      888          1116713 960601 n277.200   \n",
      "1 2015-09-06 03:00:00  206783      888          1116713 960601 n277.200   \n",
      "2 2015-09-06 03:00:00  206783      888          1116713 960601 n277.200   \n",
      "3 2015-08-09 03:00:00  395014      400  n552.000 639502 n720.000 424566   \n",
      "4 2015-08-09 03:00:00  395014      400  n552.000 639502 n720.000 424566   \n",
      "\n",
      "   categoryid  available  \n",
      "0       942.0        0.0  \n",
      "1         NaN        0.0  \n",
      "2         NaN        1.0  \n",
      "3         NaN        NaN  \n",
      "4         NaN        0.0  \n"
     ]
    }
   ],
   "source": [
    "# Extract categoryid and available\n",
    "category_df = ddf[ddf[\"property\"] == \"categoryid\"][[\"itemid\", \"timestamp\", \"value\"]].rename(columns={\"value\": \"categoryid\"})\n",
    "available_df = ddf[ddf[\"property\"] == \"available\"][[\"itemid\", \"timestamp\", \"value\"]].rename(columns={\"value\": \"available\"})\n",
    "\n",
    "# Convert values to numeric\n",
    "category_df[\"categoryid\"] = category_df[\"categoryid\"].astype(int)\n",
    "available_df[\"available\"] = available_df[\"available\"].astype(int)\n",
    "\n",
    "# Merge back to item_props_df so that each row retains its corresponding timestamp-based value\n",
    "item_props_df = ddf.merge(category_df, on=[\"itemid\", \"timestamp\"], how=\"left\")\n",
    "item_props_df = item_props_df.merge(available_df, on=[\"itemid\", \"timestamp\"], how=\"left\")\n",
    "\n",
    "# Now forward-fill, but only within the same item_id and within the same time order\n",
    "# item_props_df = item_props_df.groupby(\"itemid\").apply(lambda x: x.sort_values(\"timestamp\").ffill())\n",
    "\n",
    "# Drop rows where property is \"categoryid\" or \"available\" (since their values are now separate)\n",
    "item_props_df1 = ddf[~ddf[\"property\"].isin([\"categoryid\", \"available\"])]\n",
    "\n",
    "# Ensure 'categoryid' and 'available' are in item_props_df before merging\n",
    "item_props_df = item_props_df[[\"itemid\", \"categoryid\", \"available\"]].drop_duplicates()\n",
    "\n",
    "# Merge back categoryid and available (ensuring correct values per item_id)\n",
    "final_item_df = item_props_df1.merge(\n",
    "    item_props_df,\n",
    "    on=\"itemid\", how=\"left\"\n",
    ")\n",
    "\n",
    "print(final_item_df.head())"
   ]
  },
  {
   "cell_type": "code",
   "execution_count": 66,
   "metadata": {
    "colab": {
     "base_uri": "https://localhost:8080/"
    },
    "id": "YbWJ1i-NIBB6",
    "outputId": "f3abaee6-3cda-40dd-e68d-71caa3db0dab"
   },
   "outputs": [
    {
     "data": {
      "text/html": [
       "<div>\n",
       "<style scoped>\n",
       "    .dataframe tbody tr th:only-of-type {\n",
       "        vertical-align: middle;\n",
       "    }\n",
       "\n",
       "    .dataframe tbody tr th {\n",
       "        vertical-align: top;\n",
       "    }\n",
       "\n",
       "    .dataframe thead th {\n",
       "        text-align: right;\n",
       "    }\n",
       "</style>\n",
       "<table border=\"1\" class=\"dataframe\">\n",
       "  <thead>\n",
       "    <tr style=\"text-align: right;\">\n",
       "      <th></th>\n",
       "      <th>timestamp</th>\n",
       "      <th>itemid</th>\n",
       "      <th>property</th>\n",
       "      <th>value</th>\n",
       "      <th>categoryid</th>\n",
       "      <th>available</th>\n",
       "    </tr>\n",
       "  </thead>\n",
       "  <tbody>\n",
       "    <tr>\n",
       "      <th>0</th>\n",
       "      <td>2015-09-06 03:00:00</td>\n",
       "      <td>206783</td>\n",
       "      <td>888</td>\n",
       "      <td>1116713 960601 n277.200</td>\n",
       "      <td>942.0</td>\n",
       "      <td>0.0</td>\n",
       "    </tr>\n",
       "    <tr>\n",
       "      <th>1</th>\n",
       "      <td>2015-09-06 03:00:00</td>\n",
       "      <td>206783</td>\n",
       "      <td>888</td>\n",
       "      <td>1116713 960601 n277.200</td>\n",
       "      <td>NaN</td>\n",
       "      <td>0.0</td>\n",
       "    </tr>\n",
       "    <tr>\n",
       "      <th>2</th>\n",
       "      <td>2015-09-06 03:00:00</td>\n",
       "      <td>206783</td>\n",
       "      <td>888</td>\n",
       "      <td>1116713 960601 n277.200</td>\n",
       "      <td>NaN</td>\n",
       "      <td>1.0</td>\n",
       "    </tr>\n",
       "    <tr>\n",
       "      <th>3</th>\n",
       "      <td>2015-08-09 03:00:00</td>\n",
       "      <td>395014</td>\n",
       "      <td>400</td>\n",
       "      <td>n552.000 639502 n720.000 424566</td>\n",
       "      <td>NaN</td>\n",
       "      <td>NaN</td>\n",
       "    </tr>\n",
       "    <tr>\n",
       "      <th>4</th>\n",
       "      <td>2015-08-09 03:00:00</td>\n",
       "      <td>395014</td>\n",
       "      <td>400</td>\n",
       "      <td>n552.000 639502 n720.000 424566</td>\n",
       "      <td>NaN</td>\n",
       "      <td>0.0</td>\n",
       "    </tr>\n",
       "  </tbody>\n",
       "</table>\n",
       "</div>"
      ],
      "text/plain": [
       "            timestamp  itemid property                            value  \\\n",
       "0 2015-09-06 03:00:00  206783      888          1116713 960601 n277.200   \n",
       "1 2015-09-06 03:00:00  206783      888          1116713 960601 n277.200   \n",
       "2 2015-09-06 03:00:00  206783      888          1116713 960601 n277.200   \n",
       "3 2015-08-09 03:00:00  395014      400  n552.000 639502 n720.000 424566   \n",
       "4 2015-08-09 03:00:00  395014      400  n552.000 639502 n720.000 424566   \n",
       "\n",
       "   categoryid  available  \n",
       "0       942.0        0.0  \n",
       "1         NaN        0.0  \n",
       "2         NaN        1.0  \n",
       "3         NaN        NaN  \n",
       "4         NaN        0.0  "
      ]
     },
     "execution_count": 66,
     "metadata": {},
     "output_type": "execute_result"
    }
   ],
   "source": [
    "final_item_df.head()"
   ]
  },
  {
   "cell_type": "code",
   "execution_count": 67,
   "metadata": {
    "colab": {
     "base_uri": "https://localhost:8080/"
    },
    "id": "LSY2FVNSIbss",
    "outputId": "f99180e5-5883-427a-c60a-687333103bd9"
   },
   "outputs": [
    {
     "data": {
      "text/html": [
       "<div>\n",
       "<style scoped>\n",
       "    .dataframe tbody tr th:only-of-type {\n",
       "        vertical-align: middle;\n",
       "    }\n",
       "\n",
       "    .dataframe tbody tr th {\n",
       "        vertical-align: top;\n",
       "    }\n",
       "\n",
       "    .dataframe thead th {\n",
       "        text-align: right;\n",
       "    }\n",
       "</style>\n",
       "<table border=\"1\" class=\"dataframe\">\n",
       "  <thead>\n",
       "    <tr style=\"text-align: right;\">\n",
       "      <th></th>\n",
       "      <th>timestamp</th>\n",
       "      <th>itemid</th>\n",
       "      <th>property</th>\n",
       "      <th>value</th>\n",
       "      <th>categoryid</th>\n",
       "      <th>available</th>\n",
       "    </tr>\n",
       "  </thead>\n",
       "  <tbody>\n",
       "    <tr>\n",
       "      <th>3784485</th>\n",
       "      <td>2015-06-07 03:00:00</td>\n",
       "      <td>287231</td>\n",
       "      <td>867</td>\n",
       "      <td>769062</td>\n",
       "      <td>NaN</td>\n",
       "      <td>1.0</td>\n",
       "    </tr>\n",
       "    <tr>\n",
       "      <th>3784486</th>\n",
       "      <td>2015-06-07 03:00:00</td>\n",
       "      <td>287231</td>\n",
       "      <td>867</td>\n",
       "      <td>769062</td>\n",
       "      <td>NaN</td>\n",
       "      <td>0.0</td>\n",
       "    </tr>\n",
       "    <tr>\n",
       "      <th>3784487</th>\n",
       "      <td>2015-06-07 03:00:00</td>\n",
       "      <td>287231</td>\n",
       "      <td>867</td>\n",
       "      <td>769062</td>\n",
       "      <td>771.0</td>\n",
       "      <td>0.0</td>\n",
       "    </tr>\n",
       "    <tr>\n",
       "      <th>3784488</th>\n",
       "      <td>2015-09-13 03:00:00</td>\n",
       "      <td>275768</td>\n",
       "      <td>888</td>\n",
       "      <td>888666 n10800.000 746840 1318567</td>\n",
       "      <td>NaN</td>\n",
       "      <td>NaN</td>\n",
       "    </tr>\n",
       "    <tr>\n",
       "      <th>3784489</th>\n",
       "      <td>2015-09-13 03:00:00</td>\n",
       "      <td>275768</td>\n",
       "      <td>888</td>\n",
       "      <td>888666 n10800.000 746840 1318567</td>\n",
       "      <td>1384.0</td>\n",
       "      <td>0.0</td>\n",
       "    </tr>\n",
       "  </tbody>\n",
       "</table>\n",
       "</div>"
      ],
      "text/plain": [
       "                  timestamp  itemid property  \\\n",
       "3784485 2015-06-07 03:00:00  287231      867   \n",
       "3784486 2015-06-07 03:00:00  287231      867   \n",
       "3784487 2015-06-07 03:00:00  287231      867   \n",
       "3784488 2015-09-13 03:00:00  275768      888   \n",
       "3784489 2015-09-13 03:00:00  275768      888   \n",
       "\n",
       "                                    value  categoryid  available  \n",
       "3784485                            769062         NaN        1.0  \n",
       "3784486                            769062         NaN        0.0  \n",
       "3784487                            769062       771.0        0.0  \n",
       "3784488  888666 n10800.000 746840 1318567         NaN        NaN  \n",
       "3784489  888666 n10800.000 746840 1318567      1384.0        0.0  "
      ]
     },
     "execution_count": 67,
     "metadata": {},
     "output_type": "execute_result"
    }
   ],
   "source": [
    "final_item_df.tail()"
   ]
  },
  {
   "cell_type": "code",
   "execution_count": 68,
   "metadata": {
    "colab": {
     "base_uri": "https://localhost:8080/",
     "height": 417
    },
    "id": "RBIl3VTEDLy1",
    "outputId": "8907ad1e-346e-4ab5-bbc2-13916af959ac"
   },
   "outputs": [
    {
     "data": {
      "text/html": [
       "<div>\n",
       "<style scoped>\n",
       "    .dataframe tbody tr th:only-of-type {\n",
       "        vertical-align: middle;\n",
       "    }\n",
       "\n",
       "    .dataframe tbody tr th {\n",
       "        vertical-align: top;\n",
       "    }\n",
       "\n",
       "    .dataframe thead th {\n",
       "        text-align: right;\n",
       "    }\n",
       "</style>\n",
       "<table border=\"1\" class=\"dataframe\">\n",
       "  <thead>\n",
       "    <tr style=\"text-align: right;\">\n",
       "      <th></th>\n",
       "      <th>timestamp</th>\n",
       "      <th>itemid</th>\n",
       "      <th>property</th>\n",
       "      <th>value</th>\n",
       "    </tr>\n",
       "  </thead>\n",
       "  <tbody>\n",
       "    <tr>\n",
       "      <th>0</th>\n",
       "      <td>2015-06-28 03:00:00</td>\n",
       "      <td>460429</td>\n",
       "      <td>categoryid</td>\n",
       "      <td>1338</td>\n",
       "    </tr>\n",
       "    <tr>\n",
       "      <th>1</th>\n",
       "      <td>2015-09-06 03:00:00</td>\n",
       "      <td>206783</td>\n",
       "      <td>888</td>\n",
       "      <td>1116713 960601 n277.200</td>\n",
       "    </tr>\n",
       "    <tr>\n",
       "      <th>2</th>\n",
       "      <td>2015-08-09 03:00:00</td>\n",
       "      <td>395014</td>\n",
       "      <td>400</td>\n",
       "      <td>n552.000 639502 n720.000 424566</td>\n",
       "    </tr>\n",
       "    <tr>\n",
       "      <th>3</th>\n",
       "      <td>2015-05-10 03:00:00</td>\n",
       "      <td>59481</td>\n",
       "      <td>790</td>\n",
       "      <td>n15360.000</td>\n",
       "    </tr>\n",
       "    <tr>\n",
       "      <th>4</th>\n",
       "      <td>2015-05-17 03:00:00</td>\n",
       "      <td>156781</td>\n",
       "      <td>917</td>\n",
       "      <td>828513</td>\n",
       "    </tr>\n",
       "  </tbody>\n",
       "</table>\n",
       "</div>"
      ],
      "text/plain": [
       "            timestamp  itemid    property                            value\n",
       "0 2015-06-28 03:00:00  460429  categoryid                             1338\n",
       "1 2015-09-06 03:00:00  206783         888          1116713 960601 n277.200\n",
       "2 2015-08-09 03:00:00  395014         400  n552.000 639502 n720.000 424566\n",
       "3 2015-05-10 03:00:00   59481         790                       n15360.000\n",
       "4 2015-05-17 03:00:00  156781         917                           828513"
      ]
     },
     "execution_count": 68,
     "metadata": {},
     "output_type": "execute_result"
    }
   ],
   "source": [
    "ddf.head()"
   ]
  },
  {
   "cell_type": "code",
   "execution_count": 69,
   "metadata": {
    "colab": {
     "base_uri": "https://localhost:8080/"
    },
    "id": "W-ZsocZQ6qAh",
    "outputId": "f63112dc-4526-4347-9ffd-fb382995adf6"
   },
   "outputs": [
    {
     "name": "stdout",
     "output_type": "stream",
     "text": [
      "            timestamp  itemid property                            value  \\\n",
      "0 2015-09-06 03:00:00  206783      888          1116713 960601 n277.200   \n",
      "1 2015-09-06 03:00:00  206783      888          1116713 960601 n277.200   \n",
      "2 2015-09-06 03:00:00  206783      888          1116713 960601 n277.200   \n",
      "3 2015-08-09 03:00:00  395014      400  n552.000 639502 n720.000 424566   \n",
      "4 2015-08-09 03:00:00  395014      400  n552.000 639502 n720.000 424566   \n",
      "\n",
      "   categoryid  available  \n",
      "0       942.0        0.0  \n",
      "1         NaN        0.0  \n",
      "2         NaN        1.0  \n",
      "3         NaN        NaN  \n",
      "4         NaN        0.0  \n"
     ]
    }
   ],
   "source": [
    "# Extract categoryid and available\n",
    "category_df = ddf[ddf[\"property\"] == \"categoryid\"][[\"itemid\", \"timestamp\", \"value\"]].rename(columns={\"value\": \"categoryid\"})\n",
    "available_df = ddf[ddf[\"property\"] == \"available\"][[\"itemid\", \"timestamp\", \"value\"]].rename(columns={\"value\": \"available\"})\n",
    "\n",
    "# Convert values to numeric\n",
    "category_df[\"categoryid\"] = category_df[\"categoryid\"].astype(int)\n",
    "available_df[\"available\"] = available_df[\"available\"].astype(int)\n",
    "\n",
    "# Merge back to item_props_df so that each row retains its corresponding timestamp-based value\n",
    "item_props_df = ddf.merge(category_df, on=[\"itemid\", \"timestamp\"], how=\"left\")\n",
    "item_props_df = item_props_df.merge(available_df, on=[\"itemid\", \"timestamp\"], how=\"left\")\n",
    "\n",
    "# Now forward-fill, but only within the same item_id and within the same time order\n",
    "# item_props_df = item_props_df.groupby(\"itemid\").apply(lambda x: x.sort_values(\"timestamp\").ffill())\n",
    "\n",
    "# Drop rows where property is \"categoryid\" or \"available\" (since their values are now separate)\n",
    "item_props_df1 = ddf[~ddf[\"property\"].isin([\"categoryid\", \"available\"])]\n",
    "\n",
    "# Ensure 'categoryid' and 'available' are in item_props_df before merging\n",
    "item_props_df = item_props_df[[\"itemid\", \"categoryid\", \"available\"]].drop_duplicates()\n",
    "\n",
    "# Merge back categoryid and available (ensuring correct values per item_id)\n",
    "final_item_df = item_props_df1.merge(\n",
    "    item_props_df,\n",
    "    on=\"itemid\", how=\"left\"\n",
    ")\n",
    "\n",
    "print(final_item_df.head())"
   ]
  },
  {
   "cell_type": "code",
   "execution_count": 70,
   "metadata": {
    "colab": {
     "base_uri": "https://localhost:8080/"
    },
    "id": "pxF1r3gf7WOt",
    "outputId": "8d9d2bcc-1ded-4fb7-aa4f-faabe3ca1a7d"
   },
   "outputs": [
    {
     "ename": "FileNotFoundError",
     "evalue": "[Errno 2] No such file or directory: 'C:\\\\Users\\\\sammu\\\\AppData\\\\Local\\\\Temp\\\\tmpjwz5s8g3.partd\\\\.lock'",
     "output_type": "error",
     "traceback": [
      "\u001b[1;31m---------------------------------------------------------------------------\u001b[0m",
      "\u001b[1;31mFileNotFoundError\u001b[0m                         Traceback (most recent call last)",
      "Cell \u001b[1;32mIn[70], line 1\u001b[0m\n\u001b[1;32m----> 1\u001b[0m final_item_df\u001b[38;5;241m.\u001b[39mhead()\n",
      "File \u001b[1;32m~\\anaconda3\\Lib\\site-packages\\dask\\dataframe\\core.py:1397\u001b[0m, in \u001b[0;36m_Frame.head\u001b[1;34m(self, n, npartitions, compute)\u001b[0m\n\u001b[0;32m   1395\u001b[0m \u001b[38;5;66;03m# No need to warn if we're already looking at all partitions\u001b[39;00m\n\u001b[0;32m   1396\u001b[0m safe \u001b[38;5;241m=\u001b[39m npartitions \u001b[38;5;241m!=\u001b[39m \u001b[38;5;28mself\u001b[39m\u001b[38;5;241m.\u001b[39mnpartitions\n\u001b[1;32m-> 1397\u001b[0m \u001b[38;5;28;01mreturn\u001b[39;00m \u001b[38;5;28mself\u001b[39m\u001b[38;5;241m.\u001b[39m_head(n\u001b[38;5;241m=\u001b[39mn, npartitions\u001b[38;5;241m=\u001b[39mnpartitions, compute\u001b[38;5;241m=\u001b[39mcompute, safe\u001b[38;5;241m=\u001b[39msafe)\n",
      "File \u001b[1;32m~\\anaconda3\\Lib\\site-packages\\dask\\dataframe\\core.py:1431\u001b[0m, in \u001b[0;36m_Frame._head\u001b[1;34m(self, n, npartitions, compute, safe)\u001b[0m\n\u001b[0;32m   1426\u001b[0m result \u001b[38;5;241m=\u001b[39m new_dd_object(\n\u001b[0;32m   1427\u001b[0m     graph, name, \u001b[38;5;28mself\u001b[39m\u001b[38;5;241m.\u001b[39m_meta, [\u001b[38;5;28mself\u001b[39m\u001b[38;5;241m.\u001b[39mdivisions[\u001b[38;5;241m0\u001b[39m], \u001b[38;5;28mself\u001b[39m\u001b[38;5;241m.\u001b[39mdivisions[npartitions]]\n\u001b[0;32m   1428\u001b[0m )\n\u001b[0;32m   1430\u001b[0m \u001b[38;5;28;01mif\u001b[39;00m compute:\n\u001b[1;32m-> 1431\u001b[0m     result \u001b[38;5;241m=\u001b[39m result\u001b[38;5;241m.\u001b[39mcompute()\n\u001b[0;32m   1432\u001b[0m \u001b[38;5;28;01mreturn\u001b[39;00m result\n",
      "File \u001b[1;32m~\\anaconda3\\Lib\\site-packages\\dask\\base.py:310\u001b[0m, in \u001b[0;36mDaskMethodsMixin.compute\u001b[1;34m(self, **kwargs)\u001b[0m\n\u001b[0;32m    286\u001b[0m \u001b[38;5;28;01mdef\u001b[39;00m \u001b[38;5;21mcompute\u001b[39m(\u001b[38;5;28mself\u001b[39m, \u001b[38;5;241m*\u001b[39m\u001b[38;5;241m*\u001b[39mkwargs):\n\u001b[0;32m    287\u001b[0m \u001b[38;5;250m    \u001b[39m\u001b[38;5;124;03m\"\"\"Compute this dask collection\u001b[39;00m\n\u001b[0;32m    288\u001b[0m \n\u001b[0;32m    289\u001b[0m \u001b[38;5;124;03m    This turns a lazy Dask collection into its in-memory equivalent.\u001b[39;00m\n\u001b[1;32m   (...)\u001b[0m\n\u001b[0;32m    308\u001b[0m \u001b[38;5;124;03m    dask.compute\u001b[39;00m\n\u001b[0;32m    309\u001b[0m \u001b[38;5;124;03m    \"\"\"\u001b[39;00m\n\u001b[1;32m--> 310\u001b[0m     (result,) \u001b[38;5;241m=\u001b[39m compute(\u001b[38;5;28mself\u001b[39m, traverse\u001b[38;5;241m=\u001b[39m\u001b[38;5;28;01mFalse\u001b[39;00m, \u001b[38;5;241m*\u001b[39m\u001b[38;5;241m*\u001b[39mkwargs)\n\u001b[0;32m    311\u001b[0m     \u001b[38;5;28;01mreturn\u001b[39;00m result\n",
      "File \u001b[1;32m~\\anaconda3\\Lib\\site-packages\\dask\\base.py:595\u001b[0m, in \u001b[0;36mcompute\u001b[1;34m(traverse, optimize_graph, scheduler, get, *args, **kwargs)\u001b[0m\n\u001b[0;32m    592\u001b[0m     keys\u001b[38;5;241m.\u001b[39mappend(x\u001b[38;5;241m.\u001b[39m__dask_keys__())\n\u001b[0;32m    593\u001b[0m     postcomputes\u001b[38;5;241m.\u001b[39mappend(x\u001b[38;5;241m.\u001b[39m__dask_postcompute__())\n\u001b[1;32m--> 595\u001b[0m results \u001b[38;5;241m=\u001b[39m schedule(dsk, keys, \u001b[38;5;241m*\u001b[39m\u001b[38;5;241m*\u001b[39mkwargs)\n\u001b[0;32m    596\u001b[0m \u001b[38;5;28;01mreturn\u001b[39;00m repack([f(r, \u001b[38;5;241m*\u001b[39ma) \u001b[38;5;28;01mfor\u001b[39;00m r, (f, a) \u001b[38;5;129;01min\u001b[39;00m \u001b[38;5;28mzip\u001b[39m(results, postcomputes)])\n",
      "File \u001b[1;32m~\\anaconda3\\Lib\\site-packages\\dask\\threaded.py:89\u001b[0m, in \u001b[0;36mget\u001b[1;34m(dsk, keys, cache, num_workers, pool, **kwargs)\u001b[0m\n\u001b[0;32m     86\u001b[0m     \u001b[38;5;28;01melif\u001b[39;00m \u001b[38;5;28misinstance\u001b[39m(pool, multiprocessing\u001b[38;5;241m.\u001b[39mpool\u001b[38;5;241m.\u001b[39mPool):\n\u001b[0;32m     87\u001b[0m         pool \u001b[38;5;241m=\u001b[39m MultiprocessingPoolExecutor(pool)\n\u001b[1;32m---> 89\u001b[0m results \u001b[38;5;241m=\u001b[39m get_async(\n\u001b[0;32m     90\u001b[0m     pool\u001b[38;5;241m.\u001b[39msubmit,\n\u001b[0;32m     91\u001b[0m     pool\u001b[38;5;241m.\u001b[39m_max_workers,\n\u001b[0;32m     92\u001b[0m     dsk,\n\u001b[0;32m     93\u001b[0m     keys,\n\u001b[0;32m     94\u001b[0m     cache\u001b[38;5;241m=\u001b[39mcache,\n\u001b[0;32m     95\u001b[0m     get_id\u001b[38;5;241m=\u001b[39m_thread_get_id,\n\u001b[0;32m     96\u001b[0m     pack_exception\u001b[38;5;241m=\u001b[39mpack_exception,\n\u001b[0;32m     97\u001b[0m     \u001b[38;5;241m*\u001b[39m\u001b[38;5;241m*\u001b[39mkwargs,\n\u001b[0;32m     98\u001b[0m )\n\u001b[0;32m    100\u001b[0m \u001b[38;5;66;03m# Cleanup pools associated to dead threads\u001b[39;00m\n\u001b[0;32m    101\u001b[0m \u001b[38;5;28;01mwith\u001b[39;00m pools_lock:\n",
      "File \u001b[1;32m~\\anaconda3\\Lib\\site-packages\\dask\\local.py:511\u001b[0m, in \u001b[0;36mget_async\u001b[1;34m(submit, num_workers, dsk, result, cache, get_id, rerun_exceptions_locally, pack_exception, raise_exception, callbacks, dumps, loads, chunksize, **kwargs)\u001b[0m\n\u001b[0;32m    509\u001b[0m         _execute_task(task, data)  \u001b[38;5;66;03m# Re-execute locally\u001b[39;00m\n\u001b[0;32m    510\u001b[0m     \u001b[38;5;28;01melse\u001b[39;00m:\n\u001b[1;32m--> 511\u001b[0m         raise_exception(exc, tb)\n\u001b[0;32m    512\u001b[0m res, worker_id \u001b[38;5;241m=\u001b[39m loads(res_info)\n\u001b[0;32m    513\u001b[0m state[\u001b[38;5;124m\"\u001b[39m\u001b[38;5;124mcache\u001b[39m\u001b[38;5;124m\"\u001b[39m][key] \u001b[38;5;241m=\u001b[39m res\n",
      "File \u001b[1;32m~\\anaconda3\\Lib\\site-packages\\dask\\local.py:319\u001b[0m, in \u001b[0;36mreraise\u001b[1;34m(exc, tb)\u001b[0m\n\u001b[0;32m    317\u001b[0m \u001b[38;5;28;01mif\u001b[39;00m exc\u001b[38;5;241m.\u001b[39m__traceback__ \u001b[38;5;129;01mis\u001b[39;00m \u001b[38;5;129;01mnot\u001b[39;00m tb:\n\u001b[0;32m    318\u001b[0m     \u001b[38;5;28;01mraise\u001b[39;00m exc\u001b[38;5;241m.\u001b[39mwith_traceback(tb)\n\u001b[1;32m--> 319\u001b[0m \u001b[38;5;28;01mraise\u001b[39;00m exc\n",
      "File \u001b[1;32m~\\anaconda3\\Lib\\site-packages\\dask\\local.py:224\u001b[0m, in \u001b[0;36mexecute_task\u001b[1;34m(key, task_info, dumps, loads, get_id, pack_exception)\u001b[0m\n\u001b[0;32m    222\u001b[0m \u001b[38;5;28;01mtry\u001b[39;00m:\n\u001b[0;32m    223\u001b[0m     task, data \u001b[38;5;241m=\u001b[39m loads(task_info)\n\u001b[1;32m--> 224\u001b[0m     result \u001b[38;5;241m=\u001b[39m _execute_task(task, data)\n\u001b[0;32m    225\u001b[0m     \u001b[38;5;28mid\u001b[39m \u001b[38;5;241m=\u001b[39m get_id()\n\u001b[0;32m    226\u001b[0m     result \u001b[38;5;241m=\u001b[39m dumps((result, \u001b[38;5;28mid\u001b[39m))\n",
      "File \u001b[1;32m~\\anaconda3\\Lib\\site-packages\\dask\\core.py:121\u001b[0m, in \u001b[0;36m_execute_task\u001b[1;34m(arg, cache, dsk)\u001b[0m\n\u001b[0;32m    117\u001b[0m     func, args \u001b[38;5;241m=\u001b[39m arg[\u001b[38;5;241m0\u001b[39m], arg[\u001b[38;5;241m1\u001b[39m:]\n\u001b[0;32m    118\u001b[0m     \u001b[38;5;66;03m# Note: Don't assign the subtask results to a variable. numpy detects\u001b[39;00m\n\u001b[0;32m    119\u001b[0m     \u001b[38;5;66;03m# temporaries by their reference count and can execute certain\u001b[39;00m\n\u001b[0;32m    120\u001b[0m     \u001b[38;5;66;03m# operations in-place.\u001b[39;00m\n\u001b[1;32m--> 121\u001b[0m     \u001b[38;5;28;01mreturn\u001b[39;00m func(\u001b[38;5;241m*\u001b[39m(_execute_task(a, cache) \u001b[38;5;28;01mfor\u001b[39;00m a \u001b[38;5;129;01min\u001b[39;00m args))\n\u001b[0;32m    122\u001b[0m \u001b[38;5;28;01melif\u001b[39;00m \u001b[38;5;129;01mnot\u001b[39;00m ishashable(arg):\n\u001b[0;32m    123\u001b[0m     \u001b[38;5;28;01mreturn\u001b[39;00m arg\n",
      "File \u001b[1;32m~\\anaconda3\\Lib\\site-packages\\dask\\dataframe\\shuffle.py:945\u001b[0m, in \u001b[0;36mshuffle_group_3\u001b[1;34m(df, col, npartitions, p)\u001b[0m\n\u001b[0;32m    943\u001b[0m g \u001b[38;5;241m=\u001b[39m df\u001b[38;5;241m.\u001b[39mgroupby(col)\n\u001b[0;32m    944\u001b[0m d \u001b[38;5;241m=\u001b[39m {i: g\u001b[38;5;241m.\u001b[39mget_group(i) \u001b[38;5;28;01mfor\u001b[39;00m i \u001b[38;5;129;01min\u001b[39;00m g\u001b[38;5;241m.\u001b[39mgroups}\n\u001b[1;32m--> 945\u001b[0m p\u001b[38;5;241m.\u001b[39mappend(d, fsync\u001b[38;5;241m=\u001b[39m\u001b[38;5;28;01mTrue\u001b[39;00m)\n",
      "File \u001b[1;32m~\\anaconda3\\Lib\\site-packages\\partd\\encode.py:25\u001b[0m, in \u001b[0;36mEncode.append\u001b[1;34m(self, data, **kwargs)\u001b[0m\n\u001b[0;32m     23\u001b[0m data \u001b[38;5;241m=\u001b[39m valmap(\u001b[38;5;28mself\u001b[39m\u001b[38;5;241m.\u001b[39mencode, data)\n\u001b[0;32m     24\u001b[0m data \u001b[38;5;241m=\u001b[39m valmap(frame, data)\n\u001b[1;32m---> 25\u001b[0m \u001b[38;5;28mself\u001b[39m\u001b[38;5;241m.\u001b[39mpartd\u001b[38;5;241m.\u001b[39mappend(data, \u001b[38;5;241m*\u001b[39m\u001b[38;5;241m*\u001b[39mkwargs)\n",
      "File \u001b[1;32m~\\anaconda3\\Lib\\site-packages\\partd\\buffer.py:45\u001b[0m, in \u001b[0;36mBuffer.append\u001b[1;34m(self, data, lock, **kwargs)\u001b[0m\n\u001b[0;32m     43\u001b[0m     \u001b[38;5;28;01mwhile\u001b[39;00m \u001b[38;5;28mself\u001b[39m\u001b[38;5;241m.\u001b[39mmemory_usage \u001b[38;5;241m>\u001b[39m \u001b[38;5;28mself\u001b[39m\u001b[38;5;241m.\u001b[39mavailable_memory:\n\u001b[0;32m     44\u001b[0m         keys \u001b[38;5;241m=\u001b[39m keys_to_flush(\u001b[38;5;28mself\u001b[39m\u001b[38;5;241m.\u001b[39mlengths, \u001b[38;5;241m0.1\u001b[39m, maxcount\u001b[38;5;241m=\u001b[39m\u001b[38;5;241m20\u001b[39m)\n\u001b[1;32m---> 45\u001b[0m         \u001b[38;5;28mself\u001b[39m\u001b[38;5;241m.\u001b[39mflush(keys)\n\u001b[0;32m     47\u001b[0m \u001b[38;5;28;01mfinally\u001b[39;00m:\n\u001b[0;32m     48\u001b[0m     \u001b[38;5;28;01mif\u001b[39;00m lock: \u001b[38;5;28mself\u001b[39m\u001b[38;5;241m.\u001b[39mlock\u001b[38;5;241m.\u001b[39mrelease()\n",
      "File \u001b[1;32m~\\anaconda3\\Lib\\site-packages\\partd\\buffer.py:99\u001b[0m, in \u001b[0;36mBuffer.flush\u001b[1;34m(self, keys, block)\u001b[0m\n\u001b[0;32m     96\u001b[0m \u001b[38;5;28;01mif\u001b[39;00m keys \u001b[38;5;129;01mis\u001b[39;00m \u001b[38;5;28;01mNone\u001b[39;00m:\n\u001b[0;32m     97\u001b[0m     keys \u001b[38;5;241m=\u001b[39m \u001b[38;5;28mlist\u001b[39m(\u001b[38;5;28mself\u001b[39m\u001b[38;5;241m.\u001b[39mlengths)\n\u001b[1;32m---> 99\u001b[0m \u001b[38;5;28mself\u001b[39m\u001b[38;5;241m.\u001b[39mslow\u001b[38;5;241m.\u001b[39mappend(\u001b[38;5;28mdict\u001b[39m(\u001b[38;5;28mzip\u001b[39m(keys, \u001b[38;5;28mself\u001b[39m\u001b[38;5;241m.\u001b[39mfast\u001b[38;5;241m.\u001b[39mget(keys))))\n\u001b[0;32m    100\u001b[0m \u001b[38;5;28mself\u001b[39m\u001b[38;5;241m.\u001b[39mfast\u001b[38;5;241m.\u001b[39mdelete(keys)\n\u001b[0;32m    102\u001b[0m \u001b[38;5;28;01mfor\u001b[39;00m key \u001b[38;5;129;01min\u001b[39;00m keys:\n",
      "File \u001b[1;32m~\\anaconda3\\Lib\\site-packages\\partd\\file.py:35\u001b[0m, in \u001b[0;36mFile.append\u001b[1;34m(self, data, lock, fsync, **kwargs)\u001b[0m\n\u001b[0;32m     34\u001b[0m \u001b[38;5;28;01mdef\u001b[39;00m \u001b[38;5;21mappend\u001b[39m(\u001b[38;5;28mself\u001b[39m, data, lock\u001b[38;5;241m=\u001b[39m\u001b[38;5;28;01mTrue\u001b[39;00m, fsync\u001b[38;5;241m=\u001b[39m\u001b[38;5;28;01mFalse\u001b[39;00m, \u001b[38;5;241m*\u001b[39m\u001b[38;5;241m*\u001b[39mkwargs):\n\u001b[1;32m---> 35\u001b[0m     \u001b[38;5;28;01mif\u001b[39;00m lock: \u001b[38;5;28mself\u001b[39m\u001b[38;5;241m.\u001b[39mlock\u001b[38;5;241m.\u001b[39macquire()\n\u001b[0;32m     36\u001b[0m     \u001b[38;5;28;01mtry\u001b[39;00m:\n\u001b[0;32m     37\u001b[0m         \u001b[38;5;28;01mfor\u001b[39;00m k, v \u001b[38;5;129;01min\u001b[39;00m data\u001b[38;5;241m.\u001b[39mitems():\n",
      "File \u001b[1;32m~\\anaconda3\\Lib\\site-packages\\locket\\__init__.py:198\u001b[0m, in \u001b[0;36m_Locker.acquire\u001b[1;34m(self)\u001b[0m\n\u001b[0;32m    197\u001b[0m \u001b[38;5;28;01mdef\u001b[39;00m \u001b[38;5;21macquire\u001b[39m(\u001b[38;5;28mself\u001b[39m):\n\u001b[1;32m--> 198\u001b[0m     \u001b[38;5;28mself\u001b[39m\u001b[38;5;241m.\u001b[39m_lock\u001b[38;5;241m.\u001b[39macquire(\u001b[38;5;28mself\u001b[39m\u001b[38;5;241m.\u001b[39m_timeout, \u001b[38;5;28mself\u001b[39m\u001b[38;5;241m.\u001b[39m_retry_period)\n",
      "File \u001b[1;32m~\\anaconda3\\Lib\\site-packages\\locket\\__init__.py:118\u001b[0m, in \u001b[0;36m_LockSet.acquire\u001b[1;34m(self, timeout, retry_period)\u001b[0m\n\u001b[0;32m    116\u001b[0m \u001b[38;5;28;01mtry\u001b[39;00m:\n\u001b[0;32m    117\u001b[0m     \u001b[38;5;28;01mfor\u001b[39;00m lock \u001b[38;5;129;01min\u001b[39;00m \u001b[38;5;28mself\u001b[39m\u001b[38;5;241m.\u001b[39m_locks:\n\u001b[1;32m--> 118\u001b[0m         lock\u001b[38;5;241m.\u001b[39macquire(timeout, retry_period)\n\u001b[0;32m    119\u001b[0m         acquired_locks\u001b[38;5;241m.\u001b[39mappend(lock)\n\u001b[0;32m    120\u001b[0m \u001b[38;5;28;01mexcept\u001b[39;00m:\n",
      "File \u001b[1;32m~\\anaconda3\\Lib\\site-packages\\locket\\__init__.py:158\u001b[0m, in \u001b[0;36m_LockFile.acquire\u001b[1;34m(self, timeout, retry_period)\u001b[0m\n\u001b[0;32m    157\u001b[0m \u001b[38;5;28;01mdef\u001b[39;00m \u001b[38;5;21macquire\u001b[39m(\u001b[38;5;28mself\u001b[39m, timeout\u001b[38;5;241m=\u001b[39m\u001b[38;5;28;01mNone\u001b[39;00m, retry_period\u001b[38;5;241m=\u001b[39m\u001b[38;5;28;01mNone\u001b[39;00m):\n\u001b[1;32m--> 158\u001b[0m     fileobj \u001b[38;5;241m=\u001b[39m \u001b[38;5;28mopen\u001b[39m(\u001b[38;5;28mself\u001b[39m\u001b[38;5;241m.\u001b[39m_path, \u001b[38;5;124m\"\u001b[39m\u001b[38;5;124mwb\u001b[39m\u001b[38;5;124m\"\u001b[39m)\n\u001b[0;32m    160\u001b[0m     \u001b[38;5;28;01mtry\u001b[39;00m:\n\u001b[0;32m    161\u001b[0m         \u001b[38;5;28;01mif\u001b[39;00m timeout \u001b[38;5;129;01mis\u001b[39;00m \u001b[38;5;28;01mNone\u001b[39;00m \u001b[38;5;129;01mand\u001b[39;00m _lock_file_blocking_available:\n",
      "\u001b[1;31mFileNotFoundError\u001b[0m: [Errno 2] No such file or directory: 'C:\\\\Users\\\\sammu\\\\AppData\\\\Local\\\\Temp\\\\tmpjwz5s8g3.partd\\\\.lock'"
     ]
    }
   ],
   "source": [
    "final_item_df.head()"
   ]
  },
  {
   "cell_type": "code",
   "execution_count": null,
   "metadata": {
    "colab": {
     "base_uri": "https://localhost:8080/",
     "height": 399
    },
    "id": "H9QWBCW37gDM",
    "outputId": "ce6545ab-bfdf-4a93-bc4a-10839dd78575"
   },
   "outputs": [],
   "source": [
    "final_item_df.tail()"
   ]
  },
  {
   "cell_type": "code",
   "execution_count": null,
   "metadata": {
    "id": "VwKAJQcPXaKu"
   },
   "outputs": [],
   "source": [
    "# ✅ Convert Dask DataFrame to Pandas before using groupby operations\n",
    "if isinstance(final_item_df, dd.DataFrame):\n",
    "    final_item_df = final_item_df.compute()\n",
    "\n",
    "# ✅ Ensure timestamp is in datetime format\n",
    "final_item_df[\"timestamp\"] = pd.to_datetime(final_item_df[\"timestamp\"], errors=\"coerce\")\n",
    "\n",
    "# ✅ Sort values in ascending order\n",
    "item_props_df = final_item_df.sort_values([\"itemid\", \"timestamp\"])\n",
    "\n",
    "# ✅ Forward-fill only from June 2015 onwards\n",
    "mask_forward_fill = item_props_df[\"timestamp\"] >= \"2015-06-01\"\n",
    "item_props_df.loc[mask_forward_fill, \"value\"] = (\n",
    "    item_props_df.loc[mask_forward_fill]\n",
    "    .groupby(\"itemid\")[\"value\"]\n",
    "    .ffill()\n",
    ")\n",
    "\n",
    "# ✅ Backward-fill for early months (before June 2015)\n",
    "mask_backward_fill = item_props_df[\"timestamp\"] < \"2015-06-01\"\n",
    "item_props_df.loc[mask_backward_fill, \"value\"] = (\n",
    "    item_props_df.loc[mask_backward_fill]\n",
    "    .groupby(\"itemid\")[\"value\"]\n",
    "    .bfill()\n",
    ")\n",
    "\n",
    "# ✅ Verify the filling process\n",
    "print(\"✅ Missing values after filling:\\n\", item_props_df.isna().sum())\n"
   ]
  },
  {
   "cell_type": "code",
   "execution_count": null,
   "metadata": {
    "id": "YA4Ol46EkISZ"
   },
   "outputs": [],
   "source": [
    "import dask.dataframe as dd\n",
    "import pandas as pd\n",
    "\n",
    "# Ensure item_props_df is a Dask DataFrame\n",
    "if not isinstance(item_props_df, dd.DataFrame):\n",
    "    item_props_df = dd.from_pandas(item_props_df, npartitions=10)\n",
    "\n",
    "# Convert timestamp to datetime\n",
    "item_props_df[\"timestamp\"] = dd.to_datetime(item_props_df[\"timestamp\"], errors=\"coerce\")\n",
    "\n",
    "# Find the latest timestamp per itemid\n",
    "max_timestamps = item_props_df.groupby(\"itemid\")[\"timestamp\"].max().reset_index()\n",
    "\n",
    "# Merge to get the latest entries, handling duplicates if any\n",
    "latest_item_props_ddf = item_props_df.merge(max_timestamps, on=[\"itemid\", \"timestamp\"])\n",
    "latest_item_props_ddf = latest_item_props_ddf.drop_duplicates(subset=\"itemid\", keep=\"first\")\n",
    "\n",
    "# Compute to Pandas DataFrame\n",
    "latest_item_props_df = latest_item_props_ddf.compute().reset_index(drop=True)\n",
    "\n",
    "# Ensure events_df is a Dask DataFrame\n",
    "if not isinstance(events_df, dd.DataFrame):\n",
    "    events_ddf = dd.from_pandas(events_df, npartitions=10)\n",
    "\n",
    "# Merge with latest item properties\n",
    "merged_ddf = events_ddf.merge(latest_item_props_df, on=\"itemid\", how=\"left\")\n",
    "\n",
    "# Compute the final merged DataFrame\n",
    "merged_df = merged_ddf.compute()\n",
    "\n",
    "print(\"✅ Merged DataFrame Preview:\")\n",
    "print(merged_df.head())"
   ]
  },
  {
   "cell_type": "markdown",
   "metadata": {
    "id": "Glk3rs24Y1X7"
   },
   "source": [
    "### Exploring the Category Tree Dataframe"
   ]
  },
  {
   "cell_type": "code",
   "execution_count": null,
   "metadata": {
    "id": "iHOqNw40SCfM"
   },
   "outputs": [],
   "source": [
    "category_tree_df.head()"
   ]
  },
  {
   "cell_type": "code",
   "execution_count": null,
   "metadata": {
    "id": "-wl7d_ScSLkH"
   },
   "outputs": [],
   "source": [
    "category_tree_df.tail()"
   ]
  },
  {
   "cell_type": "code",
   "execution_count": null,
   "metadata": {
    "id": "ib-3jR3jSQi3"
   },
   "outputs": [],
   "source": [
    "print(\"*** Missing Values in category_tree *** \")\n",
    "category_tree_df.isna().sum()"
   ]
  },
  {
   "cell_type": "code",
   "execution_count": null,
   "metadata": {
    "id": "znwphVQGZFnx"
   },
   "outputs": [],
   "source": [
    "print(\" --- Percentage of null values per column ---\")\n",
    "print((category_tree_df.isnull().sum() / category_tree_df.shape[0]) * 100)"
   ]
  },
  {
   "cell_type": "code",
   "execution_count": null,
   "metadata": {
    "id": "7JNl1nhbSWHK"
   },
   "outputs": [],
   "source": [
    "category_tree_df.info()"
   ]
  },
  {
   "cell_type": "code",
   "execution_count": null,
   "metadata": {
    "id": "ZkqI7R3hUtqz"
   },
   "outputs": [],
   "source": [
    "category_tree_df.describe()"
   ]
  },
  {
   "cell_type": "code",
   "execution_count": null,
   "metadata": {
    "id": "kevvBbTIU43V"
   },
   "outputs": [],
   "source": [
    "category_tree_df.duplicated().sum()"
   ]
  },
  {
   "cell_type": "code",
   "execution_count": null,
   "metadata": {
    "id": "dydryV8yLlS2"
   },
   "outputs": [],
   "source": [
    "# Dropping rows with missing values in the 'parentid' column\n",
    "#category_tree_df.dropna(subset=['parentid'], inplace=True)"
   ]
  },
  {
   "cell_type": "code",
   "execution_count": null,
   "metadata": {
    "id": "CWcKVMzdLpH6"
   },
   "outputs": [],
   "source": [
    "category_tree_df.isna().sum()"
   ]
  },
  {
   "cell_type": "code",
   "execution_count": null,
   "metadata": {
    "id": "NuuDIrhGaGSG"
   },
   "outputs": [],
   "source": [
    "# Unique values in each column\n",
    "print(\" --- Unique Value Counts per Column: ---\")\n",
    "for col_name in category_tree_df.columns:\n",
    "    unique_vals = category_tree_df[col_name].nunique()\n",
    "    print(f\"  {col_name}: {unique_vals}\")"
   ]
  },
  {
   "cell_type": "code",
   "execution_count": null,
   "metadata": {
    "id": "lVn8l7jyaiqj"
   },
   "outputs": [],
   "source": [
    "# Root categories are those with parentid == NaN\n",
    "root_categories = category_tree_df[category_tree_df['parentid'].isna()]\n",
    "print(f\"\\nRoot Categories (count={root_categories.shape[0]}):\")\n",
    "root_categories.head(10)"
   ]
  },
  {
   "cell_type": "code",
   "execution_count": null,
   "metadata": {
    "id": "0V5wj_OTbDKN"
   },
   "outputs": [],
   "source": [
    "# Exclude rows where parentid is null\n",
    "non_null_parents = category_tree_df.dropna(subset=['parentid'])\n",
    "\n",
    "parent_child_counts = non_null_parents.groupby('parentid')['categoryid'].count()\n",
    "print(\"\\n=== Distribution of child counts per parent ===\")\n",
    "print(parent_child_counts.describe())\n",
    "\n",
    "print(\"\\nTop 10 Parents by Number of Children:\")\n",
    "top_parents = parent_child_counts.sort_values(ascending=False).head(10)\n",
    "print(top_parents)"
   ]
  },
  {
   "cell_type": "code",
   "execution_count": null,
   "metadata": {
    "id": "WtpvTOE6fRq1"
   },
   "outputs": [],
   "source": [
    "# Handling missing values in the parentid. since the percentage of missing data is small 1.2% we drop the values.\n",
    "missing_parentid_count = category_tree_df['parentid'].isna().sum()\n",
    "print(f\"Number of missing 'parentid' values: {missing_parentid_count}\")\n",
    "category_tree_df.dropna(subset =['parentid'], inplace=True)"
   ]
  },
  {
   "cell_type": "code",
   "execution_count": null,
   "metadata": {
    "id": "Nw9MjvEHnA4v"
   },
   "outputs": [],
   "source": [
    "#Checking for missing values after dropping missing values in the parentid\n",
    "category_tree_df.isna().sum()\n"
   ]
  },
  {
   "cell_type": "markdown",
   "metadata": {
    "id": "-PQjg9S9cSpb"
   },
   "source": [
    "## Univariate Analysis"
   ]
  },
  {
   "cell_type": "markdown",
   "metadata": {
    "id": "L-fJ_g15dmqH"
   },
   "source": [
    "### Events Dataframe"
   ]
  },
  {
   "cell_type": "markdown",
   "metadata": {
    "id": "uKv30wfRor-I"
   },
   "source": [
    "#### Numerical"
   ]
  },
  {
   "cell_type": "code",
   "execution_count": null,
   "metadata": {
    "id": "-r98UoTMcRRg"
   },
   "outputs": [],
   "source": [
    "#timestamp\n",
    "plt.figure(figsize=(6,4))\n",
    "sns.histplot(events_df['timestamp'], bins=30, kde=True, color='blue')\n",
    "plt.title(\"timestamp Distribution\")\n",
    "plt.xlabel(\"timestamp\")\n",
    "plt.ylabel(\"Count\")\n",
    "plt.xticks(rotation=45)\n",
    "plt.show()"
   ]
  },
  {
   "cell_type": "code",
   "execution_count": null,
   "metadata": {
    "id": "f-5mLjtyn2Q5"
   },
   "outputs": [],
   "source": [
    "# visitorid\n",
    "plt.figure(figsize=(6,4))\n",
    "sns.histplot(events_df['visitorid'], bins=30, color='blue')\n",
    "plt.title(\"visitorid Distribution\")\n",
    "plt.xlabel(\"visitorid\")\n",
    "plt.ylabel(\"Count\")\n",
    "plt.show()"
   ]
  },
  {
   "cell_type": "code",
   "execution_count": null,
   "metadata": {
    "id": "0LzKe0EDoCKN"
   },
   "outputs": [],
   "source": [
    "# transactionid\n",
    "plt.figure(figsize=(6,4))\n",
    "sns.histplot(events_df['transactionid'], bins=30, color='blue')\n",
    "plt.title(\"Transactionid Distribution\")\n",
    "plt.xlabel(\"transactionid\")\n",
    "plt.ylabel(\"Count\")\n",
    "plt.show()"
   ]
  },
  {
   "cell_type": "markdown",
   "metadata": {
    "id": "px6RQyhwpBSn"
   },
   "source": [
    "#### Categorical"
   ]
  },
  {
   "cell_type": "code",
   "execution_count": null,
   "metadata": {
    "id": "a7D_y_kXi3Jm"
   },
   "outputs": [],
   "source": [
    "# event\n",
    "plt.figure(figsize=(6, 4))\n",
    "ax = sns.countplot(x=\"event\", data=events_df, order=events_counts.index)\n",
    "\n",
    "# Add count labels\n",
    "for p in ax.patches:\n",
    "    ax.text(p.get_x() + p.get_width() / 2, p.get_height(), int(p.get_height()),\n",
    "            ha='center', va='bottom', fontsize=10)\n",
    "\n",
    "plt.title(\"Event Type Distribution\")\n",
    "plt.xlabel(\"Event Type\")\n",
    "plt.ylabel(\"Count\")\n",
    "plt.show()"
   ]
  },
  {
   "cell_type": "markdown",
   "metadata": {
    "id": "KfAiZ-LKl20b"
   },
   "source": [
    "### Items Properties"
   ]
  },
  {
   "cell_type": "markdown",
   "metadata": {
    "id": "QttT8TzvpPSs"
   },
   "source": [
    "#### Numeric"
   ]
  },
  {
   "cell_type": "code",
   "execution_count": null,
   "metadata": {
    "id": "Z6KArShZlzxK"
   },
   "outputs": [],
   "source": [
    "# timestamp\n",
    "plt.figure(figsize=(6,4))\n",
    "sns.histplot(item_properties_df['timestamp'], bins=20, kde=False, color='blue')\n",
    "plt.title(\"item_properties['timestamp'] Distribution\")\n",
    "plt.xlabel(\"timestamp\")\n",
    "plt.ylabel(\"Count\")\n",
    "plt.xticks(rotation=45)\n",
    "plt.show()"
   ]
  },
  {
   "cell_type": "code",
   "execution_count": null,
   "metadata": {
    "id": "RVbfYjplp7Wa"
   },
   "outputs": [],
   "source": [
    "# Itemid\n",
    "plt.figure(figsize=(6,4))\n",
    "sns.histplot(item_properties_df['itemid'], bins=30, color='blue')\n",
    "plt.title(\"Itemid Distribution\")\n",
    "plt.xlabel(\"Itemid\")\n",
    "plt.ylabel(\"Count\")\n",
    "plt.show()"
   ]
  },
  {
   "cell_type": "markdown",
   "metadata": {
    "id": "ZHj5ulyApVwI"
   },
   "source": [
    "#### Categorical"
   ]
  },
  {
   "cell_type": "code",
   "execution_count": null,
   "metadata": {
    "id": "nsmrZEx-mVtZ"
   },
   "outputs": [],
   "source": [
    "# Property\n",
    "plt.figure(figsize=(6,4))\n",
    "top_10_item_properties = item_properties_df['property'].value_counts().head(10)\n",
    "sns.barplot(x=top_10_item_properties.values, y=top_10_item_properties.index, orient='h')\n",
    "plt.title(\"Top 10 'item property'\")\n",
    "plt.xlabel(\"Count\")\n",
    "plt.ylabel(\"Item Property\")\n",
    "plt.show()"
   ]
  },
  {
   "cell_type": "code",
   "execution_count": null,
   "metadata": {
    "id": "xVrMO-RuqU_F"
   },
   "outputs": [],
   "source": [
    "# value\n",
    "plt.figure(figsize=(6,4))\n",
    "top_10_item_value = item_properties_df['value'].value_counts().head(10)\n",
    "sns.barplot(x=top_10_item_value.values, y=top_10_item_value.index, orient='h')\n",
    "plt.title(\"Top 10 'item Value'\")\n",
    "plt.xlabel(\"Count\")\n",
    "plt.ylabel(\"Item Value\")\n",
    "plt.show()"
   ]
  },
  {
   "cell_type": "markdown",
   "metadata": {
    "id": "Smgea10qnUaS"
   },
   "source": [
    "### Category Tree DataFrame"
   ]
  },
  {
   "cell_type": "markdown",
   "metadata": {
    "id": "Ki6VdDMgpLVJ"
   },
   "source": [
    "#### Numeric"
   ]
  },
  {
   "cell_type": "code",
   "execution_count": null,
   "metadata": {
    "id": "iOmUa5RWnehZ"
   },
   "outputs": [],
   "source": [
    "# categoryid\n",
    "plt.figure(figsize=(6,4))\n",
    "sns.histplot(category_tree_df['categoryid'], bins=30, color='blue')\n",
    "plt.title(\"categoryid Distribution\")\n",
    "plt.xlabel(\"categoryid\")\n",
    "plt.ylabel(\"Count\")\n",
    "plt.show()"
   ]
  },
  {
   "cell_type": "code",
   "execution_count": null,
   "metadata": {
    "id": "FhTRVfFyq1eP"
   },
   "outputs": [],
   "source": [
    "# parentid\n",
    "plt.figure(figsize=(6,4))\n",
    "sns.histplot(category_tree_df['parentid'], bins=30, color='blue')\n",
    "plt.title(\"parentid Distribution\")\n",
    "plt.xlabel(\"parentid\")\n",
    "plt.ylabel(\"Count\")\n",
    "plt.show()"
   ]
  },
  {
   "cell_type": "markdown",
   "metadata": {
    "id": "If8msQPwwXC-"
   },
   "source": [
    "### Analytical Questions"
   ]
  },
  {
   "cell_type": "markdown",
   "metadata": {
    "id": "zcAeypp3wb4m"
   },
   "source": [
    "### 1. What are the top 10 items viewed by Customers?"
   ]
  },
  {
   "cell_type": "code",
   "execution_count": null,
   "metadata": {
    "id": "ij5ivIaZv-sr"
   },
   "outputs": [],
   "source": [
    "# Top items viewed by customer\n",
    "top_view_items = events_df[events_df['event'] == 'view']['itemid'].value_counts().head(10)\n",
    "print(top_view_items)\n",
    "\n",
    "# Sorting values in descending order\n",
    "top_view_items_sorts = top_view_items.sort_values(ascending=False)\n",
    "\n",
    "plt.figure(figsize=(10, 6))\n",
    "sns.barplot(x=top_view_items_sorts.index, y=top_view_items_sorts.values)\n",
    "plt.title('Top 10 Viewed Items')\n",
    "plt.xlabel('Item ID')\n",
    "plt.ylabel('Number of Views')\n",
    "plt.show()"
   ]
  },
  {
   "cell_type": "markdown",
   "metadata": {
    "id": "f-ix2ZD1zYYP"
   },
   "source": [
    "### 2. What are the top items customers add to cart?"
   ]
  },
  {
   "cell_type": "code",
   "execution_count": null,
   "metadata": {
    "id": "74qTVGLkzTh9"
   },
   "outputs": [],
   "source": [
    "# Top items viewed by customer\n",
    "top_view_items = events_df[events_df['event'] == 'addtocart']['itemid'].value_counts().head(10)\n",
    "print(top_view_items)\n",
    "\n",
    "plt.figure(figsize=(10, 6))\n",
    "sns.barplot(x=top_view_items.index, y=top_view_items.values)\n",
    "plt.title('Top 10 Viewed Items')\n",
    "plt.xlabel('Item ID')\n",
    "plt.ylabel('Number of Views')\n",
    "plt.show()"
   ]
  },
  {
   "cell_type": "markdown",
   "metadata": {
    "id": "_D6KISfXxOmV"
   },
   "source": [
    "### 3. How many customers purcahsed or did not purchase an item?"
   ]
  },
  {
   "cell_type": "code",
   "execution_count": null,
   "metadata": {
    "id": "Y8PuZeuXxNnG"
   },
   "outputs": [],
   "source": [
    "# Customer who purchase items\n",
    "print(\"***Customers who purchase Items***\")\n",
    "customer_purchase = events_df[events_df.transactionid.notnull()].visitorid.unique().size\n",
    "print(customer_purchase)\n",
    "print(\"\\n\")\n",
    "\n",
    "# Customer who did not purchase items\n",
    "print(\"*** Customers who did not purchase Items***\")\n",
    "customer_no_purchase = events_df[events_df.transactionid.isnull()].visitorid.unique().size\n",
    "print(customer_no_purchase)"
   ]
  },
  {
   "cell_type": "code",
   "execution_count": null,
   "metadata": {
    "id": "OeeDoqoA0wAo"
   },
   "outputs": [],
   "source": [
    "# Plot of customers who purchase vs those who do not purchase\n",
    "categories = ['Purchased', 'Did Not Purchase']\n",
    "values = [customer_purchase, customer_no_purchase]\n",
    "\n",
    "# Plot\n",
    "plt.figure(figsize=(6, 4))\n",
    "plt.bar(categories, values, color=['green', 'red'])\n",
    "plt.xlabel(\"Customer Category\")\n",
    "plt.ylabel(\"Number of Customers\")\n",
    "plt.title(\"Customers Who Purchased vs. Did Not Purchase\")\n",
    "\n",
    "# Display the values on the bars\n",
    "for i, v in enumerate(values):\n",
    "    plt.text(i, v + 10, str(v), ha='center', fontsize=12)\n",
    "\n",
    "plt.show()"
   ]
  },
  {
   "cell_type": "markdown",
   "metadata": {
    "id": "1D0qNJ2z3JYd"
   },
   "source": [
    "### 4. What time of day or day of the week has the highest number of purchases?"
   ]
  },
  {
   "cell_type": "code",
   "execution_count": null,
   "metadata": {
    "id": "d4N8ttXZ3MmA"
   },
   "outputs": [],
   "source": [
    "# Extract hour from timestamp\n",
    "print(\"***Time of the day which has the highest number of purchases***\")\n",
    "events_df['hour'] = events_df['timestamp'].dt.hour\n",
    "\n",
    "# Purchases per hour\n",
    "hourly_purchases = events_df[events_df['transactionid'].notnull()].groupby('hour')['visitorid'].nunique()\n",
    "\n",
    "# Plot purchases by hour\n",
    "\n",
    "plt.figure(figsize=(10, 5))\n",
    "sns.lineplot(x=hourly_purchases.index, y=hourly_purchases.values, marker='o')\n",
    "plt.title('Purchases by Hour of the Day')\n",
    "plt.xlabel('Hour of the Day')\n",
    "plt.ylabel('Number of Purchases')\n",
    "plt.xticks(range(0, 24))\n",
    "plt.grid()\n",
    "plt.show()\n"
   ]
  },
  {
   "cell_type": "code",
   "execution_count": null,
   "metadata": {
    "id": "fgkK7oSA4RnV"
   },
   "outputs": [],
   "source": [
    "print(\"***Day of the week which has the highest number of purchases***\")\n",
    "# Extract day of the week (0 = Monday, 6 = Sunday)\n",
    "events_df['day_of_week'] = events_df['timestamp'].dt.dayofweek\n",
    "\n",
    "# Count purchases per day of the week\n",
    "daily_purchases = events_df[events_df['transactionid'].notnull()].groupby('day_of_week')['visitorid'].nunique()\n",
    "\n",
    "# Mapping numbers to day names\n",
    "day_labels = ['Monday', 'Tuesday', 'Wednesday', 'Thursday', 'Friday', 'Saturday', 'Sunday']\n",
    "daily_purchases.index = day_labels\n",
    "\n",
    "# Sort values in descending order (from highest to lowest purchases)\n",
    "daily_purchases_sort = daily_purchases.sort_values(ascending=False)\n",
    "\n",
    "# Plot purchases by day of the week\n",
    "plt.figure(figsize=(10, 5))\n",
    "sns.barplot(x=daily_purchases_sort.index, y=daily_purchases_sort.values, palette=\"Blues_r\")\n",
    "plt.title('Purchases by Day of the Week')\n",
    "plt.xlabel('Day of the Week')\n",
    "plt.ylabel('Number of Purchases')\n",
    "plt.show()"
   ]
  },
  {
   "cell_type": "markdown",
   "metadata": {
    "id": "F288ICwh6Gdw"
   },
   "source": [
    "### 5. What items are frequently viewed but least purchased?"
   ]
  },
  {
   "cell_type": "code",
   "execution_count": null,
   "metadata": {
    "id": "u6kFm7p66VWF"
   },
   "outputs": [],
   "source": [
    "# Count views per item\n",
    "item_views = events_df[events_df['event'] == 'view'].groupby('itemid')['visitorid'].nunique()\n",
    "\n",
    "# Count purchases per item\n",
    "item_purchases = events_df[events_df['transactionid'].notnull()].groupby('itemid')['visitorid'].nunique()\n",
    "\n",
    "# Fill missing values with 0 (some items might not have been purchased)\n",
    "item_purchases = item_purchases.reindex(item_views.index, fill_value=0)\n",
    "\n",
    "# Calculate view-to-purchase ratio\n",
    "view_to_purchase_ratio = item_views / (item_purchases + 1)  # Adding 1 to avoid division by zero\n",
    "\n",
    "# Identify top 10 items with highest views but lowest purchases\n",
    "low_conversion_items = view_to_purchase_ratio.sort_values(ascending=False).head(10)\n",
    "\n",
    "# Plot the results\n",
    "plt.figure(figsize=(10, 5))\n",
    "sns.barplot(x=low_conversion_items.index, y=low_conversion_items.values, palette='Blues_r')\n",
    "plt.title('Top 10 Items with High Views but Low Purchases')\n",
    "plt.xlabel('Item ID')\n",
    "plt.ylabel('View-to-Purchase Ratio')\n",
    "plt.xticks(rotation=45)\n",
    "plt.show()\n",
    "\n",
    "# Display data\n",
    "low_conversion_items_df = pd.DataFrame({\n",
    "    'Item ID': low_conversion_items.index,\n",
    "    'Views': item_views[low_conversion_items.index],\n",
    "    'Purchases': item_purchases[low_conversion_items.index],\n",
    "    'View-to-Purchase Ratio': low_conversion_items.values\n",
    "})\n",
    "\n",
    "print(low_conversion_items_df)\n"
   ]
  },
  {
   "cell_type": "markdown",
   "metadata": {
    "id": "3xFa_bcS8Jln"
   },
   "source": [
    "### 6. How do catrgory distribution change over time?"
   ]
  },
  {
   "cell_type": "code",
   "execution_count": null,
   "metadata": {
    "id": "6xs24xge8ROB"
   },
   "outputs": [],
   "source": [
    "\n",
    "# Filter category property (assuming 'categoryid' is stored in 'property')\n",
    "category_data = item_properties_df[item_properties_df['property'] == 'categoryid'].copy()\n",
    "\n",
    "# Convert timestamp to datetime if not already converted\n",
    "category_data['timestamp'] = pd.to_datetime(category_data['timestamp'])\n",
    "\n",
    "# Extract month-year for analysis\n",
    "category_data['month'] = category_data['timestamp'].dt.to_period('M')\n",
    "\n",
    "# Count unique items per category per month\n",
    "category_trends = category_data.groupby(['month', 'value'])['itemid'].nunique().unstack()\n",
    "\n",
    "# Select top 5 most frequent categories overall\n",
    "top_categories = category_trends.sum().nlargest(5).index\n",
    "category_trends = category_trends[top_categories]\n",
    "\n",
    "# Apply rolling mean after selecting top 5 categories\n",
    "category_trends = category_trends.fillna(0).rolling(window=3, min_periods=1).mean()\n",
    "\n",
    "# Plot the trend\n",
    "plt.figure(figsize=(12, 6))\n",
    "category_trends.plot(colormap=\"viridis\", linewidth=2)\n",
    "\n",
    "plt.title(\"Top 5 Categories Over Time\")\n",
    "plt.xlabel(\"Month\")\n",
    "plt.ylabel(\"Number of Items\")\n",
    "plt.legend(title=\"Category ID\")\n",
    "plt.xticks(rotation=45)\n",
    "plt.grid(True, linestyle=\"--\", alpha=0.5)\n",
    "plt.show()\n"
   ]
  },
  {
   "cell_type": "markdown",
   "metadata": {
    "id": "4bE_YmfqrDNp"
   },
   "source": [
    "### 7.  What are the total transactions over time?"
   ]
  },
  {
   "cell_type": "code",
   "execution_count": null,
   "metadata": {
    "id": "eWFgtsJsrAvh"
   },
   "outputs": [],
   "source": [
    "# Extract month-year\n",
    "events_df['month'] = events_df['timestamp'].dt.to_period('M')\n",
    "\n",
    "# Count unique transactions per month\n",
    "transaction_trends = events_df[events_df['transactionid'].notnull()].groupby('month')['transactionid'].nunique()\n",
    "\n",
    "# Plot transaction trends\n",
    "plt.figure(figsize=(12, 6))\n",
    "transaction_trends.plot(marker='o', color='b', linestyle='-')\n",
    "\n",
    "plt.title(\"Total Transactions Over Time\")\n",
    "plt.xlabel(\"Month\")\n",
    "plt.ylabel(\"Number of Transactions\")\n",
    "plt.xticks(rotation=45)\n",
    "plt.grid(True, linestyle=\"--\", alpha=0.5)\n",
    "plt.show()"
   ]
  },
  {
   "cell_type": "markdown",
   "metadata": {
    "id": "OWsKNrvcraJR"
   },
   "source": [
    "### 8. What item properties influences purchase?"
   ]
  },
  {
   "cell_type": "code",
   "execution_count": null,
   "metadata": {
    "id": "6s4UYSw1rYkU"
   },
   "outputs": [],
   "source": [
    "\"\"\"# Merge purchase data with item properties\n",
    "category_purchases = events_df[events_df['transactionid'].notnull()][['itemid', 'transactionid']]\n",
    "merged_category_df = category_purchases.merge(item_properties_df, on='itemid', how='left')\n",
    "\n",
    "# Group by category and property to see which features influence purchases\n",
    "property_purchase_counts = merged_category_df.groupby(['property', 'value'])['transactionid'].count().unstack()\n",
    "\n",
    "# Select the most significant properties\n",
    "top_properties = property_purchase_counts.sum(axis=1).nlargest(5).index\n",
    "filtered_properties = property_purchase_counts.loc[top_properties].fillna(0)\n",
    "\n",
    "# Plot the influence of top properties on purchases\n",
    "plt.figure(figsize=(12, 6))\n",
    "filtered_properties.T.plot(kind='bar', stacked=True, colormap='Blues_r', alpha=0.8)\n",
    "\n",
    "plt.title(\"Influence of Item Properties on Purchases\")\n",
    "plt.xlabel(\"Property Value\")\n",
    "plt.ylabel(\"Number of Purchases\")\n",
    "plt.legend(title=\"Property Type\", bbox_to_anchor=(1.05, 1), loc='upper left')\n",
    "plt.xticks(rotation=45)\n",
    "plt.grid(True, linestyle=\"--\", alpha=0.5)\n",
    "plt.show()\"\"\""
   ]
  },
  {
   "cell_type": "markdown",
   "metadata": {
    "id": "95pjskOPr2ou"
   },
   "source": [
    "### 9. Which item properties correlates with highest purchase?"
   ]
  },
  {
   "cell_type": "code",
   "execution_count": null,
   "metadata": {
    "id": "2usUaR1lr1Yn"
   },
   "outputs": [],
   "source": [
    "\"\"\"# Merge item properties with purchase events\n",
    "item_purchases = events_df[events_df['transactionid'].notnull()][['itemid', 'transactionid']]\n",
    "merged_df = item_properties_df.merge(item_purchases, on='itemid', how='left')\n",
    "\n",
    "# Count how often each property appears in purchased items\n",
    "property_counts = merged_df.groupby('property')['transactionid'].count().sort_values(ascending=False)\n",
    "\n",
    "# Select the top 10 properties\n",
    "top_property_counts = property_counts.head(10)\n",
    "\n",
    "# Plot property influence on purchases\n",
    "plt.figure(figsize=(10, 5))\n",
    "sns.barplot(x=top_property_counts.index, y=top_property_counts.values, palette=\"Blues_r\")\n",
    "plt.xticks(rotation=45, ha='right')\n",
    "plt.title(\"Top 10 Most Common Properties in Purchased Items\")\n",
    "plt.xlabel(\"Property Type\")\n",
    "plt.ylabel(\"Number of Purchases\")\n",
    "plt.show()\"\"\""
   ]
  },
  {
   "cell_type": "code",
   "execution_count": null,
   "metadata": {
    "id": "PRQ37-LVe72g"
   },
   "outputs": [],
   "source": [
    "#This DataFrame contains only the rows where the 'event' is 'transaction' and the selected columns 'visitorid,' 'itemid,' and 'timestamp.'\n",
    "#It allows you to focus on data related to transaction events for further analysis or processing.\n",
    "\n",
    "item_tra=events_df[['visitorid','itemid','timestamp']][events_df['event']=='transaction']\n",
    "print(item_tra.head().reset_index())\n",
    "\n",
    "#This DataFrame contains only the rows where the 'event' is 'view' and the selected columns 'visitorid,' 'itemid,' and 'timestamp.'\n",
    "#It allows you to focus on data related to view events for further analysis or processing.\n",
    "\n",
    "item_view =events_df[['visitorid','itemid','timestamp']][events_df['event']=='view']\n",
    "print(item_view.head().reset_index())\n",
    "\n",
    "#This DataFrame contains only the rows where the 'event' is 'addtocart' and the selected columns 'visitorid,' 'itemid,' and 'timestamp.'\n",
    "#It allows you to focus on data related to  addtocart events for further analysis or processing.\n",
    "\n",
    "item_atc =events_df[['visitorid','itemid','timestamp']][events_df['event']=='addtocart']\n",
    "print(item_atc.head().reset_index())"
   ]
  },
  {
   "cell_type": "code",
   "execution_count": null,
   "metadata": {
    "id": "qvkWWUsAgOW-"
   },
   "outputs": [],
   "source": [
    "#create dataframe of visitorid,itemid found in all three event\n",
    "\n",
    "m=item_tra.merge(item_atc, on=['visitorid','itemid'],how ='inner' , suffixes=['(transaction)','(addtocart)'])\n",
    "m=m.merge(item_view, on=['visitorid','itemid'],how ='inner',suffixes =['(view)'])\n",
    "m=m.rename(columns={'timestamp' : 'timestamp (view)'})\n",
    "m.head(10)"
   ]
  },
  {
   "cell_type": "code",
   "execution_count": null,
   "metadata": {
    "id": "xR43H_nThNh_"
   },
   "outputs": [],
   "source": [
    "m.isna().sum()"
   ]
  },
  {
   "cell_type": "code",
   "execution_count": null,
   "metadata": {
    "id": "gyPVDtqbhSzI"
   },
   "outputs": [],
   "source": [
    "m.duplicated().sum()"
   ]
  },
  {
   "cell_type": "code",
   "execution_count": null,
   "metadata": {
    "id": "u7KButPohdsf"
   },
   "outputs": [],
   "source": [
    "m.shape"
   ]
  },
  {
   "cell_type": "code",
   "execution_count": null,
   "metadata": {
    "id": "vH6_83JThxB2"
   },
   "outputs": [],
   "source": [
    "# Convert timestamp to datetime if not already\n",
    "events_df['timestamp'] = pd.to_datetime(events_df['timestamp'])\n",
    "\n",
    "# Extract day of the week and hour\n",
    "events_df['day_of_week'] = events_df['timestamp'].dt.day_name()\n",
    "events_df['hour'] = events_df['timestamp'].dt.hour\n",
    "\n",
    "plt.figure(figsize=(24, 16))\n",
    "\n",
    "# Plot events by day of the week (sorted by count)\n",
    "plt.subplot(2, 1, 1)\n",
    "day_order = events_df['day_of_week'].value_counts().index  # Sorting by count\n",
    "ax1 = sns.countplot(data=events_df, x='day_of_week', order=day_order, palette=\"Blues_r\")\n",
    "plt.title('Distribution of Events by Day of the Week (Sorted)')\n",
    "plt.xlabel('Day of the Week')\n",
    "plt.ylabel('Number of Events')\n",
    "\n",
    "# Add annotations\n",
    "for p in ax1.patches:\n",
    "    ax1.annotate(format(p.get_height(), '.0f'),\n",
    "                 (p.get_x() + p.get_width() / 2., p.get_height()),\n",
    "                 ha='center', va='center',\n",
    "                 xytext=(0, 9), textcoords='offset points')\n",
    "\n",
    "# Plot events by hour (sorted by count)\n",
    "plt.subplot(2, 1, 2)\n",
    "hour_order = events_df['hour'].value_counts().index  # Sorting by count\n",
    "ax2 = sns.countplot(data=events_df, x='hour', order=hour_order, palette=\"Blues_r\")\n",
    "plt.title('Distribution of Events by Hour of the Day (Sorted)')\n",
    "plt.xlabel('Hour of the Day')\n",
    "plt.ylabel('Number of Events')\n",
    "\n",
    "# Add annotations\n",
    "for p in ax2.patches:\n",
    "    ax2.annotate(format(p.get_height(), '.0f'),\n",
    "                 (p.get_x() + p.get_width() / 2., p.get_height()),\n",
    "                 ha='center', va='center',\n",
    "                 xytext=(0, 9), textcoords='offset points')\n",
    "\n",
    "plt.tight_layout()\n",
    "plt.show()"
   ]
  },
  {
   "cell_type": "markdown",
   "metadata": {
    "id": "ksnzIp4sjZ5R"
   },
   "source": [
    "#### Events of each day"
   ]
  },
  {
   "cell_type": "code",
   "execution_count": null,
   "metadata": {
    "id": "OOHdHtxHjeOg"
   },
   "outputs": [],
   "source": [
    "\"\"\"# Events over time\n",
    "events_daily = events_df.resample('D', on='timestamp').count()\n",
    "events_daily\"\"\""
   ]
  },
  {
   "cell_type": "code",
   "execution_count": null,
   "metadata": {
    "id": "82U47gVBj-Us"
   },
   "outputs": [],
   "source": [
    "# 2. Events over time plot\n",
    "\n",
    "\"\"\"plt.figure(figsize=(12, 6))\n",
    "events_daily['event'].plot()\n",
    "plt.title('Events Over Time')\n",
    "plt.xlabel('Date')\n",
    "plt.ylabel('Number of Events')\n",
    "plt.show()\"\"\""
   ]
  },
  {
   "cell_type": "code",
   "execution_count": null,
   "metadata": {
    "id": "QM7OdTo_mRaS"
   },
   "outputs": [],
   "source": [
    "\"\"\"# Ensure timestamp is in datetime format\n",
    "events_df['timestamp'] = pd.to_datetime(events_df['timestamp'])\n",
    "events_df.set_index('timestamp', inplace=False)  # Set timestamp as index\n",
    "\n",
    "# Aggregate event counts over time\n",
    "event_types = events_df.groupby([events_df.index.date, 'event']).size().unstack()\n",
    "\n",
    "# Convert index back to datetime for proper plotting\n",
    "event_types.index = pd.to_datetime(event_types.index)\n",
    "\n",
    "# Compute rolling mean for smoothing (optional)\n",
    "event_types_smooth = event_types.rolling(7).mean()\n",
    "\n",
    "# Plot\n",
    "plt.figure(figsize=(12, 6))\n",
    "event_types_smooth.plot()\n",
    "plt.title('Event Type Breakdown Over Time')\n",
    "plt.xlabel('Date')\n",
    "plt.ylabel('Number of Events')\n",
    "plt.legend(title='Event Type')\n",
    "plt.show()\"\"\""
   ]
  },
  {
   "cell_type": "code",
   "execution_count": null,
   "metadata": {
    "id": "gJo6R5munU6v"
   },
   "outputs": [],
   "source": [
    "\"\"\"# Aggregate event counts by date and event type\n",
    "# Access the index using events_df.index\n",
    "event_counts = events_df.groupby([events_df.index.date, 'event'])['event'].count().unstack().fillna(0)\n",
    "\n",
    "# Create the plot\n",
    "fig, ax1 = plt.subplots(figsize=(10, 6))\n",
    "\n",
    "# Primary Y-axis (for \"view\" events)\n",
    "ax1.plot(event_counts.index, event_counts['view'], color='green', label='View', linewidth=2)\n",
    "ax1.set_ylabel(\"Number of View Events\", color=\"green\")\n",
    "ax1.tick_params(axis='y', labelcolor='green')\n",
    "ax1.tick_params(axis='x',rotation=45)\n",
    "\n",
    "# Secondary Y-axis (for \"addtocart\" and \"transaction\" events)\n",
    "ax2 = ax1.twinx()\n",
    "ax2.plot(event_counts.index, event_counts['addtocart'], color='blue', label='Add to Cart', linewidth=2)\n",
    "ax2.plot(event_counts.index, event_counts['transaction'], color='orange', label='Transaction', linewidth=2)\n",
    "ax2.set_ylabel(\"Number of Add to Cart / Transaction Events\", color=\"blue\")\n",
    "ax2.tick_params(axis='y', labelcolor='blue')\n",
    "ax2.tick_params(axis='x', rotation=45)\n",
    "\n",
    "# Title and labels\n",
    "plt.title(\"Event Type Breakdown Over Time\")\n",
    "ax1.set_xlabel(\"Date\")\n",
    "\n",
    "# Legends\n",
    "fig.legend(loc=\"upper right\", bbox_to_anchor=(0.85, 0.85))\n",
    "\n",
    "plt.show()\"\"\""
   ]
  },
  {
   "cell_type": "code",
   "execution_count": null,
   "metadata": {
    "id": "sZh6eUdrpP9t"
   },
   "outputs": [],
   "source": [
    "\n",
    "# Get the top 10 most active users\n",
    "top_most_active_user = events_df['visitorid'].value_counts().head(10).sort_values(ascending=False)\n",
    "\n",
    "# Plot\n",
    "plt.figure(figsize=(10,6))\n",
    "sns.barplot(x=top_most_active_user.index, y=top_most_active_user.values, order=top_most_active_user.index)\n",
    "\n",
    "# Labels and title\n",
    "plt.title('Top 10 Most Active Users')\n",
    "plt.xlabel('Visitor ID')\n",
    "plt.ylabel('Number of Events')\n",
    "plt.xticks(rotation=45)  # Rotate x-axis labels for better readability\n",
    "plt.show()"
   ]
  },
  {
   "cell_type": "markdown",
   "metadata": {
    "id": "yNq4dmF_kRKE"
   },
   "source": [
    "#### Merging the events and item_properties dataframe"
   ]
  },
  {
   "cell_type": "code",
   "execution_count": null,
   "metadata": {
    "id": "6CfTIAtcBdSr"
   },
   "outputs": [],
   "source": [
    "# Ensure item properties are sorted by timestamp\n",
    "item_properties_df = item_properties_df.sort_values(by=[\"itemid\", \"timestamp\"])\n",
    "\n",
    "# Merge by item_id, taking the most recent item property before the event timestamp\n",
    "merged_df = dd.merge_asof(events_df.sort_values(\"timestamp\"),\n",
    "                           item_properties_df.sort_values(\"timestamp\"),\n",
    "                           on=\"timestamp\",\n",
    "                           by=\"itemid\",\n",
    "                           direction=\"backward\")\n",
    "\n",
    "merged_df.head()"
   ]
  },
  {
   "cell_type": "code",
   "execution_count": null,
   "metadata": {
    "id": "miZ8VDsECTAJ"
   },
   "outputs": [],
   "source": [
    "merged_df.isna().sum()"
   ]
  },
  {
   "cell_type": "code",
   "execution_count": null,
   "metadata": {
    "id": "_S9B8vPzCpcb"
   },
   "outputs": [],
   "source": [
    "merged_df.shape"
   ]
  },
  {
   "cell_type": "code",
   "execution_count": null,
   "metadata": {
    "id": "o5P6GJYlCyb-"
   },
   "outputs": [],
   "source": [
    "\"\"\"# Check the data types\n",
    "print(merged_df[\"property\"].dtype)\n",
    "print(category_tree_df[\"categoryid\"].dtype)\n",
    "\n",
    "# Convert both columns to the same type (integer)\n",
    "merged_df[\"property\"] = merged_df[\"property\"].astype(str)  # Convert to string if necessary\n",
    "category_tree_df[\"categoryid\"] = category_tree_df[\"categoryid\"].astype(str)  # Convert to string\n",
    "\n",
    "# Merge again\n",
    "merged_df_all = merged_df.merge(category_tree_df, left_on=\"property\", right_on=\"categoryid\", how=\"left\")\n",
    "\n",
    "# Check the result\n",
    "merged_df_all.head()\n",
    "\"\"\""
   ]
  },
  {
   "cell_type": "code",
   "execution_count": null,
   "metadata": {
    "tags": []
   },
   "outputs": [],
   "source": [
    "import pandas as pd\n",
    "\n",
    "# ✅ Convert key columns to categorical to save memory\n",
    "events_df[\"itemid\"] = events_df[\"itemid\"].astype(\"category\")\n",
    "item_properties_df[\"itemid\"] = item_properties_df[\"itemid\"].astype(\"category\")\n",
    "\n",
    "# ✅ Filter columns early to reduce memory footprint\n",
    "cols_to_keep = [\"itemid\", \"property\", \"value\", \"timestamp\"]\n",
    "item_properties_df = item_properties_df[cols_to_keep]\n",
    "\n",
    "# ✅ Process in chunks to find LATEST properties\n",
    "chunk_size = 100_000  # Start small, adjust based on your system memory\n",
    "latest_properties = pd.DataFrame()\n",
    "\n",
    "# Process chunks and keep only latest entries\n",
    "for chunk in pd.read_csv(\"item_properties.csv\", chunksize=chunk_size):  # Or use iloc if already loaded\n",
    "    # Convert timestamp once per chunk\n",
    "    chunk[\"timestamp\"] = pd.to_datetime(chunk[\"timestamp\"], errors=\"coerce\")\n",
    "    \n",
    "    # Find latest properties in this chunk\n",
    "    chunk_latest = chunk.sort_values(\"timestamp\").drop_duplicates(\"itemid\", keep=\"last\")\n",
    "    \n",
    "    # Merge with existing latest properties and keep newer entries\n",
    "    latest_properties = pd.concat([latest_properties, chunk_latest])\n",
    "    latest_properties = latest_properties.sort_values(\"timestamp\").drop_duplicates(\"itemid\", keep=\"last\")\n",
    "    del chunk, chunk_latest  # Explicit memory cleanup\n",
    "\n",
    "# ✅ Final merge with events (single operation)\n",
    "merged_df = events_df.merge(latest_properties, on=\"itemid\", how=\"left\")\n",
    "\n",
    "# ✅ Memory cleanup\n",
    "del latest_properties\n",
    "print(\"✅ Merge completed successfully!\")\n",
    "print(merged_df.info(memory_usage=\"deep\"))"
   ]
  },
  {
   "cell_type": "code",
   "execution_count": null,
   "metadata": {
    "tags": []
   },
   "outputs": [],
   "source": [
    "# 1. First run this chunk processing code\n",
    "import pandas as pd\n",
    "\n",
    "# Initialize empty DataFrame for latest properties\n",
    "latest_properties = pd.DataFrame()\n",
    "\n",
    "# Process chunks (example with 100,000 rows per chunk)\n",
    "chunk_size = 100_000\n",
    "for i in range(0, len(item_properties_df), chunk_size):\n",
    "    chunk = item_properties_df.iloc[i:i+chunk_size].copy()\n",
    "    chunk[\"timestamp\"] = pd.to_datetime(chunk[\"timestamp\"], errors=\"coerce\")\n",
    "    \n",
    "    # Keep latest properties from this chunk\n",
    "    chunk_latest = chunk.sort_values(\"timestamp\").drop_duplicates(\"itemid\", keep=\"last\")\n",
    "    \n",
    "    # Update master list of latest properties\n",
    "    latest_properties = pd.concat([latest_properties, chunk_latest])\n",
    "    latest_properties = latest_properties.sort_values(\"timestamp\").drop_duplicates(\"itemid\", keep=\"last\")\n",
    "\n",
    "# 2. THEN run the merge\n",
    "merged_df = events_df.merge(latest_properties, on=\"itemid\", how=\"left\")\n",
    "\n",
    "# 3. Finally check nulls\n",
    "print(\"Null values:\")\n",
    "print(merged_df.isnull().sum())"
   ]
  },
  {
   "cell_type": "code",
   "execution_count": null,
   "metadata": {
    "tags": []
   },
   "outputs": [],
   "source": [
    "print(type(latest_properties))  # Should show <class 'pandas.core.frame.DataFrame'>\n",
    "print(latest_properties.head())  # Should show latest properties"
   ]
  },
  {
   "cell_type": "code",
   "execution_count": null,
   "metadata": {
    "id": "ga5BnoS4FafU"
   },
   "outputs": [],
   "source": [
    "merged_df_all.isnull().sum()"
   ]
  },
  {
   "cell_type": "code",
   "execution_count": null,
   "metadata": {
    "id": "humGlYAjFdig"
   },
   "outputs": [],
   "source": [
    "merged_df_all.shape"
   ]
  },
  {
   "cell_type": "code",
   "execution_count": null,
   "metadata": {
    "id": "SOHraNupFmaV"
   },
   "outputs": [],
   "source": [
    "merged_df_all.info()"
   ]
  },
  {
   "cell_type": "code",
   "execution_count": null,
   "metadata": {
    "id": "KG6Mr-IwGNPJ"
   },
   "outputs": [],
   "source": [
    "merged_df_all['categoryid'] = merged_df_all['categoryid'].astype('float')"
   ]
  },
  {
   "cell_type": "code",
   "execution_count": null,
   "metadata": {
    "id": "_WJ_5HPNHGg6"
   },
   "outputs": [],
   "source": [
    "merged_df_all.info()"
   ]
  },
  {
   "cell_type": "code",
   "execution_count": null,
   "metadata": {
    "id": "2W9XRdt9HIxb"
   },
   "outputs": [],
   "source": [
    "col_drop = ['hour','day_of_week','month']\n",
    "merged_df_all.drop(columns=col_drop,inplace=True)"
   ]
  },
  {
   "cell_type": "code",
   "execution_count": null,
   "metadata": {
    "id": "8_G0zenIHbIQ"
   },
   "outputs": [],
   "source": [
    "merged_df_all.head()"
   ]
  },
  {
   "cell_type": "code",
   "execution_count": null,
   "metadata": {
    "id": "RCjVzaKBMW2t"
   },
   "outputs": [],
   "source": [
    "import numpy as np\n",
    "\n",
    "# Convert string \"nan\" to actual NaN\n",
    "merged_df_all[\"property\"] = merged_df_all[\"property\"].replace(\"nan\", np.nan)"
   ]
  },
  {
   "cell_type": "code",
   "execution_count": null,
   "metadata": {
    "id": "WtiS9n5xHdku"
   },
   "outputs": [],
   "source": [
    "# Missing values percentage\n",
    "missing_percentage = merged_df_all.isnull().sum() / len(merged_df_all) * 100\n",
    "print(\"Missing Values (%):\\n\", missing_percentage)"
   ]
  },
  {
   "cell_type": "code",
   "execution_count": null,
   "metadata": {
    "id": "gUxZVvxmIKTm"
   },
   "outputs": [],
   "source": [
    "merged_df_all.describe(include='object')"
   ]
  },
  {
   "cell_type": "code",
   "execution_count": null,
   "metadata": {
    "id": "1lxG9vCgIqVW"
   },
   "outputs": [],
   "source": [
    "merged_df_all['property'].unique()"
   ]
  },
  {
   "cell_type": "code",
   "execution_count": null,
   "metadata": {
    "id": "I0Te6I7sIxhG"
   },
   "outputs": [],
   "source": [
    "merged_df_all['property'].value_counts()"
   ]
  },
  {
   "cell_type": "code",
   "execution_count": null,
   "metadata": {
    "id": "UFnBiUukI6JX"
   },
   "outputs": [],
   "source": [
    "import missingno as msno\n",
    "import matplotlib.pyplot as plt\n",
    "\n",
    "# Visualize missing values\n",
    "msno.matrix(merged_df_all)\n",
    "plt.show()\n",
    "\n",
    "# Check correlation between missing values and other columns\n",
    "missing_corr = merged_df_all.isnull().corr()\n",
    "print(missing_corr[\"property\"])"
   ]
  },
  {
   "cell_type": "code",
   "execution_count": null,
   "metadata": {
    "id": "NUlD9hlNKoLb"
   },
   "outputs": [],
   "source": [
    "# Count missing property values per event type\n",
    "missing_by_event = merged_df_all.groupby(\"event\")[\"property\"].apply(lambda x: x.isnull().mean() * 100)\n",
    "print(\"Missing Property (%) by Event Type:\\n\", missing_by_event)"
   ]
  },
  {
   "cell_type": "code",
   "execution_count": null,
   "metadata": {
    "id": "iiv2yoDEOiyQ"
   },
   "outputs": [],
   "source": [
    "# Check missing property by category\n",
    "missing_by_category = merged_df_all.groupby(\"categoryid\")[\"property\"].apply(lambda x: x.isnull().mean() * 100)\n",
    "print(\"Missing Property (%) by Category:\\n\", missing_by_category.sort_values(ascending=False).head(10))"
   ]
  },
  {
   "cell_type": "code",
   "execution_count": null,
   "metadata": {
    "id": "-a8LAQUiKvHy"
   },
   "outputs": [],
   "source": [
    "#Handling missing values in the propert and value columns\n",
    "def fill_missing_property_value(group):\n",
    "    most_common_property = group[\"property\"].mode()\n",
    "    most_common_value = group[\"value\"].mode()\n",
    "\n",
    "    if not most_common_property.empty and not most_common_value.empty:\n",
    "        group[\"property\"].fillna(most_common_property[0], inplace=True)\n",
    "        group[\"value\"].fillna(most_common_value[0], inplace=True)\n",
    "    else:\n",
    "        group[\"property\"].fillna(\"Unknown\", inplace=True)\n",
    "        group[\"value\"].fillna(\"Unknown\", inplace=True)\n",
    "\n",
    "    return group\n",
    "\n",
    "merged_df_all = merged_df_all.groupby(\"event\").apply(fill_missing_property_value)\n"
   ]
  },
  {
   "cell_type": "code",
   "execution_count": null,
   "metadata": {
    "id": "6z1DF3HaRcMw"
   },
   "outputs": [],
   "source": [
    "# Missing values percentage\n",
    "missing_percentage = merged_df_all.isnull().sum() / len(merged_df_all) * 100\n",
    "print(\"Missing Values (%):\\n\", missing_percentage)"
   ]
  },
  {
   "cell_type": "code",
   "execution_count": null,
   "metadata": {
    "id": "KqHUagEjSEP4"
   },
   "outputs": [],
   "source": [
    "#Handling missing values in the transactionid, parentida nd categoryid columns\n",
    "#Fill missing 'transactionid' with 0\n",
    "merged_df_all[\"transactionid\"].fillna(0, inplace=True)\n",
    "\n",
    "# Fill missing 'categoryid' with a placeholder\n",
    "merged_df_all[\"categoryid\"].fillna(\"Unknown\", inplace=True)\n",
    "\n",
    "# Fill missing 'parentid' with itself (indicating it's a root category)\n",
    "merged_df_all[\"parentid\"].fillna(merged_df_all[\"categoryid\"], inplace=True)"
   ]
  },
  {
   "cell_type": "code",
   "execution_count": null,
   "metadata": {
    "id": "ao-bzLezSlwb"
   },
   "outputs": [],
   "source": [
    "# Missing values percentage\n",
    "missing_percentage = merged_df_all.isnull().sum() / len(merged_df_all) * 100\n",
    "print(\"Missing Values (%):\\n\", missing_percentage)"
   ]
  },
  {
   "cell_type": "code",
   "execution_count": null,
   "metadata": {
    "id": "RFUKp4O8SrEs"
   },
   "outputs": [],
   "source": [
    "merged_df_all.head()"
   ]
  },
  {
   "cell_type": "code",
   "execution_count": null,
   "metadata": {
    "id": "mjOcYezVSuVy"
   },
   "outputs": [],
   "source": [
    "merged_df_all.tail()"
   ]
  },
  {
   "cell_type": "code",
   "execution_count": null,
   "metadata": {
    "id": "w-vwzVImS3kJ"
   },
   "outputs": [],
   "source": [
    "merged_df_all = merged_df_all.reset_index(drop=True)"
   ]
  },
  {
   "cell_type": "code",
   "execution_count": null,
   "metadata": {
    "id": "4YHpxyhqTOY2"
   },
   "outputs": [],
   "source": [
    "merged_df_all.head()"
   ]
  },
  {
   "cell_type": "code",
   "execution_count": null,
   "metadata": {
    "id": "vmlUMKONTW45"
   },
   "outputs": [],
   "source": [
    "merged_df_all.tail()"
   ]
  },
  {
   "cell_type": "code",
   "execution_count": null,
   "metadata": {
    "id": "IxqMeJezx-JM",
    "tags": []
   },
   "outputs": [],
   "source": [
    "# Count occurrences of each event type\n",
    "event_counts = merged_df_all['event'].value_counts()\n",
    "\n",
    "# Plot event distribution\n",
    "plt.figure(figsize=(6, 4))\n",
    "ax = sns.barplot(x=event_counts.index, y=event_counts.values, palette=\"Blues_r\")\n",
    "\n",
    "# Add value labels on each bin\n",
    "for p in ax.patches:\n",
    "    ax.text(p.get_x() + p.get_width() / 2,  # X-position (center of bar)\n",
    "            p.get_height() + 500,           # Y-position (slightly above bar)\n",
    "            f'{int(p.get_height()):,}',     # Format count with commas\n",
    "            ha='center', fontsize=10, fontweight='bold', color='black')\n",
    "\n",
    "# Titles and labels\n",
    "plt.title(\"Distribution of Event Types\")\n",
    "plt.xlabel(\"Event Type\")\n",
    "plt.ylabel(\"Count\")\n",
    "\n",
    "plt.show()"
   ]
  },
  {
   "cell_type": "markdown",
   "metadata": {
    "id": "6q1i5BfE1ubQ"
   },
   "source": [
    "### Feature Engineering"
   ]
  },
  {
   "cell_type": "markdown",
   "metadata": {
    "id": "GIpF2kGv10Zi"
   },
   "source": [
    "#### Task 1 - Predicting Item Properties in \"addtocart\" Events"
   ]
  },
  {
   "cell_type": "markdown",
   "metadata": {
    "id": "iozaVHaA2L21"
   },
   "source": [
    "#### 1.1 User Behavior Features\n",
    "This is to find out how much a user explored before making a transaction."
   ]
  },
  {
   "cell_type": "code",
   "execution_count": null,
   "metadata": {
    "id": "uo25rDYhyazw"
   },
   "outputs": [],
   "source": [
    "# Calculate session length\n",
    "merged_df_all['session_length'] = merged_df_all.groupby(\"visitorid\")['timestamp'].transform(lambda x: (x.max() - x.min()).total_seconds())\n",
    "\n",
    "# Count views before add to cart\n",
    "views_before_cart = merged_df_all[merged_df_all['event'] == 'view'].groupby('visitorid')['itemid'].count().reset_index()\n",
    "views_before_cart.columns = ['visitorid', 'num_views_before_cart']\n",
    "\n",
    "# Merge with main dataset\n",
    "merged_df_all = merged_df_all.merge(views_before_cart, on='visitorid', how='left') # Changed 'visitor_id' to 'visitorid'"
   ]
  },
  {
   "cell_type": "code",
   "execution_count": null,
   "metadata": {
    "id": "aCVV3ihbeRE8"
   },
   "outputs": [],
   "source": []
  },
  {
   "cell_type": "code",
   "execution_count": null,
   "metadata": {
    "id": "LJHNpZWF5JQm"
   },
   "outputs": [],
   "source": [
    "merged_df_all.head()"
   ]
  },
  {
   "cell_type": "code",
   "execution_count": null,
   "metadata": {
    "id": "2zBE_vcP5LK8"
   },
   "outputs": [],
   "source": [
    "merged_df_all.tail()"
   ]
  },
  {
   "cell_type": "markdown",
   "metadata": {
    "id": "f6eCq4ud5rgT"
   },
   "source": [
    "#### Item based features\n"
   ]
  },
  {
   "cell_type": "code",
   "execution_count": null,
   "metadata": {
    "id": "n45fOZl25ZYb"
   },
   "outputs": [],
   "source": [
    "# Item popularity (how many unique visitors viewed it)\n",
    "item_popularity = merged_df_all[merged_df_all['event'] == 'view'].groupby(\"itemid\")['visitorid'].nunique().reset_index()\n",
    "item_popularity.columns = ['itemid', 'item_popularity']\n",
    "merged_df_all = merged_df_all.merge(item_popularity, on='itemid', how='left')\n",
    "merged_df_all.head()"
   ]
  },
  {
   "cell_type": "code",
   "execution_count": null,
   "metadata": {
    "id": "GCWWjP5n6fFz"
   },
   "outputs": [],
   "source": [
    "merged_df_all.tail()"
   ]
  },
  {
   "cell_type": "code",
   "execution_count": null,
   "metadata": {
    "id": "TSSPeeqshpWS"
   },
   "outputs": [],
   "source": []
  },
  {
   "cell_type": "markdown",
   "metadata": {
    "id": "d8lsnUKq65rR"
   },
   "source": [
    "### Data Preparation for Machine learning"
   ]
  },
  {
   "cell_type": "code",
   "execution_count": null,
   "metadata": {
    "id": "RA1MUfTu6hX-"
   },
   "outputs": [],
   "source": [
    "from sklearn.model_selection import train_test_split\n",
    "\n",
    "# Task 1: Predict item properties in 'addtocart' events\n",
    "task1_data = merged_df_all[merged_df_all[\"event\"] == \"addtocart\"]\n",
    "#X_task1 = task1_data[['num_views_before_cart', 'item_popularity', 'session_length']]\n",
    "#y_task1 = task1_data['property']\n",
    "#X_train1, X_test1, y_train1, y_test1 = train_test_split(X_task1, y_task1, test_size=0.2, random_state=42)"
   ]
  },
  {
   "cell_type": "code",
   "execution_count": null,
   "metadata": {
    "id": "6NXMWmi57swi"
   },
   "outputs": [],
   "source": [
    "task1_data.head()"
   ]
  },
  {
   "cell_type": "code",
   "execution_count": null,
   "metadata": {
    "id": "j6Rm0fI-7vBh"
   },
   "outputs": [],
   "source": [
    "task1_data.isnull().sum()"
   ]
  },
  {
   "cell_type": "code",
   "execution_count": null,
   "metadata": {
    "id": "TZ_VViscFnc7"
   },
   "outputs": [],
   "source": [
    "task1_data['property'].value_counts()"
   ]
  },
  {
   "cell_type": "code",
   "execution_count": null,
   "metadata": {
    "id": "S2FOA7De736e"
   },
   "outputs": [],
   "source": [
    "task1_data['num_views_before_cart'].fillna(-1, inplace=True)"
   ]
  },
  {
   "cell_type": "code",
   "execution_count": null,
   "metadata": {
    "id": "gCypZTcQ8N9r"
   },
   "outputs": [],
   "source": [
    "task1_data['item_popularity'].fillna(-1, inplace=True)"
   ]
  },
  {
   "cell_type": "code",
   "execution_count": null,
   "metadata": {
    "id": "-YF2yldE9YBg"
   },
   "outputs": [],
   "source": [
    "task1_data.isnull().sum()"
   ]
  },
  {
   "cell_type": "markdown",
   "metadata": {
    "id": "CCdOSZFl-K85"
   },
   "source": [
    "### Feature Selection and Data Splitting"
   ]
  },
  {
   "cell_type": "code",
   "execution_count": null,
   "metadata": {
    "id": "kAp8136EnXY9"
   },
   "outputs": [],
   "source": [
    "#sample_df = task1_data.sample(n=500, random_state=42)"
   ]
  },
  {
   "cell_type": "code",
   "execution_count": null,
   "metadata": {
    "id": "VWCxve1AAyRW"
   },
   "outputs": [],
   "source": [
    "# Load and sample dataset (adjust sample size for memory efficiency)\n",
    "sample_size = 10000  # Adjust as needed\n",
    "merged_df_sample = task1_data.sample(sample_size, random_state=42)"
   ]
  },
  {
   "cell_type": "code",
   "execution_count": null,
   "metadata": {
    "id": "Y4y6vjLMAyN_"
   },
   "outputs": [],
   "source": [
    "\"\"\"from surprise import SVD\n",
    "from surprise.model_selection import RandomizedSearchCV, cross_validate\n",
    "from surprise import Dataset, Reader\n",
    "import numpy as np\n",
    "\n",
    "train_dataset = Dataset.load_from_df(merged_df_sample[['visitorid', 'itemid', 'property']], reader)\n",
    "\n",
    "# Define the parameter grid\n",
    "param_grid = {\n",
    "    'n_factors': [20, 50, 100],\n",
    "    'lr_all': [0.001, 0.005, 0.01],\n",
    "    'reg_all': [0.02, 0.05, 0.1],\n",
    "    'n_epochs': [10, 20, 50],\n",
    "    'biased': [True, False]\n",
    "}\n",
    "\n",
    "# Initialize the model\n",
    "svd = SVD()\n",
    "\n",
    "# Perform Randomized Search with 10 iterations\n",
    "random_search = RandomizedSearchCV(SVD, param_distributions=param_grid, n_iter=10, cv=5, n_jobs=-1, random_state=42)\n",
    "random_search.fit(train_dataset)  # train_dataset is the Surprise Dataset object\n",
    "\n",
    "# Best parameters\n",
    "print(\"Best Hyperparameters:\", random_search.best_params['rmse'])\n",
    "\n",
    "# Evaluate on test data\n",
    "best_svd = random_search.best_estimator['rmse']\n",
    "cross_val_results = cross_validate(best_svd, train_dataset, cv=5, verbose=True)\n",
    "\n",
    "# Print results\n",
    "print(\"RMSE:\", np.mean(cross_val_results['test_rmse']))\n",
    "print(\"MAE:\", np.mean(cross_val_results['test_mae']))\"\"\""
   ]
  },
  {
   "cell_type": "code",
   "execution_count": null,
   "metadata": {
    "id": "gvvYsNLU79fJ"
   },
   "outputs": [],
   "source": [
    "pip install surprise"
   ]
  },
  {
   "cell_type": "code",
   "execution_count": null,
   "metadata": {
    "id": "v_5-IKISDUNZ"
   },
   "outputs": [],
   "source": [
    "from surprise import SVD\n",
    "from surprise.model_selection import RandomizedSearchCV, cross_validate\n",
    "from surprise import Dataset, Reader\n",
    "import numpy as np\n",
    "from sklearn.preprocessing import MinMaxScaler\n",
    "\n",
    "# Define weights for feature combination\n",
    "ALPHA = 0.5  # Weight for num_views_before_cart\n",
    "BETA = 0.3   # Weight for session_length\n",
    "GAMMA = 0.2  # Weight for item_popularity\n",
    "\n",
    "# Normalize the features\n",
    "scaler = MinMaxScaler()\n",
    "merged_df_sample[['num_views_before_cart', 'session_length', 'item_popularity']] = \\\n",
    "    scaler.fit_transform(merged_df_sample[['num_views_before_cart', 'session_length', 'item_popularity']])\n",
    "\n",
    "# Compute interaction score\n",
    "merged_df_sample['interaction_score'] = (\n",
    "    ALPHA * merged_df_sample['num_views_before_cart'] +\n",
    "    BETA * merged_df_sample['session_length'] +\n",
    "    GAMMA * merged_df_sample['item_popularity']\n",
    ")\n",
    "\n",
    "# Load dataset for Surprise\n",
    "reader = Reader(rating_scale=(0, 1))\n",
    "train_dataset = Dataset.load_from_df(\n",
    "    merged_df_sample[['visitorid', 'itemid', 'interaction_score']], reader\n",
    ")\n",
    "\n",
    "# Define the parameter grid\n",
    "param_grid = {\n",
    "    'n_factors': [20, 50, 100],\n",
    "    'lr_all': [0.001, 0.005, 0.01],\n",
    "    'reg_all': [0.02, 0.05, 0.1],\n",
    "    'n_epochs': [10, 20, 50],\n",
    "    'biased': [True, False]\n",
    "}\n",
    "\n",
    "# Perform Randomized Search with 10 iterations\n",
    "random_search = RandomizedSearchCV(SVD, param_distributions=param_grid, n_iter=10, cv=5, n_jobs=-1, random_state=42)\n",
    "random_search.fit(train_dataset)\n",
    "\n",
    "# Best parameters\n",
    "print(\"Best Hyperparameters:\", random_search.best_params['rmse'])\n",
    "\n",
    "# Evaluate on test data\n",
    "best_svd = random_search.best_estimator['rmse']\n",
    "cross_val_results = cross_validate(best_svd, train_dataset, cv=5, verbose=True)\n",
    "\n",
    "# Print results\n",
    "print(\"RMSE:\", np.mean(cross_val_results['test_rmse']))\n",
    "print(\"MAE:\", np.mean(cross_val_results['test_mae']))\n"
   ]
  },
  {
   "cell_type": "code",
   "execution_count": null,
   "metadata": {
    "id": "atlMzFoqHceP"
   },
   "outputs": [],
   "source": [
    "from collections import defaultdict\n",
    "\n",
    "def predict_top_properties(model, visitor, item, properties, N=5):\n",
    "    \"\"\"Predicts the most likely properties for add-to-cart items for a single visitor and item.\"\"\"\n",
    "    property_scores = defaultdict(float)\n",
    "\n",
    "    for prop in properties:\n",
    "        if prop and prop != \"<NA>\":  # Ensure valid property\n",
    "            # Predict the score for (visitor, item, property)\n",
    "            est_score = model.predict(visitor, item).est  # Predict interaction strength\n",
    "\n",
    "            # Store score for the property\n",
    "            property_scores[prop] = est_score\n",
    "\n",
    "    # Sort properties by predicted score and select top-N\n",
    "    top_properties = sorted(property_scores, key=property_scores.get, reverse=True)[:N]\n",
    "\n",
    "    return top_properties\n",
    "\n",
    "# Get unique properties (excluding null values)\n",
    "unique_properties = merged_df_sample['property'].dropna().unique()\n",
    "\n",
    "# Select a sample visitor and item\n",
    "sample_visitor = 9\n",
    "sample_item = unique_items[0]\n",
    "\n",
    "# Predict Top-5 properties for the sample visitor and item\n",
    "top_predicted_properties = predict_top_properties(best_svd, sample_visitor, sample_item, unique_properties, N=5)\n",
    "\n",
    "print(f\"Top-5 predicted properties for visitor {sample_visitor} and item {sample_item}: {top_predicted_properties}\")"
   ]
  },
  {
   "cell_type": "code",
   "execution_count": null,
   "metadata": {
    "id": "xFZYD8GjITZ_"
   },
   "outputs": [],
   "source": [
    "import numpy as np\n",
    "\n",
    "def evaluate_property_predictions(predictions, actuals, N=5):\n",
    "    \"\"\"\n",
    "    Evaluate predicted properties against actual add-to-cart properties.\n",
    "\n",
    "    Args:\n",
    "        predictions (dict): {visitorid: [top N predicted properties]}\n",
    "        actuals (dict): {visitorid: [actual properties in add-to-cart events]}\n",
    "        N (int): Number of top predicted properties to consider.\n",
    "\n",
    "    Returns:\n",
    "        dict: Precision, Recall, MRR, and Hit Rate scores.\n",
    "    \"\"\"\n",
    "    precision_list = []\n",
    "    recall_list = []\n",
    "    reciprocal_ranks = []\n",
    "    hits = 0\n",
    "    total_users = 0\n",
    "\n",
    "    for visitor, pred_props in predictions.items():\n",
    "        if visitor in actuals:\n",
    "            actual_props = actuals[visitor]\n",
    "            total_users += 1\n",
    "\n",
    "            # Compute hits (common properties in prediction & actual)\n",
    "            hits_count = len(set(pred_props[:N]) & set(actual_props))\n",
    "\n",
    "            # Precision = Relevant / Retrieved (top-N)\n",
    "            precision = hits_count / N if N > 0 else 0\n",
    "            precision_list.append(precision)\n",
    "\n",
    "            # Recall = Relevant / Actual\n",
    "            recall = hits_count / len(actual_props) if len(actual_props) > 0 else 0\n",
    "            recall_list.append(recall)\n",
    "\n",
    "            # Mean Reciprocal Rank (MRR)\n",
    "            rr = 0\n",
    "            for rank, prop in enumerate(pred_props[:N], start=1):\n",
    "                if prop in actual_props:\n",
    "                    rr = 1 / rank\n",
    "                    break\n",
    "            reciprocal_ranks.append(rr)\n",
    "\n",
    "            # Hit Rate (Did we get at least one correct property?)\n",
    "            if hits_count > 0:\n",
    "                hits += 1\n",
    "\n",
    "    # Compute mean scores\n",
    "    precision_score = np.mean(precision_list) if precision_list else 0\n",
    "    recall_score = np.mean(recall_list) if recall_list else 0\n",
    "    mrr_score = np.mean(reciprocal_ranks) if reciprocal_ranks else 0\n",
    "    hit_rate = hits / total_users if total_users > 0 else 0\n",
    "\n",
    "    return {\n",
    "        'Precision': precision_score,\n",
    "        'Recall': recall_score,\n",
    "        'MRR': mrr_score,\n",
    "        'Hit Rate': hit_rate\n",
    "    }\n",
    "\n",
    "# Prepare actual add-to-cart properties (ground truth)\n",
    "actual_properties = merged_df_sample.groupby('visitorid')['property'].apply(list).to_dict()\n",
    "\n",
    "# Evaluate the predictions\n",
    "evaluation_results = evaluate_property_predictions(top_predicted_properties, actual_properties, N=5)\n",
    "\n",
    "# Display evaluation metrics\n",
    "print(\"Evaluation Results:\")\n",
    "for metric, score in evaluation_results.items():\n",
    "    print(f\"{metric}: {score:.4f}\")"
   ]
  },
  {
   "cell_type": "code",
   "execution_count": null,
   "metadata": {
    "id": "Gni2gLQ5QNkt"
   },
   "outputs": [],
   "source": []
  },
  {
   "cell_type": "markdown",
   "metadata": {
    "id": "c3gRBy8AQOww"
   },
   "source": [
    "### Task 2- Detecting Abnormal users"
   ]
  },
  {
   "cell_type": "code",
   "execution_count": null,
   "metadata": {
    "id": "55uStUQRQLwI"
   },
   "outputs": [],
   "source": [
    "import dask.dataframe as dd\n",
    "import numpy as np\n",
    "\n",
    "# Load events dataset (assuming it's in a CSV file or already a DataFrame)\n",
    "#events_df = dd.read_csv(\"events.csv\")\n",
    "\n",
    "# Convert timestamp to datetime format\n",
    "#events_df['timestamp'] = dd.to_datetime(events_df['timestamp'])\n",
    "\n",
    "# Define session ID based on time gaps (Assumption: 30-minute inactivity creates a new session)\n",
    "events_df1 = events_df.sort_values(['visitorid', 'timestamp'])\n",
    "events_df1['session_id'] = (events_df1['timestamp'].diff() > '30min').cumsum()\n",
    "\n",
    "# Aggregations per session\n",
    "session_features = events_df1.groupby(['visitorid', 'session_id']).agg({\n",
    "    'timestamp': [lambda x: (x.max() - x.min()).total_seconds(), 'count'],  # Session length & num events\n",
    "    'itemid': ['nunique'],  # Unique items per session\n",
    "    'event': [lambda x: (x == 'view').sum(),  # Views count\n",
    "              lambda x: (x == 'addtocart').sum(),  # Add-to-cart count\n",
    "              lambda x: (x == 'transaction').sum()]  # Purchase count\n",
    "}).reset_index()\n",
    "\n",
    "# Rename columns\n",
    "session_features.columns = ['visitorid', 'session_id', 'session_length', 'num_events',\n",
    "                            'unique_items', 'num_views', 'num_add_to_cart', 'num_purchases']\n",
    "\n",
    "# Compute ratio features\n",
    "session_features['views_to_cart_ratio'] = session_features['num_views'] / (session_features['num_add_to_cart'] + 1)\n",
    "session_features['cart_to_purchase_ratio'] = session_features['num_add_to_cart'] / (session_features['num_purchases'] + 1)\n",
    "\n",
    "# Compute user-level aggregations\n",
    "user_features = session_features.groupby('visitorid').agg({\n",
    "    'session_id': 'count',  # Total sessions\n",
    "    'num_events': 'sum',  # Total events\n",
    "    'num_views': 'sum',\n",
    "    'num_add_to_cart': 'sum',\n",
    "    'num_purchases': 'sum',\n",
    "    'unique_items': 'mean',  # Average unique items per session\n",
    "    'views_to_cart_ratio': 'mean',\n",
    "    'cart_to_purchase_ratio': 'mean'\n",
    "}).reset_index()\n",
    "\n",
    "# Rename columns\n",
    "user_features.columns = ['visitorid', 'total_sessions', 'total_events', 'total_views', 'total_add_to_cart',\n",
    "                         'total_purchases', 'avg_unique_items', 'avg_views_to_cart_ratio', 'avg_cart_to_purchase_ratio']\n",
    "\n",
    "# Save user features to a file\n",
    "user_features.to_csv(\"user_features.csv\", index=False)\n",
    "\n",
    "print(\"Feature extraction complete! Saved as user_features.csv\")\n"
   ]
  },
  {
   "cell_type": "markdown",
   "metadata": {
    "id": "Q_kzzbQhprRv"
   },
   "source": []
  }
 ],
 "metadata": {
  "accelerator": "GPU",
  "colab": {
   "collapsed_sections": [
    "yNq4dmF_kRKE"
   ],
   "gpuType": "T4",
   "provenance": []
  },
  "kernelspec": {
   "display_name": "Python 3 (ipykernel)",
   "language": "python",
   "name": "python3"
  },
  "language_info": {
   "codemirror_mode": {
    "name": "ipython",
    "version": 3
   },
   "file_extension": ".py",
   "mimetype": "text/x-python",
   "name": "python",
   "nbconvert_exporter": "python",
   "pygments_lexer": "ipython3",
   "version": "3.11.5"
  }
 },
 "nbformat": 4,
 "nbformat_minor": 4
}
