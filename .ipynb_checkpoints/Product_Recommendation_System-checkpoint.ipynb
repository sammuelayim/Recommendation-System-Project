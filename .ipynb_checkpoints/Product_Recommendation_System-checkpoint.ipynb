{
 "cells": [
  {
   "cell_type": "code",
   "execution_count": 1,
   "id": "aa83f41e-111d-4287-bd84-f7b9ea114217",
   "metadata": {
    "tags": []
   },
   "outputs": [],
   "source": [
    "import pandas as pd\n",
    "import numpy as np\n",
    "import matplotlib.pyplot as plt\n",
    "import seaborn as sns\n"
   ]
  },
  {
   "cell_type": "code",
   "execution_count": 11,
   "id": "e4a29178-adf7-4c55-85f6-4439dd8b18bc",
   "metadata": {
    "tags": []
   },
   "outputs": [
    {
     "name": "stderr",
     "output_type": "stream",
     "text": [
      "C:\\Users\\sammu\\AppData\\Local\\Temp\\ipykernel_17228\\1828354493.py:14: DtypeWarning: Columns (0,1) have mixed types. Specify dtype option on import or set low_memory=False.\n",
      "  items_part2 = pd.read_csv(os.path.join(base_dir, \"item_properties_part2.csv\"), header=None)\n"
     ]
    },
    {
     "name": "stdout",
     "output_type": "stream",
     "text": [
      "Events Data:\n"
     ]
    },
    {
     "data": {
      "text/html": [
       "<div>\n",
       "<style scoped>\n",
       "    .dataframe tbody tr th:only-of-type {\n",
       "        vertical-align: middle;\n",
       "    }\n",
       "\n",
       "    .dataframe tbody tr th {\n",
       "        vertical-align: top;\n",
       "    }\n",
       "\n",
       "    .dataframe thead th {\n",
       "        text-align: right;\n",
       "    }\n",
       "</style>\n",
       "<table border=\"1\" class=\"dataframe\">\n",
       "  <thead>\n",
       "    <tr style=\"text-align: right;\">\n",
       "      <th></th>\n",
       "      <th>timestamp</th>\n",
       "      <th>visitorid</th>\n",
       "      <th>event</th>\n",
       "      <th>itemid</th>\n",
       "      <th>transactionid</th>\n",
       "    </tr>\n",
       "  </thead>\n",
       "  <tbody>\n",
       "    <tr>\n",
       "      <th>0</th>\n",
       "      <td>1433221332117</td>\n",
       "      <td>257597</td>\n",
       "      <td>view</td>\n",
       "      <td>355908</td>\n",
       "      <td>NaN</td>\n",
       "    </tr>\n",
       "    <tr>\n",
       "      <th>1</th>\n",
       "      <td>1433224214164</td>\n",
       "      <td>992329</td>\n",
       "      <td>view</td>\n",
       "      <td>248676</td>\n",
       "      <td>NaN</td>\n",
       "    </tr>\n",
       "    <tr>\n",
       "      <th>2</th>\n",
       "      <td>1433221999827</td>\n",
       "      <td>111016</td>\n",
       "      <td>view</td>\n",
       "      <td>318965</td>\n",
       "      <td>NaN</td>\n",
       "    </tr>\n",
       "    <tr>\n",
       "      <th>3</th>\n",
       "      <td>1433221955914</td>\n",
       "      <td>483717</td>\n",
       "      <td>view</td>\n",
       "      <td>253185</td>\n",
       "      <td>NaN</td>\n",
       "    </tr>\n",
       "    <tr>\n",
       "      <th>4</th>\n",
       "      <td>1433221337106</td>\n",
       "      <td>951259</td>\n",
       "      <td>view</td>\n",
       "      <td>367447</td>\n",
       "      <td>NaN</td>\n",
       "    </tr>\n",
       "  </tbody>\n",
       "</table>\n",
       "</div>"
      ],
      "text/plain": [
       "       timestamp  visitorid event  itemid  transactionid\n",
       "0  1433221332117     257597  view  355908            NaN\n",
       "1  1433224214164     992329  view  248676            NaN\n",
       "2  1433221999827     111016  view  318965            NaN\n",
       "3  1433221955914     483717  view  253185            NaN\n",
       "4  1433221337106     951259  view  367447            NaN"
      ]
     },
     "metadata": {},
     "output_type": "display_data"
    },
    {
     "name": "stdout",
     "output_type": "stream",
     "text": [
      "Combined Item Properties Data:\n"
     ]
    },
    {
     "data": {
      "text/html": [
       "<div>\n",
       "<style scoped>\n",
       "    .dataframe tbody tr th:only-of-type {\n",
       "        vertical-align: middle;\n",
       "    }\n",
       "\n",
       "    .dataframe tbody tr th {\n",
       "        vertical-align: top;\n",
       "    }\n",
       "\n",
       "    .dataframe thead th {\n",
       "        text-align: right;\n",
       "    }\n",
       "</style>\n",
       "<table border=\"1\" class=\"dataframe\">\n",
       "  <thead>\n",
       "    <tr style=\"text-align: right;\">\n",
       "      <th></th>\n",
       "      <th>timestamp</th>\n",
       "      <th>itemid</th>\n",
       "      <th>property</th>\n",
       "      <th>value</th>\n",
       "    </tr>\n",
       "  </thead>\n",
       "  <tbody>\n",
       "    <tr>\n",
       "      <th>0</th>\n",
       "      <td>1435460400000</td>\n",
       "      <td>460429</td>\n",
       "      <td>categoryid</td>\n",
       "      <td>1338</td>\n",
       "    </tr>\n",
       "    <tr>\n",
       "      <th>1</th>\n",
       "      <td>1441508400000</td>\n",
       "      <td>206783</td>\n",
       "      <td>888</td>\n",
       "      <td>1116713 960601 n277.200</td>\n",
       "    </tr>\n",
       "    <tr>\n",
       "      <th>2</th>\n",
       "      <td>1439089200000</td>\n",
       "      <td>395014</td>\n",
       "      <td>400</td>\n",
       "      <td>n552.000 639502 n720.000 424566</td>\n",
       "    </tr>\n",
       "    <tr>\n",
       "      <th>3</th>\n",
       "      <td>1431226800000</td>\n",
       "      <td>59481</td>\n",
       "      <td>790</td>\n",
       "      <td>n15360.000</td>\n",
       "    </tr>\n",
       "    <tr>\n",
       "      <th>4</th>\n",
       "      <td>1431831600000</td>\n",
       "      <td>156781</td>\n",
       "      <td>917</td>\n",
       "      <td>828513</td>\n",
       "    </tr>\n",
       "  </tbody>\n",
       "</table>\n",
       "</div>"
      ],
      "text/plain": [
       "       timestamp  itemid    property                            value\n",
       "0  1435460400000  460429  categoryid                             1338\n",
       "1  1441508400000  206783         888          1116713 960601 n277.200\n",
       "2  1439089200000  395014         400  n552.000 639502 n720.000 424566\n",
       "3  1431226800000   59481         790                       n15360.000\n",
       "4  1431831600000  156781         917                           828513"
      ]
     },
     "metadata": {},
     "output_type": "display_data"
    },
    {
     "name": "stdout",
     "output_type": "stream",
     "text": [
      "Category Tree Data:\n"
     ]
    },
    {
     "data": {
      "text/html": [
       "<div>\n",
       "<style scoped>\n",
       "    .dataframe tbody tr th:only-of-type {\n",
       "        vertical-align: middle;\n",
       "    }\n",
       "\n",
       "    .dataframe tbody tr th {\n",
       "        vertical-align: top;\n",
       "    }\n",
       "\n",
       "    .dataframe thead th {\n",
       "        text-align: right;\n",
       "    }\n",
       "</style>\n",
       "<table border=\"1\" class=\"dataframe\">\n",
       "  <thead>\n",
       "    <tr style=\"text-align: right;\">\n",
       "      <th></th>\n",
       "      <th>categoryid</th>\n",
       "      <th>parentid</th>\n",
       "    </tr>\n",
       "  </thead>\n",
       "  <tbody>\n",
       "    <tr>\n",
       "      <th>0</th>\n",
       "      <td>1016</td>\n",
       "      <td>213.0</td>\n",
       "    </tr>\n",
       "    <tr>\n",
       "      <th>1</th>\n",
       "      <td>809</td>\n",
       "      <td>169.0</td>\n",
       "    </tr>\n",
       "    <tr>\n",
       "      <th>2</th>\n",
       "      <td>570</td>\n",
       "      <td>9.0</td>\n",
       "    </tr>\n",
       "    <tr>\n",
       "      <th>3</th>\n",
       "      <td>1691</td>\n",
       "      <td>885.0</td>\n",
       "    </tr>\n",
       "    <tr>\n",
       "      <th>4</th>\n",
       "      <td>536</td>\n",
       "      <td>1691.0</td>\n",
       "    </tr>\n",
       "  </tbody>\n",
       "</table>\n",
       "</div>"
      ],
      "text/plain": [
       "   categoryid  parentid\n",
       "0        1016     213.0\n",
       "1         809     169.0\n",
       "2         570       9.0\n",
       "3        1691     885.0\n",
       "4         536    1691.0"
      ]
     },
     "metadata": {},
     "output_type": "display_data"
    }
   ],
   "source": [
    "import os\n",
    "\n",
    "# Define base directory\n",
    "base_dir = r\"C:\\Users\\sammu\\Downloads\\Recommendation System Project\"  # Change this if needed\n",
    "\n",
    "# Ensure the directory exists\n",
    "if not os.path.exists(base_dir):\n",
    "    print(f\"Error: The directory '{base_dir}' does not exist.\")\n",
    "else:\n",
    "    # Load datasets\n",
    "    try:\n",
    "        events_df = pd.read_csv(os.path.join(base_dir, \"events.csv\"))\n",
    "        items_part1 = pd.read_csv(os.path.join(base_dir, \"item_properties_part1.1.csv\"))\n",
    "        items_part2 = pd.read_csv(os.path.join(base_dir, \"item_properties_part2.csv\"), header=None)\n",
    "\n",
    "        # Ensure column names match between both parts\n",
    "        items_part2.columns = items_part1.columns\n",
    "\n",
    "        # Merge both parts\n",
    "        items_df = pd.concat([items_part1, items_part2], ignore_index=True)\n",
    "\n",
    "        # Save merged file for future use\n",
    "        items_df.to_csv(os.path.join(base_dir, \"item_properties.csv\"), index=False)\n",
    "\n",
    "        # Load categories data\n",
    "        categories_df = pd.read_csv(os.path.join(base_dir, \"category_tree.csv\"))\n",
    "\n",
    "        # Display first few rows\n",
    "        print(\"Events Data:\")\n",
    "        display(events_df.head())\n",
    "\n",
    "        print(\"Combined Item Properties Data:\")\n",
    "        display(items_df.head())\n",
    "\n",
    "        print(\"Category Tree Data:\")\n",
    "        display(categories_df.head())\n",
    "\n",
    "    except FileNotFoundError as e:\n",
    "        print(f\"Error: {e}\")\n",
    "    except Exception as e:\n",
    "        print(f\"Unexpected Error: {e}\")\n"
   ]
  },
  {
   "cell_type": "code",
   "execution_count": 9,
   "id": "71699d95-6a4f-4750-ae5d-1dd8719a6b5e",
   "metadata": {
    "tags": []
   },
   "outputs": [
    {
     "name": "stdout",
     "output_type": "stream",
     "text": [
      "['.ipynb_checkpoints', 'About Recommendation System Dataset.pdf', 'category_tree.csv', 'data', 'events.csv', 'item_properties_part1.1.csv', 'item_properties_part2.csv', 'notebooks', 'Recommendation System Project.docx', 'Recommendation-System-Project', 'reports', 'scripts', 'Untitled.ipynb', 'visualizations', '~$commendation System Project.docx']\n"
     ]
    }
   ],
   "source": [
    "import os\n",
    "print(os.listdir(base_dir))"
   ]
  },
  {
   "cell_type": "code",
   "execution_count": 13,
   "id": "b192248b-11d7-4e4b-8c70-c4d6f9b30cd0",
   "metadata": {
    "tags": []
   },
   "outputs": [
    {
     "name": "stdout",
     "output_type": "stream",
     "text": [
      "Missing values in events dataset:\n",
      "timestamp              0\n",
      "visitorid              0\n",
      "event                  0\n",
      "itemid                 0\n",
      "transactionid    2733644\n",
      "dtype: int64\n",
      "\n",
      "Missing values in items dataset:\n",
      "timestamp    0\n",
      "itemid       0\n",
      "property     0\n",
      "value        0\n",
      "dtype: int64\n",
      "\n",
      "Missing values in categories dataset:\n",
      "categoryid     0\n",
      "parentid      25\n",
      "dtype: int64\n"
     ]
    }
   ],
   "source": [
    "# Check missing values in all datasets\n",
    "print(\"Missing values in events dataset:\")\n",
    "print(events_df.isnull().sum())\n",
    "\n",
    "print(\"\\nMissing values in items dataset:\")\n",
    "print(items_df.isnull().sum())\n",
    "\n",
    "print(\"\\nMissing values in categories dataset:\")\n",
    "print(categories_df.isnull().sum())"
   ]
  },
  {
   "cell_type": "code",
   "execution_count": 15,
   "id": "b4101f12-af74-4caa-b6a9-061041f83ee3",
   "metadata": {
    "tags": []
   },
   "outputs": [
    {
     "name": "stdout",
     "output_type": "stream",
     "text": [
      "Events dataset shape: (2756101, 5)\n",
      "Item properties dataset shape: (20275903, 4)\n",
      "Category tree dataset shape: (1669, 2)\n",
      "\n",
      "Events dataset columns: Index(['timestamp', 'visitorid', 'event', 'itemid', 'transactionid'], dtype='object')\n",
      "\n",
      "Item properties dataset columns: Index(['timestamp', 'itemid', 'property', 'value'], dtype='object')\n",
      "\n",
      "Category tree dataset columns: Index(['categoryid', 'parentid'], dtype='object')\n"
     ]
    }
   ],
   "source": [
    "print(\"Events dataset shape:\", events_df.shape)\n",
    "print(\"Item properties dataset shape:\", items_df.shape)\n",
    "print(\"Category tree dataset shape:\", categories_df.shape)\n",
    "\n",
    "print(\"\\nEvents dataset columns:\", events_df.columns)\n",
    "print(\"\\nItem properties dataset columns:\", items_df.columns)\n",
    "print(\"\\nCategory tree dataset columns:\", categories_df.columns)"
   ]
  },
  {
   "cell_type": "markdown",
   "id": "0810ebd3-4212-438c-bf40-c545d22d5996",
   "metadata": {},
   "source": [
    "## 1️⃣Handling Missing Values\n",
    "### Events Dataset: Handling transactionid missing values\n",
    "\n",
    "#### The transactionid column is missing for views and add-to-cart events (which don’t involve transactions).\n",
    "\n",
    "#### Solution: Fill missing values with \"No Transaction\""
   ]
  },
  {
   "cell_type": "code",
   "execution_count": 18,
   "id": "3258407c-db81-48df-b7d6-ce23bfd302f6",
   "metadata": {
    "tags": []
   },
   "outputs": [],
   "source": [
    "# Fill missing transactionid values\n",
    "events_df[\"transactionid\"].fillna(\"No Transaction\", inplace=True)"
   ]
  },
  {
   "cell_type": "markdown",
   "id": "4df09dd4-2c8b-4a34-b407-ba541f5d0f67",
   "metadata": {},
   "source": [
    "## 2️⃣ Categories Dataset: Handling parentid missing values\n",
    "### parentid missing means the category is a top-level category\n",
    "### Solution: Fill missing parentid values with \"Root\""
   ]
  },
  {
   "cell_type": "code",
   "execution_count": 24,
   "id": "6776852f-366d-41c4-9db0-2b7f0f1305c6",
   "metadata": {
    "tags": []
   },
   "outputs": [],
   "source": [
    "# Fill missing parentid with \"Root\"\n",
    "categories_df[\"parentid\"].fillna(\"Root\", inplace=True)"
   ]
  },
  {
   "cell_type": "markdown",
   "id": "c0b97c15-5daa-4be5-8086-48dabc9bbef6",
   "metadata": {},
   "source": [
    "### Converting timestamp to Datetime Format"
   ]
  },
  {
   "cell_type": "code",
   "execution_count": 32,
   "id": "b2e04b89-0337-4833-a806-bb6a4eb9db6e",
   "metadata": {
    "tags": []
   },
   "outputs": [
    {
     "name": "stdout",
     "output_type": "stream",
     "text": [
      "✅ Timestamp conversion successful!\n"
     ]
    }
   ],
   "source": [
    "# Convert timestamp column to numeric format\n",
    "events_df[\"timestamp\"] = pd.to_numeric(events_df[\"timestamp\"], errors=\"coerce\")\n",
    "items_df[\"timestamp\"] = pd.to_numeric(items_df[\"timestamp\"], errors=\"coerce\")\n",
    "\n",
    "# Convert from milliseconds to seconds\n",
    "events_df[\"timestamp\"] = events_df[\"timestamp\"] // 1000\n",
    "items_df[\"timestamp\"] = items_df[\"timestamp\"] // 1000\n",
    "\n",
    "# Define valid timestamp range (2010 - 2030)\n",
    "valid_min = 1262304000  # 2010-01-01\n",
    "valid_max = 1924992000  # 2030-12-31\n",
    "\n",
    "# Filter out invalid timestamps\n",
    "events_df = events_df[(events_df[\"timestamp\"] >= valid_min) & (events_df[\"timestamp\"] <= valid_max)]\n",
    "items_df = items_df[(items_df[\"timestamp\"] >= valid_min) & (items_df[\"timestamp\"] <= valid_max)]\n",
    "\n",
    "# Convert timestamps to datetime format\n",
    "events_df[\"timestamp\"] = pd.to_datetime(events_df[\"timestamp\"], unit=\"s\")\n",
    "items_df[\"timestamp\"] = pd.to_datetime(items_df[\"timestamp\"], unit=\"s\")\n",
    "\n",
    "print(\"✅ Timestamp conversion successful!\")"
   ]
  },
  {
   "cell_type": "markdown",
   "id": "ea857f51-f9b6-4b6c-8189-80ae7298e58d",
   "metadata": {},
   "source": [
    "## Map Event Types to Numeric Values\n",
    "### For better processing, let's convert event types into numbers:\n",
    "\n",
    "### Event Type → Numeric Value\n",
    "### View → 1\n",
    "### Add to Cart → 2\n",
    "### Purchase → 3"
   ]
  },
  {
   "cell_type": "code",
   "execution_count": 36,
   "id": "107cd462-3fd5-4480-ac75-24cd17e6a967",
   "metadata": {
    "tags": []
   },
   "outputs": [],
   "source": [
    "event_mapping = {\"view\": 1, \"addtocart\": 2, \"transaction\": 3}\n",
    "events_df[\"event\"] = events_df[\"event\"].map(event_mapping)\n"
   ]
  },
  {
   "cell_type": "markdown",
   "id": "fe258fb3-072d-436a-80c8-20b08dad4282",
   "metadata": {},
   "source": [
    "### Pivoting Item Properties for Better Analysis\n",
    "#### Goal: Convert property column into multiple columns (one for each attribute)."
   ]
  },
  {
   "cell_type": "code",
   "execution_count": 41,
   "id": "4f8d16a7-29f9-4a7c-a234-60a7c7ffba39",
   "metadata": {
    "tags": []
   },
   "outputs": [
    {
     "name": "stdout",
     "output_type": "stream",
     "text": [
      "Duplicate Entries Found:             timestamp  itemid   property                            value\n",
      "1 2015-09-06 03:00:00  206783        888          1116713 960601 n277.200\n",
      "2 2015-08-09 03:00:00  395014        400  n552.000 639502 n720.000 424566\n",
      "3 2015-05-10 03:00:00   59481        790                       n15360.000\n",
      "5 2015-07-05 03:00:00  285026  available                                0\n",
      "9 2015-06-14 03:00:00   98113        451                  1141052 n48.000\n",
      "✅ Pivot successful! Shape of new dataframe: (527365, 1105)\n"
     ]
    },
    {
     "data": {
      "text/html": [
       "<div>\n",
       "<style scoped>\n",
       "    .dataframe tbody tr th:only-of-type {\n",
       "        vertical-align: middle;\n",
       "    }\n",
       "\n",
       "    .dataframe tbody tr th {\n",
       "        vertical-align: top;\n",
       "    }\n",
       "\n",
       "    .dataframe thead th {\n",
       "        text-align: right;\n",
       "    }\n",
       "</style>\n",
       "<table border=\"1\" class=\"dataframe\">\n",
       "  <thead>\n",
       "    <tr style=\"text-align: right;\">\n",
       "      <th>property</th>\n",
       "      <th>itemid</th>\n",
       "      <th>0</th>\n",
       "      <th>1</th>\n",
       "      <th>10</th>\n",
       "      <th>100</th>\n",
       "      <th>1000</th>\n",
       "      <th>1001</th>\n",
       "      <th>1002</th>\n",
       "      <th>1003</th>\n",
       "      <th>1004</th>\n",
       "      <th>...</th>\n",
       "      <th>992</th>\n",
       "      <th>993</th>\n",
       "      <th>994</th>\n",
       "      <th>995</th>\n",
       "      <th>996</th>\n",
       "      <th>997</th>\n",
       "      <th>998</th>\n",
       "      <th>999</th>\n",
       "      <th>available</th>\n",
       "      <th>categoryid</th>\n",
       "    </tr>\n",
       "  </thead>\n",
       "  <tbody>\n",
       "    <tr>\n",
       "      <th>0</th>\n",
       "      <td>0</td>\n",
       "      <td>NaN</td>\n",
       "      <td>NaN</td>\n",
       "      <td>NaN</td>\n",
       "      <td>NaN</td>\n",
       "      <td>NaN</td>\n",
       "      <td>NaN</td>\n",
       "      <td>NaN</td>\n",
       "      <td>NaN</td>\n",
       "      <td>NaN</td>\n",
       "      <td>...</td>\n",
       "      <td>NaN</td>\n",
       "      <td>NaN</td>\n",
       "      <td>NaN</td>\n",
       "      <td>NaN</td>\n",
       "      <td>NaN</td>\n",
       "      <td>NaN</td>\n",
       "      <td>NaN</td>\n",
       "      <td>NaN</td>\n",
       "      <td>0</td>\n",
       "      <td>209</td>\n",
       "    </tr>\n",
       "    <tr>\n",
       "      <th>1</th>\n",
       "      <td>1</td>\n",
       "      <td>769062</td>\n",
       "      <td>NaN</td>\n",
       "      <td>NaN</td>\n",
       "      <td>NaN</td>\n",
       "      <td>NaN</td>\n",
       "      <td>NaN</td>\n",
       "      <td>NaN</td>\n",
       "      <td>NaN</td>\n",
       "      <td>NaN</td>\n",
       "      <td>...</td>\n",
       "      <td>NaN</td>\n",
       "      <td>NaN</td>\n",
       "      <td>NaN</td>\n",
       "      <td>NaN</td>\n",
       "      <td>NaN</td>\n",
       "      <td>NaN</td>\n",
       "      <td>NaN</td>\n",
       "      <td>NaN</td>\n",
       "      <td>0</td>\n",
       "      <td>1114</td>\n",
       "    </tr>\n",
       "    <tr>\n",
       "      <th>2</th>\n",
       "      <td>2</td>\n",
       "      <td>NaN</td>\n",
       "      <td>NaN</td>\n",
       "      <td>NaN</td>\n",
       "      <td>NaN</td>\n",
       "      <td>NaN</td>\n",
       "      <td>NaN</td>\n",
       "      <td>NaN</td>\n",
       "      <td>NaN</td>\n",
       "      <td>NaN</td>\n",
       "      <td>...</td>\n",
       "      <td>NaN</td>\n",
       "      <td>NaN</td>\n",
       "      <td>NaN</td>\n",
       "      <td>NaN</td>\n",
       "      <td>NaN</td>\n",
       "      <td>NaN</td>\n",
       "      <td>NaN</td>\n",
       "      <td>NaN</td>\n",
       "      <td>0</td>\n",
       "      <td>1305</td>\n",
       "    </tr>\n",
       "    <tr>\n",
       "      <th>3</th>\n",
       "      <td>3</td>\n",
       "      <td>NaN</td>\n",
       "      <td>NaN</td>\n",
       "      <td>NaN</td>\n",
       "      <td>NaN</td>\n",
       "      <td>NaN</td>\n",
       "      <td>NaN</td>\n",
       "      <td>NaN</td>\n",
       "      <td>NaN</td>\n",
       "      <td>NaN</td>\n",
       "      <td>...</td>\n",
       "      <td>NaN</td>\n",
       "      <td>NaN</td>\n",
       "      <td>NaN</td>\n",
       "      <td>NaN</td>\n",
       "      <td>NaN</td>\n",
       "      <td>NaN</td>\n",
       "      <td>NaN</td>\n",
       "      <td>NaN</td>\n",
       "      <td>0</td>\n",
       "      <td>1171</td>\n",
       "    </tr>\n",
       "    <tr>\n",
       "      <th>4</th>\n",
       "      <td>4</td>\n",
       "      <td>NaN</td>\n",
       "      <td>NaN</td>\n",
       "      <td>NaN</td>\n",
       "      <td>NaN</td>\n",
       "      <td>NaN</td>\n",
       "      <td>NaN</td>\n",
       "      <td>NaN</td>\n",
       "      <td>NaN</td>\n",
       "      <td>NaN</td>\n",
       "      <td>...</td>\n",
       "      <td>NaN</td>\n",
       "      <td>NaN</td>\n",
       "      <td>NaN</td>\n",
       "      <td>NaN</td>\n",
       "      <td>NaN</td>\n",
       "      <td>NaN</td>\n",
       "      <td>NaN</td>\n",
       "      <td>NaN</td>\n",
       "      <td>0</td>\n",
       "      <td>1038</td>\n",
       "    </tr>\n",
       "  </tbody>\n",
       "</table>\n",
       "<p>5 rows × 1105 columns</p>\n",
       "</div>"
      ],
      "text/plain": [
       "property itemid       0    1   10  100 1000 1001 1002 1003 1004  ...  992  \\\n",
       "0             0     NaN  NaN  NaN  NaN  NaN  NaN  NaN  NaN  NaN  ...  NaN   \n",
       "1             1  769062  NaN  NaN  NaN  NaN  NaN  NaN  NaN  NaN  ...  NaN   \n",
       "2             2     NaN  NaN  NaN  NaN  NaN  NaN  NaN  NaN  NaN  ...  NaN   \n",
       "3             3     NaN  NaN  NaN  NaN  NaN  NaN  NaN  NaN  NaN  ...  NaN   \n",
       "4             4     NaN  NaN  NaN  NaN  NaN  NaN  NaN  NaN  NaN  ...  NaN   \n",
       "\n",
       "property  993  994  995  996  997  998  999 available categoryid  \n",
       "0         NaN  NaN  NaN  NaN  NaN  NaN  NaN         0        209  \n",
       "1         NaN  NaN  NaN  NaN  NaN  NaN  NaN         0       1114  \n",
       "2         NaN  NaN  NaN  NaN  NaN  NaN  NaN         0       1305  \n",
       "3         NaN  NaN  NaN  NaN  NaN  NaN  NaN         0       1171  \n",
       "4         NaN  NaN  NaN  NaN  NaN  NaN  NaN         0       1038  \n",
       "\n",
       "[5 rows x 1105 columns]"
      ]
     },
     "metadata": {},
     "output_type": "display_data"
    }
   ],
   "source": [
    "# Check for duplicate item-property pairs\n",
    "duplicate_entries = items_df.duplicated(subset=[\"itemid\", \"property\"], keep=False)\n",
    "print(\"Duplicate Entries Found:\", items_df[duplicate_entries].head())\n",
    "\n",
    "# Resolve duplicates by keeping the latest value\n",
    "items_df = items_df.groupby([\"itemid\", \"property\"]).agg({\"value\": \"last\"}).reset_index()\n",
    "\n",
    "# Pivot the cleaned dataset\n",
    "items_pivot = items_df.pivot(index=\"itemid\", columns=\"property\", values=\"value\").reset_index()\n",
    "\n",
    "print(\"✅ Pivot successful! Shape of new dataframe:\", items_pivot.shape)\n",
    "display(items_pivot.head())\n"
   ]
  },
  {
   "cell_type": "markdown",
   "id": "6624f3c7-1660-4df6-85db-a7413906c28d",
   "metadata": {},
   "source": [
    "### Many columns have NaN values due to missing property values for certain items.\n",
    "##### Filling missing values with appropriate defaults:"
   ]
  },
  {
   "cell_type": "code",
   "execution_count": 47,
   "id": "71454798-1d77-4bc8-8834-ec17694f66cb",
   "metadata": {
    "tags": []
   },
   "outputs": [],
   "source": [
    "items_pivot.fillna(\"Unknown\", inplace=True)  # Use \"Unknown\" for categorical data\n",
    "# OR\n",
    "items_pivot.fillna(0, inplace=True)  # Use 0 for numerical data"
   ]
  },
  {
   "cell_type": "code",
   "execution_count": 49,
   "id": "edbb5b95-0f6b-4e61-9803-f7e8f4ae993c",
   "metadata": {
    "tags": []
   },
   "outputs": [],
   "source": [
    "# Example: If you have a mapping dictionary\n",
    "property_mapping = {0: \"Color\", 1: \"Size\", 10: \"Material\"}  # Update with actual mappings\n",
    "items_pivot.rename(columns=property_mapping, inplace=True)\n"
   ]
  },
  {
   "cell_type": "code",
   "execution_count": 51,
   "id": "b82a6e4c-d91d-4a60-aba8-936fbf803f51",
   "metadata": {
    "tags": []
   },
   "outputs": [
    {
     "name": "stdout",
     "output_type": "stream",
     "text": [
      "<class 'pandas.core.frame.DataFrame'>\n",
      "RangeIndex: 527365 entries, 0 to 527364\n",
      "Columns: 1105 entries, itemid to categoryid\n",
      "dtypes: object(1105)\n",
      "memory usage: 4.3+ GB\n",
      "None\n",
      "property itemid        0        1       10      100     1000     1001  \\\n",
      "0             0  Unknown  Unknown  Unknown  Unknown  Unknown  Unknown   \n",
      "1             1   769062  Unknown  Unknown  Unknown  Unknown  Unknown   \n",
      "2             2  Unknown  Unknown  Unknown  Unknown  Unknown  Unknown   \n",
      "3             3  Unknown  Unknown  Unknown  Unknown  Unknown  Unknown   \n",
      "4             4  Unknown  Unknown  Unknown  Unknown  Unknown  Unknown   \n",
      "\n",
      "property     1002     1003     1004  ...      992      993      994      995  \\\n",
      "0         Unknown  Unknown  Unknown  ...  Unknown  Unknown  Unknown  Unknown   \n",
      "1         Unknown  Unknown  Unknown  ...  Unknown  Unknown  Unknown  Unknown   \n",
      "2         Unknown  Unknown  Unknown  ...  Unknown  Unknown  Unknown  Unknown   \n",
      "3         Unknown  Unknown  Unknown  ...  Unknown  Unknown  Unknown  Unknown   \n",
      "4         Unknown  Unknown  Unknown  ...  Unknown  Unknown  Unknown  Unknown   \n",
      "\n",
      "property      996      997      998      999 available categoryid  \n",
      "0         Unknown  Unknown  Unknown  Unknown         0        209  \n",
      "1         Unknown  Unknown  Unknown  Unknown         0       1114  \n",
      "2         Unknown  Unknown  Unknown  Unknown         0       1305  \n",
      "3         Unknown  Unknown  Unknown  Unknown         0       1171  \n",
      "4         Unknown  Unknown  Unknown  Unknown         0       1038  \n",
      "\n",
      "[5 rows x 1105 columns]\n"
     ]
    }
   ],
   "source": [
    "print(items_pivot.info())  # Check column data types\n",
    "print(items_pivot.head())  # Preview cleaned dataset"
   ]
  },
  {
   "cell_type": "code",
   "execution_count": null,
   "id": "3fd161e1-9361-4617-8dee-e713553c20b1",
   "metadata": {},
   "outputs": [],
   "source": []
  }
 ],
 "metadata": {
  "kernelspec": {
   "display_name": "Python 3 (ipykernel)",
   "language": "python",
   "name": "python3"
  },
  "language_info": {
   "codemirror_mode": {
    "name": "ipython",
    "version": 3
   },
   "file_extension": ".py",
   "mimetype": "text/x-python",
   "name": "python",
   "nbconvert_exporter": "python",
   "pygments_lexer": "ipython3",
   "version": "3.11.5"
  }
 },
 "nbformat": 4,
 "nbformat_minor": 5
}
